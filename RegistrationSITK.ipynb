{
 "cells": [
  {
   "cell_type": "markdown",
   "metadata": {
    "id": "tAGNUf3XOa74"
   },
   "source": [
    "# Linking to Google Drive"
   ]
  },
  {
   "cell_type": "code",
   "execution_count": null,
   "metadata": {
    "colab": {
     "base_uri": "https://localhost:8080/"
    },
    "id": "hr3N6l8oJ7SP",
    "outputId": "8eb2d488-ff8a-4df8-903a-238383bc9257"
   },
   "outputs": [
    {
     "name": "stdout",
     "output_type": "stream",
     "text": [
      "Mounted at /content/drive\n"
     ]
    }
   ],
   "source": [
    "from google.colab import drive \n",
    "\n",
    "drive.mount('/content/drive')\n"
   ]
  },
  {
   "cell_type": "code",
   "execution_count": null,
   "metadata": {
    "colab": {
     "base_uri": "https://localhost:8080/"
    },
    "id": "GG_pS9dvOeam",
    "outputId": "2bef1041-1e74-463d-93d8-c7ceadf23492"
   },
   "outputs": [
    {
     "name": "stdout",
     "output_type": "stream",
     "text": [
      "/content/drive/My Drive/skillsEval/skillsEval\n"
     ]
    }
   ],
   "source": [
    "cd /content/drive/My Drive/skillsEval/skillsEval"
   ]
  },
  {
   "cell_type": "markdown",
   "metadata": {
    "id": "aVJAg3qzOjJC"
   },
   "source": [
    "# Importing Important Libraries"
   ]
  },
  {
   "cell_type": "code",
   "execution_count": null,
   "metadata": {
    "colab": {
     "base_uri": "https://localhost:8080/"
    },
    "id": "eVlUPfTaXc0D",
    "outputId": "c7cd9af9-e716-4d4c-9a19-7476df5de1d0"
   },
   "outputs": [
    {
     "name": "stdout",
     "output_type": "stream",
     "text": [
      "Collecting simpleitk\n",
      "  Downloading SimpleITK-2.1.1-cp37-cp37m-manylinux_2_12_x86_64.manylinux2010_x86_64.whl (48.4 MB)\n",
      "\u001b[K     |████████████████████████████████| 48.4 MB 22 kB/s \n",
      "\u001b[?25hInstalling collected packages: simpleitk\n",
      "Successfully installed simpleitk-2.1.1\n"
     ]
    }
   ],
   "source": [
    "!pip install simpleitk"
   ]
  },
  {
   "cell_type": "code",
   "execution_count": null,
   "metadata": {
    "id": "yOMe6qhtQFjU"
   },
   "outputs": [],
   "source": [
    "import SimpleITK as sitk\n",
    "#from downloaddata import fetch_data as fdata\n",
    "%matplotlib nbagg\n",
    "\n",
    "import numpy as np\n",
    "import os\n"
   ]
  },
  {
   "cell_type": "code",
   "execution_count": null,
   "metadata": {
    "id": "VkY3D87R_ivd"
   },
   "outputs": [],
   "source": [
    "run gui.py"
   ]
  },
  {
   "cell_type": "code",
   "execution_count": null,
   "metadata": {
    "id": "PgGVx5wd_l5L"
   },
   "outputs": [],
   "source": [
    "run registration_gui.py"
   ]
  },
  {
   "cell_type": "markdown",
   "metadata": {
    "id": "tyQZnZ0Q5XNE"
   },
   "source": [
    "**Utility functions** \n",
    "\n",
    "A number of utility callback functions for image display and for plotting the similarity metric during registration.\n",
    "\n"
   ]
  },
  {
   "cell_type": "code",
   "execution_count": null,
   "metadata": {
    "id": "ju0yNoLs5AEF"
   },
   "outputs": [],
   "source": [
    "%matplotlib inline\n",
    "import matplotlib.pyplot as plt\n",
    "\n",
    "from ipywidgets import interact, fixed\n",
    "from IPython.display import clear_output\n",
    "\n",
    "# Callback invoked by the interact IPython method for scrolling through the image stacks of\n",
    "# the two images (moving and fixed).\n",
    "def display_images(fixed_image_z, moving_image_z, fixed_npa, moving_npa):\n",
    "    # Create a figure with two subplots and the specified size.\n",
    "    plt.subplots(1,2,figsize=(10,8))\n",
    "    \n",
    "    # Draw the fixed image in the first subplot.\n",
    "    plt.subplot(1,2,1)\n",
    "    plt.imshow(fixed_npa[fixed_image_z,:,:],cmap=plt.cm.Greys_r);\n",
    "    plt.title('fixed image')\n",
    "    plt.axis('off')\n",
    "    \n",
    "    # Draw the moving image in the second subplot.\n",
    "    plt.subplot(1,2,2)\n",
    "    plt.imshow(moving_npa[moving_image_z,:,:],cmap=plt.cm.Greys_r);\n",
    "    plt.title('moving image')\n",
    "    plt.axis('off')\n",
    "    \n",
    "    plt.show()\n",
    "\n",
    "# Callback invoked by the IPython interact method for scrolling and modifying the alpha blending\n",
    "# of an image stack of two images that occupy the same physical space. \n",
    "def display_images_with_alpha(image_z, alpha, fixed, moving):\n",
    "    img = (1.0 - alpha)*fixed[:,:,image_z] + alpha*moving[:,:,image_z] \n",
    "    plt.imshow(sitk.GetArrayViewFromImage(img),cmap=plt.cm.Greys_r);\n",
    "    plt.axis('off')\n",
    "    plt.show()\n",
    "    \n",
    "# Callback invoked when the StartEvent happens, sets up our new data.\n",
    "def start_plot():\n",
    "    global metric_values, multires_iterations\n",
    "    \n",
    "    metric_values = []\n",
    "    multires_iterations = []\n",
    "\n",
    "# Callback invoked when the EndEvent happens, do cleanup of data and figure.\n",
    "def end_plot():\n",
    "    global metric_values, multires_iterations\n",
    "    \n",
    "    del metric_values\n",
    "    del multires_iterations\n",
    "    # Close figure, we don't want to get a duplicate of the plot latter on.\n",
    "    plt.close()\n",
    "\n",
    "# Callback invoked when the IterationEvent happens, update our data and display new figure.\n",
    "def plot_values(registration_method):\n",
    "    global metric_values, multires_iterations\n",
    "    \n",
    "    metric_values.append(registration_method.GetMetricValue())                                       \n",
    "    # Clear the output area (wait=True, to reduce flickering), and plot current data\n",
    "    clear_output(wait=True)\n",
    "    # Plot the similarity metric values\n",
    "    plt.plot(metric_values, 'r')\n",
    "    plt.plot(multires_iterations, [metric_values[index] for index in multires_iterations], 'b*')\n",
    "    plt.xlabel('Iteration Number',fontsize=12)\n",
    "    plt.ylabel('Metric Value',fontsize=12)\n",
    "    plt.show()\n",
    "    \n",
    "# Callback invoked when the sitkMultiResolutionIterationEvent happens, update the index into the \n",
    "# metric_values list. \n",
    "def update_multires_iterations():\n",
    "    global metric_values, multires_iterations\n",
    "    multires_iterations.append(len(metric_values))"
   ]
  },
  {
   "cell_type": "markdown",
   "metadata": {
    "id": "sF7uct7YO-OI"
   },
   "source": [
    "# Reading the Images"
   ]
  },
  {
   "cell_type": "markdown",
   "metadata": {
    "id": "b6z05zP6VK7k"
   },
   "source": [
    "I first read the images and then visualised "
   ]
  },
  {
   "cell_type": "code",
   "execution_count": null,
   "metadata": {
    "colab": {
     "base_uri": "https://localhost:8080/",
     "height": 365,
     "referenced_widgets": [
      "b64c8d06c16e4be5ae2c03bfa12fa94c",
      "e083d091b26d4f55befffb64f0030406",
      "541d981b2f6041aab7f9d094227b7095",
      "fc81ee089af245cb957ae3a86b8f0cdb",
      "f98eeb8974e44797b1548ad2f976320e",
      "35f8a61c988544819488367f735e739e",
      "3df6470226c8433cb9a5a1e612115b40",
      "210a40cf9a51420b9f5faa58ee09c734",
      "de0ea08de4e34eff9111383bad58677f",
      "29fc51951ee24e8cb26519ef99a90d5e"
     ]
    },
    "id": "nsFBTGnH79s5",
    "outputId": "3950de1e-323b-467e-8d49-4a269b1d3757"
   },
   "outputs": [
    {
     "data": {
      "application/vnd.jupyter.widget-view+json": {
       "model_id": "b64c8d06c16e4be5ae2c03bfa12fa94c",
       "version_major": 2,
       "version_minor": 0
      },
      "text/plain": [
       "interactive(children=(IntSlider(value=14, description='fixed_image_z', max=28), IntSlider(value=12, descriptio…"
      ]
     },
     "metadata": {},
     "output_type": "display_data"
    }
   ],
   "source": [
    "fixed_image =  sitk.ReadImage((\"ct.mha\"), sitk.sitkFloat32)\n",
    "moving_image = sitk.ReadImage((\"mr.mha\"), sitk.sitkFloat32) \n",
    "\n",
    "interact(display_images, fixed_image_z=(0,fixed_image.GetSize()[2]-1), moving_image_z=(0,moving_image.GetSize()[2]-1), \n",
    "         fixed_npa = fixed(sitk.GetArrayViewFromImage(fixed_image)), moving_npa=fixed(sitk.GetArrayViewFromImage(moving_image)));"
   ]
  },
  {
   "cell_type": "markdown",
   "metadata": {
    "id": "Mk7LnQi9Vck6"
   },
   "source": [
    "# Initialization"
   ]
  },
  {
   "cell_type": "markdown",
   "metadata": {
    "id": "uI9qcRe6V24_"
   },
   "source": [
    "I am applying CenteredTransformInitializer Filter of both the types i.e GEOMETRY and MOMENTS"
   ]
  },
  {
   "cell_type": "code",
   "execution_count": null,
   "metadata": {
    "id": "E1l9IPpZWuA_"
   },
   "outputs": [],
   "source": [
    "initial_transform_1 = sitk.CenteredTransformInitializer(fixed_image, \n",
    "                                                      moving_image, \n",
    "                                                      sitk.Euler3DTransform(), \n",
    "                                                      sitk.CenteredTransformInitializerFilter.GEOMETRY)\n",
    "\n",
    "moving_resampled_1 = sitk.Resample(moving_image, fixed_image, initial_transform_1, sitk.sitkLinear, 0.0, moving_image.GetPixelID())\n",
    "\n",
    "#interact(display_images_with_alpha, image_z=(0,fixed_image.GetSize()[2]-1), alpha=(0.0,1.0,0.05), fixed = fixed(fixed_image), moving=fixed(moving_resampled));\n"
   ]
  },
  {
   "cell_type": "code",
   "execution_count": null,
   "metadata": {
    "id": "WbOpbPhFWdvd"
   },
   "outputs": [],
   "source": [
    "initial_transform_2 = sitk.CenteredTransformInitializer(fixed_image, \n",
    "                                                      moving_image, \n",
    "                                                      sitk.Euler3DTransform(), \n",
    "                                                      sitk.CenteredTransformInitializerFilter.MOMENTS)\n",
    "\n",
    "moving_resampled_2 = sitk.Resample(moving_image, fixed_image, initial_transform_2, sitk.sitkLinear, 0.0, moving_image.GetPixelID())"
   ]
  },
  {
   "cell_type": "markdown",
   "metadata": {
    "id": "7WNwKTW-W01o"
   },
   "source": [
    "# Registration"
   ]
  },
  {
   "cell_type": "markdown",
   "metadata": {
    "id": "zKHVkn7DYinI"
   },
   "source": [
    "For Metric MattesMutualInformation  and GEOMETRY Initialiser "
   ]
  },
  {
   "cell_type": "code",
   "execution_count": null,
   "metadata": {
    "colab": {
     "base_uri": "https://localhost:8080/",
     "height": 282
    },
    "id": "4cyVr9062vLL",
    "outputId": "2a02963f-cf29-4a1e-8c77-2935b615bd9a"
   },
   "outputs": [
    {
     "data": {
      "image/png": "[encoded data removed]",
      "text/plain": [
       "<Figure size 432x288 with 1 Axes>"
      ]
     },
     "metadata": {
      "needs_background": "light"
     },
     "output_type": "display_data"
    }
   ],
   "source": [
    "registration_method_1 = sitk.ImageRegistrationMethod()\n",
    "\n",
    "# Similarity metric settings, mutual information (Mattes MI)\n",
    "registration_method_1.SetMetricAsMattesMutualInformation(numberOfHistogramBins=50)\n",
    "registration_method_1.SetMetricSamplingStrategy(registration_method_1.RANDOM)\n",
    "registration_method_1.SetMetricSamplingPercentage(0.01)\n",
    "\n",
    "registration_method_1.SetInterpolator(sitk.sitkLinear)\n",
    "\n",
    "# Optimizer settings.\n",
    "registration_method_1.SetOptimizerAsGradientDescent(learningRate=1.0, numberOfIterations=100, convergenceMinimumValue=1e-6, convergenceWindowSize=10)\n",
    "registration_method_1.SetOptimizerScalesFromPhysicalShift()\n",
    "\n",
    "# Setup for the multi-resolution framework.            \n",
    "registration_method_1.SetShrinkFactorsPerLevel(shrinkFactors = [4,2,1])\n",
    "registration_method_1.SetSmoothingSigmasPerLevel(smoothingSigmas=[2,1,0])\n",
    "registration_method_1.SmoothingSigmasAreSpecifiedInPhysicalUnitsOn()\n",
    "\n",
    "# Don't optimize in-place, we would possibly like to run this cell multiple times.\n",
    "registration_method_1.SetInitialTransform(initial_transform_1, inPlace=False)\n",
    "\n",
    "# Connect all of the observers so that we can perform plotting during registration.\n",
    "registration_method_1.AddCommand(sitk.sitkStartEvent, start_plot)\n",
    "registration_method_1.AddCommand(sitk.sitkEndEvent, end_plot)\n",
    "registration_method_1.AddCommand(sitk.sitkMultiResolutionIterationEvent, update_multires_iterations) \n",
    "registration_method_1.AddCommand(sitk.sitkIterationEvent, lambda: plot_values(registration_method_1))\n",
    "\n",
    "final_transform_1 = registration_method_1.Execute(sitk.Cast(fixed_image, sitk.sitkFloat32), \n",
    "                                               sitk.Cast(moving_image, sitk.sitkFloat32))"
   ]
  },
  {
   "cell_type": "markdown",
   "metadata": {
    "id": "ZqXjOsEEZxF1"
   },
   "source": [
    "For Metric MattesMutualInformation and MOMENTS Initialiser "
   ]
  },
  {
   "cell_type": "code",
   "execution_count": null,
   "metadata": {
    "colab": {
     "base_uri": "https://localhost:8080/",
     "height": 282
    },
    "id": "kCxRQesqZwcm",
    "outputId": "dc3d4876-96aa-497d-ea72-b7ff7fb3e32d"
   },
   "outputs": [
    {
     "data": {
      "image/png": "[encoded data removed]",
      "text/plain": [
       "<Figure size 432x288 with 1 Axes>"
      ]
     },
     "metadata": {
      "needs_background": "light"
     },
     "output_type": "display_data"
    }
   ],
   "source": [
    "registration_method_2 = sitk.ImageRegistrationMethod()\n",
    "\n",
    "# Similarity metric settings, mutual information (Mattes MI)\n",
    "registration_method_2.SetMetricAsMattesMutualInformation(numberOfHistogramBins=50)\n",
    "registration_method_2.SetMetricSamplingStrategy(registration_method_2.RANDOM)\n",
    "registration_method_2.SetMetricSamplingPercentage(0.01)\n",
    "\n",
    "registration_method_2.SetInterpolator(sitk.sitkLinear)\n",
    "\n",
    "# Optimizer settings.\n",
    "registration_method_2.SetOptimizerAsGradientDescent(learningRate=1.0, numberOfIterations=100, convergenceMinimumValue=1e-6, convergenceWindowSize=10)\n",
    "registration_method_2.SetOptimizerScalesFromPhysicalShift()\n",
    "\n",
    "# Setup for the multi-resolution framework.            \n",
    "registration_method_2.SetShrinkFactorsPerLevel(shrinkFactors = [4,2,1])\n",
    "registration_method_2.SetSmoothingSigmasPerLevel(smoothingSigmas=[2,1,0])\n",
    "registration_method_2.SmoothingSigmasAreSpecifiedInPhysicalUnitsOn()\n",
    "\n",
    "# Don't optimize in-place, we would possibly like to run this cell multiple times.\n",
    "registration_method_2.SetInitialTransform(initial_transform_2, inPlace=False)\n",
    "\n",
    "# Connect all of the observers so that we can perform plotting during registration.\n",
    "registration_method_2.AddCommand(sitk.sitkStartEvent, start_plot)\n",
    "registration_method_2.AddCommand(sitk.sitkEndEvent, end_plot)\n",
    "registration_method_2.AddCommand(sitk.sitkMultiResolutionIterationEvent, update_multires_iterations) \n",
    "registration_method_2.AddCommand(sitk.sitkIterationEvent, lambda: plot_values(registration_method_2))\n",
    "\n",
    "final_transform_2 = registration_method_2.Execute(sitk.Cast(fixed_image, sitk.sitkFloat32), \n",
    "                                               sitk.Cast(moving_image, sitk.sitkFloat32))"
   ]
  },
  {
   "cell_type": "markdown",
   "metadata": {
    "id": "6itgxRLtPE2K"
   },
   "source": [
    "# Post Registration Analysis"
   ]
  },
  {
   "cell_type": "markdown",
   "metadata": {
    "id": "mVSEh3_r6VfN"
   },
   "source": [
    "**Metric Value of different Transforms**"
   ]
  },
  {
   "cell_type": "code",
   "execution_count": null,
   "metadata": {
    "colab": {
     "base_uri": "https://localhost:8080/"
    },
    "id": "1BlYzdSM6T8Y",
    "outputId": "b2d16a2d-4c6e-4e6c-a279-daab5ba8d24c"
   },
   "outputs": [
    {
     "name": "stdout",
     "output_type": "stream",
     "text": [
      "Final metric value: -0.5859611141739798\n",
      "Optimizer's stopping condition, GradientDescentOptimizerv4Template: Convergence checker passed at iteration 9.\n"
     ]
    }
   ],
   "source": [
    "print('Final metric value: {0}'.format(registration_method_1.GetMetricValue()))\n",
    "print('Optimizer\\'s stopping condition, {0}'.format(registration_method_1.GetOptimizerStopConditionDescription()))"
   ]
  },
  {
   "cell_type": "code",
   "execution_count": null,
   "metadata": {
    "colab": {
     "base_uri": "https://localhost:8080/"
    },
    "id": "vXmJtkLhagWl",
    "outputId": "3c8c9223-7166-404d-e4bb-3ae8db8fbff7"
   },
   "outputs": [
    {
     "name": "stdout",
     "output_type": "stream",
     "text": [
      "Final metric value: -0.6415937918940307\n",
      "Optimizer's stopping condition, GradientDescentOptimizerv4Template: Convergence checker passed at iteration 15.\n"
     ]
    }
   ],
   "source": [
    "print('Final metric value: {0}'.format(registration_method_2.GetMetricValue()))\n",
    "print('Optimizer\\'s stopping condition, {0}'.format(registration_method_2.GetOptimizerStopConditionDescription()))"
   ]
  },
  {
   "cell_type": "code",
   "execution_count": null,
   "metadata": {
    "colab": {
     "base_uri": "https://localhost:8080/",
     "height": 312,
     "referenced_widgets": [
      "5981c7e9d81f4918999f2394b049eec3",
      "5bf9781579f94586a533d1c5a790dd21",
      "b410cfedeb5b4493828510140c03c4bf",
      "8822d0924c5f4bd2b6a0e61a8c049024",
      "132b28d26951403e9f4a936ec754cffc",
      "faac0a373610432b8109952997297c0c",
      "54028694f6a5466c883775fc41fc2f9f",
      "b8871bd92a1d496c93ed216af7af01fd",
      "76bad6debb9d406f8e9eb1c6500f8cea",
      "7d685b0ab4bc46afb697583bebc521f0"
     ]
    },
    "id": "OoKHnGg561Oi",
    "outputId": "0a8ffc32-aac0-4a3f-e8f1-3d55ea76be0f"
   },
   "outputs": [
    {
     "data": {
      "application/vnd.jupyter.widget-view+json": {
       "model_id": "5981c7e9d81f4918999f2394b049eec3",
       "version_major": 2,
       "version_minor": 0
      },
      "text/plain": [
       "interactive(children=(IntSlider(value=14, description='image_z', max=28), FloatSlider(value=0.5, description='…"
      ]
     },
     "metadata": {},
     "output_type": "display_data"
    }
   ],
   "source": [
    "moving_resampled_1 = sitk.Resample(moving_image, fixed_image, final_transform_1, sitk.sitkLinear, 0.0, moving_image.GetPixelID())\n",
    "\n",
    "interact(display_images_with_alpha, image_z=(0,fixed_image.GetSize()[2] - 1), alpha=(0.0,1.0,0.05), fixed = fixed(fixed_image), moving=fixed(moving_resampled_1));"
   ]
  },
  {
   "cell_type": "code",
   "execution_count": null,
   "metadata": {
    "colab": {
     "base_uri": "https://localhost:8080/",
     "height": 312,
     "referenced_widgets": [
      "ba0d29be74d34586ac6e899c418a1fd3",
      "f9bdb79ba42c401b9afe2c5ec980377f",
      "83fd5a93920147a0b9f593021a3d79e3",
      "1dcca7d2af874433a9db2a2c30b2de2f",
      "40b5f71a6c8d4ae3951dd2d9692cefc5",
      "b64001ae6ce74bc8957962c0060f0df1",
      "984a172242d14d079f882f731984fc56",
      "2e0b85010d2447eba703251df8d8a4f5",
      "77c0bcfc098c4314bc1ce3d090c9a6d1",
      "d6eefbc0cf9542d784a6593527e160cd"
     ]
    },
    "id": "nQMRjJJxcrAx",
    "outputId": "23cc542b-3c06-487a-aa5c-2c5dd35ab3da"
   },
   "outputs": [
    {
     "data": {
      "application/vnd.jupyter.widget-view+json": {
       "model_id": "ba0d29be74d34586ac6e899c418a1fd3",
       "version_major": 2,
       "version_minor": 0
      },
      "text/plain": [
       "interactive(children=(IntSlider(value=14, description='image_z', max=28), FloatSlider(value=0.5, description='…"
      ]
     },
     "metadata": {},
     "output_type": "display_data"
    }
   ],
   "source": [
    "moving_resampled_2 = sitk.Resample(moving_image, fixed_image, final_transform_2, sitk.sitkLinear, 0.0, moving_image.GetPixelID())\n",
    "\n",
    "interact(display_images_with_alpha, image_z=(0,fixed_image.GetSize()[2] - 1), alpha=(0.0,1.0,0.05), fixed = fixed(fixed_image), moving=fixed(moving_resampled_2));"
   ]
  },
  {
   "cell_type": "code",
   "execution_count": null,
   "metadata": {
    "colab": {
     "base_uri": "https://localhost:8080/"
    },
    "id": "AGqA_Tqf7ncy",
    "outputId": "08f975e9-6208-4f19-b671-90ed911b6a5e"
   },
   "outputs": [
    {
     "name": "stdout",
     "output_type": "stream",
     "text": [
      "itk::simple::Transform\n",
      " CompositeTransform (0x5619fb997a20)\n",
      "   RTTI typeinfo:   itk::CompositeTransform<double, 3u>\n",
      "   Reference Count: 1\n",
      "   Modified Time: 373963\n",
      "   Debug: Off\n",
      "   Object Name: \n",
      "   Observers: \n",
      "     none\n",
      "   Transforms in queue, from begin to end:\n",
      "   >>>>>>>>>\n",
      "   Euler3DTransform (0x5619fb996b20)\n",
      "     RTTI typeinfo:   itk::Euler3DTransform<double>\n",
      "     Reference Count: 1\n",
      "     Modified Time: 373804\n",
      "     Debug: Off\n",
      "     Object Name: \n",
      "     Observers: \n",
      "       none\n",
      "     Matrix: \n",
      "       0.997035 0.0768954 -0.00285967 \n",
      "       -0.0769172 0.997001 -0.00851634 \n",
      "       0.00219622 0.00871105 0.99996 \n",
      "     Offset: [8.33199, -19.7377, -24.4686]\n",
      "     Center: [166.994, 166.994, 56]\n",
      "     Translation: [20.5178, -33.5601, -22.6494]\n",
      "     Inverse: \n",
      "       0.997035 -0.0769172 0.00219622 \n",
      "       0.0768954 0.997001 0.00871105 \n",
      "       -0.00285967 -0.00851634 0.99996 \n",
      "     Singular: 0\n",
      "     Euler's angles: AngleX=0.00871116 AngleY=-0.00219631 AngleZ=-0.0769743\n",
      "     m_ComputeZYX = 0\n",
      "   End of MultiTransform.\n",
      "<<<<<<<<<<\n",
      "   TransformsToOptimizeFlags, begin() to end(): \n",
      "      1 \n",
      "   TransformsToOptimize in queue, from begin to end:\n",
      "   End of TransformsToOptimizeQueue.\n",
      "<<<<<<<<<<\n",
      "   End of CompositeTransform.\n",
      "<<<<<<<<<<\n",
      "\n"
     ]
    }
   ],
   "source": [
    "OUTPUT_DIR = 'Output'\n",
    "print(final_transform_1)"
   ]
  },
  {
   "cell_type": "code",
   "execution_count": null,
   "metadata": {
    "colab": {
     "base_uri": "https://localhost:8080/"
    },
    "id": "YsJu_jlydBpw",
    "outputId": "a7944807-886c-47f4-df1d-33937232cde0"
   },
   "outputs": [
    {
     "name": "stdout",
     "output_type": "stream",
     "text": [
      "itk::simple::Transform\n",
      " CompositeTransform (0x5619fb996580)\n",
      "   RTTI typeinfo:   itk::CompositeTransform<double, 3u>\n",
      "   Reference Count: 1\n",
      "   Modified Time: 555163\n",
      "   Debug: Off\n",
      "   Object Name: \n",
      "   Observers: \n",
      "     none\n",
      "   Transforms in queue, from begin to end:\n",
      "   >>>>>>>>>\n",
      "   Euler3DTransform (0x5619fb997840)\n",
      "     RTTI typeinfo:   itk::Euler3DTransform<double>\n",
      "     Reference Count: 1\n",
      "     Modified Time: 555004\n",
      "     Debug: Off\n",
      "     Object Name: \n",
      "     Observers: \n",
      "       none\n",
      "     Matrix: \n",
      "       0.997521 0.0703436 0.00171356 \n",
      "       -0.0703294 0.997497 -0.00730348 \n",
      "       -0.00222303 0.00716487 0.999972 \n",
      "     Offset: [6.97271, -20.6082, -22.0993]\n",
      "     Center: [170.222, 160.659, 57.3959]\n",
      "     Translation: [17.9505, -33.4011, -21.3282]\n",
      "     Inverse: \n",
      "       0.997521 -0.0703294 -0.00222303 \n",
      "       0.0703436 0.997497 0.00716487 \n",
      "       0.00171356 -0.00730348 0.999972 \n",
      "     Singular: 0\n",
      "     Euler's angles: AngleX=0.00716493 AngleY=0.00222309 AngleZ=-0.0704036\n",
      "     m_ComputeZYX = 0\n",
      "   End of MultiTransform.\n",
      "<<<<<<<<<<\n",
      "   TransformsToOptimizeFlags, begin() to end(): \n",
      "      1 \n",
      "   TransformsToOptimize in queue, from begin to end:\n",
      "   End of TransformsToOptimizeQueue.\n",
      "<<<<<<<<<<\n",
      "   End of CompositeTransform.\n",
      "<<<<<<<<<<\n",
      "\n"
     ]
    }
   ],
   "source": [
    "OUTPUT_DIR = 'Output'\n",
    "print(final_transform_2)"
   ]
  },
  {
   "cell_type": "markdown",
   "metadata": {
    "id": "jHF8-N24PNFl"
   },
   "source": [
    "# References"
   ]
  },
  {
   "cell_type": "markdown",
   "metadata": {
    "id": "St6URU_tPQzu"
   },
   "source": [
    "https://github.com/SimpleITK/TUTORIAL/blob/master/05_basic_registration.ipynb"
   ]
  },
  {
   "cell_type": "markdown",
   "metadata": {
    "id": "gI5cssVjP4nQ"
   },
   "source": [
    "http://insightsoftwareconsortium.github.io/SimpleITK-Notebooks/"
   ]
  },
  {
   "cell_type": "markdown",
   "metadata": {
    "id": "wNLlYPnWP_oC"
   },
   "source": [
    "https://www.youtube.com/playlist?list=PLJrE5DPJLkqV68MXHXPGX64loB6ul2Y0H"
   ]
  }
 ],
 "metadata": {
  "colab": {
   "name": "RegistrationSITK.ipynb",
   "provenance": []
  },
  "kernelspec": {
   "display_name": "Python 3 (ipykernel)",
   "language": "python",
   "name": "python3"
  },
  "language_info": {
   "codemirror_mode": {
    "name": "ipython",
    "version": 3
   },
   "file_extension": ".py",
   "mimetype": "text/x-python",
   "name": "python",
   "nbconvert_exporter": "python",
   "pygments_lexer": "ipython3",
   "version": "3.9.7"
  },
  "widgets": {
   "application/vnd.jupyter.widget-state+json": {
    "132b28d26951403e9f4a936ec754cffc": {
     "model_module": "@jupyter-widgets/output",
     "model_module_version": "1.0.0",
     "model_name": "OutputModel",
     "state": {
      "_dom_classes": [],
      "_model_module": "@jupyter-widgets/output",
      "_model_module_version": "1.0.0",
      "_model_name": "OutputModel",
      "_view_count": null,
      "_view_module": "@jupyter-widgets/output",
      "_view_module_version": "1.0.0",
      "_view_name": "OutputView",
      "layout": "IPY_MODEL_7d685b0ab4bc46afb697583bebc521f0",
      "msg_id": "",
      "outputs": [
       {
        "data": {
         "image/png": "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\n",
         "text/plain": "<Figure size 432x288 with 1 Axes>"
        },
        "metadata": {
         "needs_background": "light"
        },
        "output_type": "display_data"
       }
      ]
     }
    },
    "1dcca7d2af874433a9db2a2c30b2de2f": {
     "model_module": "@jupyter-widgets/controls",
     "model_module_version": "1.5.0",
     "model_name": "FloatSliderModel",
     "state": {
      "_dom_classes": [],
      "_model_module": "@jupyter-widgets/controls",
      "_model_module_version": "1.5.0",
      "_model_name": "FloatSliderModel",
      "_view_count": null,
      "_view_module": "@jupyter-widgets/controls",
      "_view_module_version": "1.5.0",
      "_view_name": "FloatSliderView",
      "continuous_update": true,
      "description": "alpha",
      "description_tooltip": null,
      "disabled": false,
      "layout": "IPY_MODEL_77c0bcfc098c4314bc1ce3d090c9a6d1",
      "max": 1,
      "min": 0,
      "orientation": "horizontal",
      "readout": true,
      "readout_format": ".2f",
      "step": 0.05,
      "style": "IPY_MODEL_2e0b85010d2447eba703251df8d8a4f5",
      "value": 0.5
     }
    },
    "210a40cf9a51420b9f5faa58ee09c734": {
     "model_module": "@jupyter-widgets/controls",
     "model_module_version": "1.5.0",
     "model_name": "SliderStyleModel",
     "state": {
      "_model_module": "@jupyter-widgets/controls",
      "_model_module_version": "1.5.0",
      "_model_name": "SliderStyleModel",
      "_view_count": null,
      "_view_module": "@jupyter-widgets/base",
      "_view_module_version": "1.2.0",
      "_view_name": "StyleView",
      "description_width": "",
      "handle_color": null
     }
    },
    "29fc51951ee24e8cb26519ef99a90d5e": {
     "model_module": "@jupyter-widgets/base",
     "model_module_version": "1.2.0",
     "model_name": "LayoutModel",
     "state": {
      "_model_module": "@jupyter-widgets/base",
      "_model_module_version": "1.2.0",
      "_model_name": "LayoutModel",
      "_view_count": null,
      "_view_module": "@jupyter-widgets/base",
      "_view_module_version": "1.2.0",
      "_view_name": "LayoutView",
      "align_content": null,
      "align_items": null,
      "align_self": null,
      "border": null,
      "bottom": null,
      "display": null,
      "flex": null,
      "flex_flow": null,
      "grid_area": null,
      "grid_auto_columns": null,
      "grid_auto_flow": null,
      "grid_auto_rows": null,
      "grid_column": null,
      "grid_gap": null,
      "grid_row": null,
      "grid_template_areas": null,
      "grid_template_columns": null,
      "grid_template_rows": null,
      "height": null,
      "justify_content": null,
      "justify_items": null,
      "left": null,
      "margin": null,
      "max_height": null,
      "max_width": null,
      "min_height": null,
      "min_width": null,
      "object_fit": null,
      "object_position": null,
      "order": null,
      "overflow": null,
      "overflow_x": null,
      "overflow_y": null,
      "padding": null,
      "right": null,
      "top": null,
      "visibility": null,
      "width": null
     }
    },
    "2e0b85010d2447eba703251df8d8a4f5": {
     "model_module": "@jupyter-widgets/controls",
     "model_module_version": "1.5.0",
     "model_name": "SliderStyleModel",
     "state": {
      "_model_module": "@jupyter-widgets/controls",
      "_model_module_version": "1.5.0",
      "_model_name": "SliderStyleModel",
      "_view_count": null,
      "_view_module": "@jupyter-widgets/base",
      "_view_module_version": "1.2.0",
      "_view_name": "StyleView",
      "description_width": "",
      "handle_color": null
     }
    },
    "35f8a61c988544819488367f735e739e": {
     "model_module": "@jupyter-widgets/controls",
     "model_module_version": "1.5.0",
     "model_name": "SliderStyleModel",
     "state": {
      "_model_module": "@jupyter-widgets/controls",
      "_model_module_version": "1.5.0",
      "_model_name": "SliderStyleModel",
      "_view_count": null,
      "_view_module": "@jupyter-widgets/base",
      "_view_module_version": "1.2.0",
      "_view_name": "StyleView",
      "description_width": "",
      "handle_color": null
     }
    },
    "3df6470226c8433cb9a5a1e612115b40": {
     "model_module": "@jupyter-widgets/base",
     "model_module_version": "1.2.0",
     "model_name": "LayoutModel",
     "state": {
      "_model_module": "@jupyter-widgets/base",
      "_model_module_version": "1.2.0",
      "_model_name": "LayoutModel",
      "_view_count": null,
      "_view_module": "@jupyter-widgets/base",
      "_view_module_version": "1.2.0",
      "_view_name": "LayoutView",
      "align_content": null,
      "align_items": null,
      "align_self": null,
      "border": null,
      "bottom": null,
      "display": null,
      "flex": null,
      "flex_flow": null,
      "grid_area": null,
      "grid_auto_columns": null,
      "grid_auto_flow": null,
      "grid_auto_rows": null,
      "grid_column": null,
      "grid_gap": null,
      "grid_row": null,
      "grid_template_areas": null,
      "grid_template_columns": null,
      "grid_template_rows": null,
      "height": null,
      "justify_content": null,
      "justify_items": null,
      "left": null,
      "margin": null,
      "max_height": null,
      "max_width": null,
      "min_height": null,
      "min_width": null,
      "object_fit": null,
      "object_position": null,
      "order": null,
      "overflow": null,
      "overflow_x": null,
      "overflow_y": null,
      "padding": null,
      "right": null,
      "top": null,
      "visibility": null,
      "width": null
     }
    },
    "40b5f71a6c8d4ae3951dd2d9692cefc5": {
     "model_module": "@jupyter-widgets/output",
     "model_module_version": "1.0.0",
     "model_name": "OutputModel",
     "state": {
      "_dom_classes": [],
      "_model_module": "@jupyter-widgets/output",
      "_model_module_version": "1.0.0",
      "_model_name": "OutputModel",
      "_view_count": null,
      "_view_module": "@jupyter-widgets/output",
      "_view_module_version": "1.0.0",
      "_view_name": "OutputView",
      "layout": "IPY_MODEL_d6eefbc0cf9542d784a6593527e160cd",
      "msg_id": "",
      "outputs": [
       {
        "data": {
         "image/png": "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\n",
         "text/plain": "<Figure size 432x288 with 1 Axes>"
        },
        "metadata": {
         "needs_background": "light"
        },
        "output_type": "display_data"
       }
      ]
     }
    },
    "54028694f6a5466c883775fc41fc2f9f": {
     "model_module": "@jupyter-widgets/base",
     "model_module_version": "1.2.0",
     "model_name": "LayoutModel",
     "state": {
      "_model_module": "@jupyter-widgets/base",
      "_model_module_version": "1.2.0",
      "_model_name": "LayoutModel",
      "_view_count": null,
      "_view_module": "@jupyter-widgets/base",
      "_view_module_version": "1.2.0",
      "_view_name": "LayoutView",
      "align_content": null,
      "align_items": null,
      "align_self": null,
      "border": null,
      "bottom": null,
      "display": null,
      "flex": null,
      "flex_flow": null,
      "grid_area": null,
      "grid_auto_columns": null,
      "grid_auto_flow": null,
      "grid_auto_rows": null,
      "grid_column": null,
      "grid_gap": null,
      "grid_row": null,
      "grid_template_areas": null,
      "grid_template_columns": null,
      "grid_template_rows": null,
      "height": null,
      "justify_content": null,
      "justify_items": null,
      "left": null,
      "margin": null,
      "max_height": null,
      "max_width": null,
      "min_height": null,
      "min_width": null,
      "object_fit": null,
      "object_position": null,
      "order": null,
      "overflow": null,
      "overflow_x": null,
      "overflow_y": null,
      "padding": null,
      "right": null,
      "top": null,
      "visibility": null,
      "width": null
     }
    },
    "541d981b2f6041aab7f9d094227b7095": {
     "model_module": "@jupyter-widgets/controls",
     "model_module_version": "1.5.0",
     "model_name": "IntSliderModel",
     "state": {
      "_dom_classes": [],
      "_model_module": "@jupyter-widgets/controls",
      "_model_module_version": "1.5.0",
      "_model_name": "IntSliderModel",
      "_view_count": null,
      "_view_module": "@jupyter-widgets/controls",
      "_view_module_version": "1.5.0",
      "_view_name": "IntSliderView",
      "continuous_update": true,
      "description": "fixed_image_z",
      "description_tooltip": null,
      "disabled": false,
      "layout": "IPY_MODEL_3df6470226c8433cb9a5a1e612115b40",
      "max": 28,
      "min": 0,
      "orientation": "horizontal",
      "readout": true,
      "readout_format": "d",
      "step": 1,
      "style": "IPY_MODEL_35f8a61c988544819488367f735e739e",
      "value": 17
     }
    },
    "5981c7e9d81f4918999f2394b049eec3": {
     "model_module": "@jupyter-widgets/controls",
     "model_module_version": "1.5.0",
     "model_name": "VBoxModel",
     "state": {
      "_dom_classes": [
       "widget-interact"
      ],
      "_model_module": "@jupyter-widgets/controls",
      "_model_module_version": "1.5.0",
      "_model_name": "VBoxModel",
      "_view_count": null,
      "_view_module": "@jupyter-widgets/controls",
      "_view_module_version": "1.5.0",
      "_view_name": "VBoxView",
      "box_style": "",
      "children": [
       "IPY_MODEL_b410cfedeb5b4493828510140c03c4bf",
       "IPY_MODEL_8822d0924c5f4bd2b6a0e61a8c049024",
       "IPY_MODEL_132b28d26951403e9f4a936ec754cffc"
      ],
      "layout": "IPY_MODEL_5bf9781579f94586a533d1c5a790dd21"
     }
    },
    "5bf9781579f94586a533d1c5a790dd21": {
     "model_module": "@jupyter-widgets/base",
     "model_module_version": "1.2.0",
     "model_name": "LayoutModel",
     "state": {
      "_model_module": "@jupyter-widgets/base",
      "_model_module_version": "1.2.0",
      "_model_name": "LayoutModel",
      "_view_count": null,
      "_view_module": "@jupyter-widgets/base",
      "_view_module_version": "1.2.0",
      "_view_name": "LayoutView",
      "align_content": null,
      "align_items": null,
      "align_self": null,
      "border": null,
      "bottom": null,
      "display": null,
      "flex": null,
      "flex_flow": null,
      "grid_area": null,
      "grid_auto_columns": null,
      "grid_auto_flow": null,
      "grid_auto_rows": null,
      "grid_column": null,
      "grid_gap": null,
      "grid_row": null,
      "grid_template_areas": null,
      "grid_template_columns": null,
      "grid_template_rows": null,
      "height": null,
      "justify_content": null,
      "justify_items": null,
      "left": null,
      "margin": null,
      "max_height": null,
      "max_width": null,
      "min_height": null,
      "min_width": null,
      "object_fit": null,
      "object_position": null,
      "order": null,
      "overflow": null,
      "overflow_x": null,
      "overflow_y": null,
      "padding": null,
      "right": null,
      "top": null,
      "visibility": null,
      "width": null
     }
    },
    "76bad6debb9d406f8e9eb1c6500f8cea": {
     "model_module": "@jupyter-widgets/base",
     "model_module_version": "1.2.0",
     "model_name": "LayoutModel",
     "state": {
      "_model_module": "@jupyter-widgets/base",
      "_model_module_version": "1.2.0",
      "_model_name": "LayoutModel",
      "_view_count": null,
      "_view_module": "@jupyter-widgets/base",
      "_view_module_version": "1.2.0",
      "_view_name": "LayoutView",
      "align_content": null,
      "align_items": null,
      "align_self": null,
      "border": null,
      "bottom": null,
      "display": null,
      "flex": null,
      "flex_flow": null,
      "grid_area": null,
      "grid_auto_columns": null,
      "grid_auto_flow": null,
      "grid_auto_rows": null,
      "grid_column": null,
      "grid_gap": null,
      "grid_row": null,
      "grid_template_areas": null,
      "grid_template_columns": null,
      "grid_template_rows": null,
      "height": null,
      "justify_content": null,
      "justify_items": null,
      "left": null,
      "margin": null,
      "max_height": null,
      "max_width": null,
      "min_height": null,
      "min_width": null,
      "object_fit": null,
      "object_position": null,
      "order": null,
      "overflow": null,
      "overflow_x": null,
      "overflow_y": null,
      "padding": null,
      "right": null,
      "top": null,
      "visibility": null,
      "width": null
     }
    },
    "77c0bcfc098c4314bc1ce3d090c9a6d1": {
     "model_module": "@jupyter-widgets/base",
     "model_module_version": "1.2.0",
     "model_name": "LayoutModel",
     "state": {
      "_model_module": "@jupyter-widgets/base",
      "_model_module_version": "1.2.0",
      "_model_name": "LayoutModel",
      "_view_count": null,
      "_view_module": "@jupyter-widgets/base",
      "_view_module_version": "1.2.0",
      "_view_name": "LayoutView",
      "align_content": null,
      "align_items": null,
      "align_self": null,
      "border": null,
      "bottom": null,
      "display": null,
      "flex": null,
      "flex_flow": null,
      "grid_area": null,
      "grid_auto_columns": null,
      "grid_auto_flow": null,
      "grid_auto_rows": null,
      "grid_column": null,
      "grid_gap": null,
      "grid_row": null,
      "grid_template_areas": null,
      "grid_template_columns": null,
      "grid_template_rows": null,
      "height": null,
      "justify_content": null,
      "justify_items": null,
      "left": null,
      "margin": null,
      "max_height": null,
      "max_width": null,
      "min_height": null,
      "min_width": null,
      "object_fit": null,
      "object_position": null,
      "order": null,
      "overflow": null,
      "overflow_x": null,
      "overflow_y": null,
      "padding": null,
      "right": null,
      "top": null,
      "visibility": null,
      "width": null
     }
    },
    "7d685b0ab4bc46afb697583bebc521f0": {
     "model_module": "@jupyter-widgets/base",
     "model_module_version": "1.2.0",
     "model_name": "LayoutModel",
     "state": {
      "_model_module": "@jupyter-widgets/base",
      "_model_module_version": "1.2.0",
      "_model_name": "LayoutModel",
      "_view_count": null,
      "_view_module": "@jupyter-widgets/base",
      "_view_module_version": "1.2.0",
      "_view_name": "LayoutView",
      "align_content": null,
      "align_items": null,
      "align_self": null,
      "border": null,
      "bottom": null,
      "display": null,
      "flex": null,
      "flex_flow": null,
      "grid_area": null,
      "grid_auto_columns": null,
      "grid_auto_flow": null,
      "grid_auto_rows": null,
      "grid_column": null,
      "grid_gap": null,
      "grid_row": null,
      "grid_template_areas": null,
      "grid_template_columns": null,
      "grid_template_rows": null,
      "height": null,
      "justify_content": null,
      "justify_items": null,
      "left": null,
      "margin": null,
      "max_height": null,
      "max_width": null,
      "min_height": null,
      "min_width": null,
      "object_fit": null,
      "object_position": null,
      "order": null,
      "overflow": null,
      "overflow_x": null,
      "overflow_y": null,
      "padding": null,
      "right": null,
      "top": null,
      "visibility": null,
      "width": null
     }
    },
    "83fd5a93920147a0b9f593021a3d79e3": {
     "model_module": "@jupyter-widgets/controls",
     "model_module_version": "1.5.0",
     "model_name": "IntSliderModel",
     "state": {
      "_dom_classes": [],
      "_model_module": "@jupyter-widgets/controls",
      "_model_module_version": "1.5.0",
      "_model_name": "IntSliderModel",
      "_view_count": null,
      "_view_module": "@jupyter-widgets/controls",
      "_view_module_version": "1.5.0",
      "_view_name": "IntSliderView",
      "continuous_update": true,
      "description": "image_z",
      "description_tooltip": null,
      "disabled": false,
      "layout": "IPY_MODEL_984a172242d14d079f882f731984fc56",
      "max": 28,
      "min": 0,
      "orientation": "horizontal",
      "readout": true,
      "readout_format": "d",
      "step": 1,
      "style": "IPY_MODEL_b64001ae6ce74bc8957962c0060f0df1",
      "value": 16
     }
    },
    "8822d0924c5f4bd2b6a0e61a8c049024": {
     "model_module": "@jupyter-widgets/controls",
     "model_module_version": "1.5.0",
     "model_name": "FloatSliderModel",
     "state": {
      "_dom_classes": [],
      "_model_module": "@jupyter-widgets/controls",
      "_model_module_version": "1.5.0",
      "_model_name": "FloatSliderModel",
      "_view_count": null,
      "_view_module": "@jupyter-widgets/controls",
      "_view_module_version": "1.5.0",
      "_view_name": "FloatSliderView",
      "continuous_update": true,
      "description": "alpha",
      "description_tooltip": null,
      "disabled": false,
      "layout": "IPY_MODEL_76bad6debb9d406f8e9eb1c6500f8cea",
      "max": 1,
      "min": 0,
      "orientation": "horizontal",
      "readout": true,
      "readout_format": ".2f",
      "step": 0.05,
      "style": "IPY_MODEL_b8871bd92a1d496c93ed216af7af01fd",
      "value": 0.45
     }
    },
    "984a172242d14d079f882f731984fc56": {
     "model_module": "@jupyter-widgets/base",
     "model_module_version": "1.2.0",
     "model_name": "LayoutModel",
     "state": {
      "_model_module": "@jupyter-widgets/base",
      "_model_module_version": "1.2.0",
      "_model_name": "LayoutModel",
      "_view_count": null,
      "_view_module": "@jupyter-widgets/base",
      "_view_module_version": "1.2.0",
      "_view_name": "LayoutView",
      "align_content": null,
      "align_items": null,
      "align_self": null,
      "border": null,
      "bottom": null,
      "display": null,
      "flex": null,
      "flex_flow": null,
      "grid_area": null,
      "grid_auto_columns": null,
      "grid_auto_flow": null,
      "grid_auto_rows": null,
      "grid_column": null,
      "grid_gap": null,
      "grid_row": null,
      "grid_template_areas": null,
      "grid_template_columns": null,
      "grid_template_rows": null,
      "height": null,
      "justify_content": null,
      "justify_items": null,
      "left": null,
      "margin": null,
      "max_height": null,
      "max_width": null,
      "min_height": null,
      "min_width": null,
      "object_fit": null,
      "object_position": null,
      "order": null,
      "overflow": null,
      "overflow_x": null,
      "overflow_y": null,
      "padding": null,
      "right": null,
      "top": null,
      "visibility": null,
      "width": null
     }
    },
    "b410cfedeb5b4493828510140c03c4bf": {
     "model_module": "@jupyter-widgets/controls",
     "model_module_version": "1.5.0",
     "model_name": "IntSliderModel",
     "state": {
      "_dom_classes": [],
      "_model_module": "@jupyter-widgets/controls",
      "_model_module_version": "1.5.0",
      "_model_name": "IntSliderModel",
      "_view_count": null,
      "_view_module": "@jupyter-widgets/controls",
      "_view_module_version": "1.5.0",
      "_view_name": "IntSliderView",
      "continuous_update": true,
      "description": "image_z",
      "description_tooltip": null,
      "disabled": false,
      "layout": "IPY_MODEL_54028694f6a5466c883775fc41fc2f9f",
      "max": 28,
      "min": 0,
      "orientation": "horizontal",
      "readout": true,
      "readout_format": "d",
      "step": 1,
      "style": "IPY_MODEL_faac0a373610432b8109952997297c0c",
      "value": 14
     }
    },
    "b64001ae6ce74bc8957962c0060f0df1": {
     "model_module": "@jupyter-widgets/controls",
     "model_module_version": "1.5.0",
     "model_name": "SliderStyleModel",
     "state": {
      "_model_module": "@jupyter-widgets/controls",
      "_model_module_version": "1.5.0",
      "_model_name": "SliderStyleModel",
      "_view_count": null,
      "_view_module": "@jupyter-widgets/base",
      "_view_module_version": "1.2.0",
      "_view_name": "StyleView",
      "description_width": "",
      "handle_color": null
     }
    },
    "b64c8d06c16e4be5ae2c03bfa12fa94c": {
     "model_module": "@jupyter-widgets/controls",
     "model_module_version": "1.5.0",
     "model_name": "VBoxModel",
     "state": {
      "_dom_classes": [
       "widget-interact"
      ],
      "_model_module": "@jupyter-widgets/controls",
      "_model_module_version": "1.5.0",
      "_model_name": "VBoxModel",
      "_view_count": null,
      "_view_module": "@jupyter-widgets/controls",
      "_view_module_version": "1.5.0",
      "_view_name": "VBoxView",
      "box_style": "",
      "children": [
       "IPY_MODEL_541d981b2f6041aab7f9d094227b7095",
       "IPY_MODEL_fc81ee089af245cb957ae3a86b8f0cdb",
       "IPY_MODEL_f98eeb8974e44797b1548ad2f976320e"
      ],
      "layout": "IPY_MODEL_e083d091b26d4f55befffb64f0030406"
     }
    },
    "b8871bd92a1d496c93ed216af7af01fd": {
     "model_module": "@jupyter-widgets/controls",
     "model_module_version": "1.5.0",
     "model_name": "SliderStyleModel",
     "state": {
      "_model_module": "@jupyter-widgets/controls",
      "_model_module_version": "1.5.0",
      "_model_name": "SliderStyleModel",
      "_view_count": null,
      "_view_module": "@jupyter-widgets/base",
      "_view_module_version": "1.2.0",
      "_view_name": "StyleView",
      "description_width": "",
      "handle_color": null
     }
    },
    "ba0d29be74d34586ac6e899c418a1fd3": {
     "model_module": "@jupyter-widgets/controls",
     "model_module_version": "1.5.0",
     "model_name": "VBoxModel",
     "state": {
      "_dom_classes": [
       "widget-interact"
      ],
      "_model_module": "@jupyter-widgets/controls",
      "_model_module_version": "1.5.0",
      "_model_name": "VBoxModel",
      "_view_count": null,
      "_view_module": "@jupyter-widgets/controls",
      "_view_module_version": "1.5.0",
      "_view_name": "VBoxView",
      "box_style": "",
      "children": [
       "IPY_MODEL_83fd5a93920147a0b9f593021a3d79e3",
       "IPY_MODEL_1dcca7d2af874433a9db2a2c30b2de2f",
       "IPY_MODEL_40b5f71a6c8d4ae3951dd2d9692cefc5"
      ],
      "layout": "IPY_MODEL_f9bdb79ba42c401b9afe2c5ec980377f"
     }
    },
    "d6eefbc0cf9542d784a6593527e160cd": {
     "model_module": "@jupyter-widgets/base",
     "model_module_version": "1.2.0",
     "model_name": "LayoutModel",
     "state": {
      "_model_module": "@jupyter-widgets/base",
      "_model_module_version": "1.2.0",
      "_model_name": "LayoutModel",
      "_view_count": null,
      "_view_module": "@jupyter-widgets/base",
      "_view_module_version": "1.2.0",
      "_view_name": "LayoutView",
      "align_content": null,
      "align_items": null,
      "align_self": null,
      "border": null,
      "bottom": null,
      "display": null,
      "flex": null,
      "flex_flow": null,
      "grid_area": null,
      "grid_auto_columns": null,
      "grid_auto_flow": null,
      "grid_auto_rows": null,
      "grid_column": null,
      "grid_gap": null,
      "grid_row": null,
      "grid_template_areas": null,
      "grid_template_columns": null,
      "grid_template_rows": null,
      "height": null,
      "justify_content": null,
      "justify_items": null,
      "left": null,
      "margin": null,
      "max_height": null,
      "max_width": null,
      "min_height": null,
      "min_width": null,
      "object_fit": null,
      "object_position": null,
      "order": null,
      "overflow": null,
      "overflow_x": null,
      "overflow_y": null,
      "padding": null,
      "right": null,
      "top": null,
      "visibility": null,
      "width": null
     }
    },
    "de0ea08de4e34eff9111383bad58677f": {
     "model_module": "@jupyter-widgets/base",
     "model_module_version": "1.2.0",
     "model_name": "LayoutModel",
     "state": {
      "_model_module": "@jupyter-widgets/base",
      "_model_module_version": "1.2.0",
      "_model_name": "LayoutModel",
      "_view_count": null,
      "_view_module": "@jupyter-widgets/base",
      "_view_module_version": "1.2.0",
      "_view_name": "LayoutView",
      "align_content": null,
      "align_items": null,
      "align_self": null,
      "border": null,
      "bottom": null,
      "display": null,
      "flex": null,
      "flex_flow": null,
      "grid_area": null,
      "grid_auto_columns": null,
      "grid_auto_flow": null,
      "grid_auto_rows": null,
      "grid_column": null,
      "grid_gap": null,
      "grid_row": null,
      "grid_template_areas": null,
      "grid_template_columns": null,
      "grid_template_rows": null,
      "height": null,
      "justify_content": null,
      "justify_items": null,
      "left": null,
      "margin": null,
      "max_height": null,
      "max_width": null,
      "min_height": null,
      "min_width": null,
      "object_fit": null,
      "object_position": null,
      "order": null,
      "overflow": null,
      "overflow_x": null,
      "overflow_y": null,
      "padding": null,
      "right": null,
      "top": null,
      "visibility": null,
      "width": null
     }
    },
    "e083d091b26d4f55befffb64f0030406": {
     "model_module": "@jupyter-widgets/base",
     "model_module_version": "1.2.0",
     "model_name": "LayoutModel",
     "state": {
      "_model_module": "@jupyter-widgets/base",
      "_model_module_version": "1.2.0",
      "_model_name": "LayoutModel",
      "_view_count": null,
      "_view_module": "@jupyter-widgets/base",
      "_view_module_version": "1.2.0",
      "_view_name": "LayoutView",
      "align_content": null,
      "align_items": null,
      "align_self": null,
      "border": null,
      "bottom": null,
      "display": null,
      "flex": null,
      "flex_flow": null,
      "grid_area": null,
      "grid_auto_columns": null,
      "grid_auto_flow": null,
      "grid_auto_rows": null,
      "grid_column": null,
      "grid_gap": null,
      "grid_row": null,
      "grid_template_areas": null,
      "grid_template_columns": null,
      "grid_template_rows": null,
      "height": null,
      "justify_content": null,
      "justify_items": null,
      "left": null,
      "margin": null,
      "max_height": null,
      "max_width": null,
      "min_height": null,
      "min_width": null,
      "object_fit": null,
      "object_position": null,
      "order": null,
      "overflow": null,
      "overflow_x": null,
      "overflow_y": null,
      "padding": null,
      "right": null,
      "top": null,
      "visibility": null,
      "width": null
     }
    },
    "f98eeb8974e44797b1548ad2f976320e": {
     "model_module": "@jupyter-widgets/output",
     "model_module_version": "1.0.0",
     "model_name": "OutputModel",
     "state": {
      "_dom_classes": [],
      "_model_module": "@jupyter-widgets/output",
      "_model_module_version": "1.0.0",
      "_model_name": "OutputModel",
      "_view_count": null,
      "_view_module": "@jupyter-widgets/output",
      "_view_module_version": "1.0.0",
      "_view_name": "OutputView",
      "layout": "IPY_MODEL_29fc51951ee24e8cb26519ef99a90d5e",
      "msg_id": "",
      "outputs": [
       {
        "data": {
         "image/png": "iVBORw0KGgoAAAANSUhEUgAAAjwAAAEcCAYAAADDS24xAAAABHNCSVQICAgIfAhkiAAAAAlwSFlzAAALEgAACxIB0t1+/AAAADh0RVh0U29mdHdhcmUAbWF0cGxvdGxpYiB2ZXJzaW9uMy4yLjIsIGh0dHA6Ly9tYXRwbG90bGliLm9yZy+WH4yJAAAgAElEQVR4nOy9aXRs2XUe9p1CzVVAFYYC8AC8ka+b3WxS3U1SapLioNCKEtGWrMSOk1geshKtFSt2vOKVwbEd2V5ZshMpzg/Zli0PijMqnmLFsWyukJZapiiyFZIiW02yx9f9Xvd7eJjnGoHCzY/Cd/DVxr2Y8VDAu3stLAB3OPM9+zvf3mcfFwQBYoklllhiiSWWWC6zJM67ALHEEkssscQSSyxnLTHgiSWWWGKJJZZYLr3EgCeWWGKJJZZYYrn0EgOeWGKJJZZYYonl0ksMeGKJJZZYYokllksvMeCJJZZYYoklllguvcSAp8fEOfd+59y3nHPrzrk/6Zz7BefcT51BPnedcz8Yce9M8owlllhiOYw45z7vnPujZ5Dup5xzr592urFcDHFxHJ7eEufcLwJYC4LgT51xPncB/EQQBP/yLPOJJZZYYoklll6QmOHpPbkO4DvnXYhYYoklllhiuUwSA54eEufcrwH41wD8defchnPuSefc/+yc++md+3/aOfdbzrnkzv8/6Zz7jnMu65xLOOf+a+fcHefconPuHzrnhiTtP+ycu7dz788dUA7N8wecc/edc/+Vc27OOffQOfdjzrnPOefecM4tOef+rLz7fc65rzrnVnae/evOubTc/yHn3OvOuVXn3N9wzv0r59xPyP3/0Dn3qnNu2Tn3/zrnrp9W+8YSSywnkx1T+H/pnPsd51zVOfeLzrmxHRPUunPuXzrnBuX5H92Zo1acc7/unHt65/qfds79Y5P2zznn/urO37/OecE59x84577snPsrO/PCO865H5b3bjrnviT5/7xz7n+PKP8POOfun6A+/8g5N7Mzf33JOfeM3Bt2zv0z59yac+5rzrmfds59We4/5Zz74s6c+bpz7g+cpC9iObrEgKeHJAiCzwL4DQB/IgiCYhAEb5hH/gcATQD/jXPuCQB/GcAfCoKgAeA/BfBjAD4DYALAMoCfBwDn3AcA/E0Af3jn3jCAqSMUbRxAFsAkgD8P4O8A+EMAPgLgUwB+yjl3c+fZNoA/BWAEwMcB/C4A/8lOOUYA/GMAf2anDK8D+AQzcc79XgB/FsC/DaCy0xb/5xHKGUsssZy9/D4A/zqAJwH8CIDPo/PdVtDRKX8SAJxzT6Lz/f5nO/f+BYB/trMA+vsAPuec6995tg/AHwDwSxF5voDOfDEC4GcB/KJzzu3c+yUA/x86c8pfRGeeO/X67MjnATwBYBTAbwP4P+TezwOoojNf/tGdH+zUrwDgiztlHQXw7wH4GztzcyyPSGLAc4EkCIJtAH8EnQ/w/wHws0EQfHPn9h8D8OeCILgfBEETnQ//9++wQb8fwK8EQfClnXs/BWD7CFlvAvhLQRBsojNRjQD4uSAI1oMg+A6A7wJ4dqeM3wiC4KUgCLaCILgL4G+hA8IA4HMAvhMEwT8JgmALwF8FMCP5/DEA/10QBK/u3P/LAJ6LWZ5YYukp+WtBEMwGQfAAnUXJbwVB8M2dhdcvA3h+57l/F8A/D4Lgiztzx18BkAPwiSAI7qEDGP6tnWc/C6AWBMFLEXneC4Lg7wRB0AbwvwC4AmDMOXcNwPcC+PNBELSCIPgyOnPjWdQHQRD8TzvzHufYZ51zpR3A9vsA/IUgCGpBEHx3p5yU3wPgbhAEf29nbvwmgP8LwL9zxLLGcgKJAc8Fkx0Q8SKAG9hhcHbkOoBf3qGOVwC8ig7bMoYOq/OepFEFsHiEbBd3JhoAqO/8npX7dQBFoLOqc879yg7tu4YOaBnZec6WIwBwX9K5DuDnpA5LABw6zFIsscTSG2K//dC5AJ3v/R5v7CzY3sPu9/xLAP79nb//IKLZHUAWRkEQ1Hb+LO7ksSTXAJljDimHqo9zrs8599+7jtvAGoC7O8+MoMMGJU3e+vd1AC9wbtuZ334cHTYolkckMeC5YOKc+93omIp+FR0TF+U9AD8cBEFZfrI7q5aHAK5KGnl06N+zkL8J4DUATwRBMIAONUzq+SHElLZDSatp7T0A/7GpQy4Igq+cUVljiSWWs5NpdBQ9AP+9XwXwYOfSPwLwA865KXSYnv0AT5Q8BDC0M6dRrkY9fEL5gwB+L4AfBFBCZ9EJdOa3eQBb6J7PtBzvAfhXZm4rBkHwk2dU1lhCJAY8F0h2fGD+LoCfQMc+/CPOuc/t3P4FAH+J5h/nXGXHJwbo+M38HufcJ3fs5/8tzq7v+wGsAdhwzj0FQD/ofw7gQ67j9JwE8MfRvcL5BQB/ho6AO1RxTPnGEsvFlH8I4Hc7536Xcy4F4D9HxwfxKwAQBME8gF8H8PcAvBMEwatHzWDHNPZ1AH/ROZd2zn0cHT+cs5B+dMq/CCCPDnvNcrQB/JOdcuR35r4/Iu/+CoAnXWfzSGrn53vpxB3Lo5EY8Fws+dsA/mkQBP8iCIJFAP8RgL/rnBsG8HPo2K6/4JxbB/ASOo5+2PGz+ePorKAeouPQfD8k/dOQ/wKdldA6Os7N/4A3giBYQMdm/bPoTBofQGeyau7c/2UAPwPg7+9Qxt8G8MOIJZZYLpwEQfA6Opsb/hqABXSAyI8EQdCSx34JHcbkOOwO5cfRYb0XAfw0OnNO8wTpRcn/io6J7gE6fovW3+hPoMP8zAD439Bx2Obctg7gh9BxVp7eeeZnAGTOoJyxREgceDCWcxPnXAId4PXjQRC8eN7liSWWWC6+OOf+AYDXgiD4C+dcjp8BMB4EwalHjI7leBIzPLE8UnHO/RvOubJzLoNd/56onRmxxBJLLPvKjmnofa4Ti+zfRMfP5v8+h3I85Zz7HteR70OHgf/lR12OWKIled4FiOWxk4+jQ1+n0aGFfywIgvr+r8QSSyyxRMo4Ov4zw+gwxj8p4ToepfSjY8aaQGen1/8I4J+eQzliiZDYpBVLLLHEEksssVx6iU1ascQSSyyxxBLLpZcY8MQSSyyxxBJLLJde9vXhcc6d2N7lnMPukSexBEFw6PagudE559/T3xS9fp5izaP7lcfWI+xZW6ezquNR0+2Ftg6TIAj29MEx0+m9yh1TTmMOuwjinENfX5//pjgOEokEUqkUgN3vs91u+7/5rHMOyWQS29vbe+4xff5OJpNd6TvnsL29jUQigVarhXa77cvCdPr6+rC9ve3Tt+/xOX0nlUr5NLWczjlsbW115cGyMF1b/lar5d91zvlnE4kE6vU6EokEtre3kUqlfPvw2b6+Pl+nzc3NPfkHQYDt7W309fWhr6/PpwUAW1tb/plksqNumQbL1tfX59uebcwy8B22FZ9hOVlvpqntzevtdtuPA72meoNtwf5hHwHwfcR66nvJZNKXo6+vD1tbWz5/9iHbKpPJoFarYXt7G5lMBu12G1tbW2i32/5/tjHHC+vNvmA7b21tIZlM+t/Mi21aq9VC57AzdVq+bGDnqArYfsD22f3eDwM2es/KUUDUafbJYdI76JmzGiOH7a+j5t+rY1onhVgunuhcQWVDsf/bOSCRSHjlSGm329je3sbW1laXElYlF7WIYnn0GsugStwqbz5HoBAEgVdszFPBC5+noqUSo3KlQrQAgSCBdVTQ1Gq1kEqlkEwm0Ww20dfXh3Q67RUzy8Q6ZjIZJBIJNBqNLkCmCtj2SzKZRCqV8vfY/gQOFD6TTqe7wCPbgcI+ajabvv1YBv7Wfme9FWwoSFNw1NfX599VoKrAiOXSvieoIuDTsjP9drvt+0fHDPtP286CFAVv/Ft/s39TqZRPf2try/e39jlBD8FolJwJ4LlMQEc/TFuno9bxKAzIYd4/ThqPWo4CMsJWkwe9s1+eJ+2viyqqVGI5Pwkbg1SUVCBUGFTiVGTKFHBiV6Wnq3IqGd7nM/ocgC4GIYyhscwPheMpkUh4AEAwoQBAwQcVnLIqyh4lk0lsbm525c93mCfTbLfbyGazqNfrcM7591Rx8iebzfq2SiaTPh+2L8EUy12v1z1QoZImo0Ch8qXibbVaHoxZsMU6sGxMh8CQ13ReVGYpk8n4vmBZFEARpOh44Fhh3Wz/st5aXtZFgRHrTyErxvFJ0KjMnAIgLSOZHW0Tvktgp+OV9eeYYbtofba2trr6gOOA9bPMYpjsu0vrOHTwZQE71oR0GulRDpPefiYsKycxx5xF/cIkiulSkHMabFGvmpvOS47D9sQmrX3T61JA+m1aE4iyHEC3ElYFxDSV3WC6CnxUQZDyt4pT6X+rKPf7xlTZccWsK3mmmU6nfbn1HV5nO/C9TCbjlT2BnOZDJap14bN8l+xHOp327UjTjC1PJpNBq9XqYjWUPdre3kY6nUar1fJpNptN334WCDINgiTLYOg4sHVjOiyXmpKiQKiyF6yn5sn2UbaLQDWdTnuAosDRMkQKhLVubFsCM9637JKOJzVvcowShLAuBK3Mh/dpgmq1Wr6saprTfNj3rL+aHQmGtM1brdbZm7Qs7XqRJYploJyVYg0b1Kcpp1VmW/+o8tqP9TTzDJMY7HRLzPbsL7o6t2wDJ2ZVRMAuBa8Kj0qBK1ve46pTWQ/LxgAdZUElrN+MggEFVmQd7MpaF5zKBgDdIInpsHxAx1yQyWS6yq/mJn2W76v5x672tRzZbNb74hQKBdTr9T1sEsvPPMii5HI5bG9vo9lsIp1Oe/MQV/WsJ5V8JpPxpizeU5OMVfjapqyzKlY+y/ooENFyMx1tZ+1H2xdMR8EPGSCySDpGLQDjuFSQyDHLcuozBH06RjY3N0PZQIIUFTsGNQ/eV9OqMnbahtp36vekpjEdYyyntpsF/Op/pu1s5VQAz0Vndc6DFTitPI+aRhhQOa33DgJpUezOSZ+NZX/RifJxl0Qi4R0kdZIngCHLokCCjIAqFzUn6IqTq1V1fgXQNfHrCrrZbHb5NdA0oWyRroDZl8lk0k/6yiYpYFOgRlOUjgELgKh8FJhZZoigTJkdu5JnGqqoyaK0222srq5iaGgIGxsbXcrbLjJZHgU67XYbm5ub3rSRTqfRaDS6+ljBqgJGpq2mD1XWVLwK8lKplC8Dn+OYseNGnWyZt+Zl2SElCMJMelof1bEKyBTcbG5udoGmMBaQbBnTVxOQ1kf7wS4GLMjSPDjOdKzqPK5+XWwHZcZoxtQxwfrwuyQzxO+EdeAYPFMfnosOdoDjsQJhtNtpy3HByGHlJOU+7Ls60RxF4UYBquPKeYDaXpIY9OwKzQtkHIBdx06d/GkiaDQaXZO3OmLyXQIcKlQ1qzA9Xe2rSYYKhGAiDHSpAqAzqJp7mJea0HRuZtpMh4yI+nRQaaqpjWWn8y3fZTmUwQJ2nWmplKxfEX1h1tfX97QPhT47BAxUnjQJWsWuAITgiOlY8GVZBgUomr/dJcTyMz+yfOrTos8o26T/s/3teFBQqW2igNwyNxyLBA5h/c/fel1F25YSBq5UmI6ay1gHBXZhjIs1X+r3oOUNY5wA+LFPwK9tCWCP476VE/nwXAaw86hE2/k4QCEKMKgiOynbc5iyHPTuQQo1irXR+kWlG4+105GD/HqCS+7DoytkbtnWXUQKBAhI6Kug26530vcKlqCCK1xO0jo5My8qMTIDCnKUpbGmE3WupVKm4tcdPRb0KIDRv7mCZrno40IlTZASBEGXWYEgi+2hyo5tor4bZAIs28H01JxhwQzzVsWmZafiV7OWAjtVnsoeqMMr21/bWdNhXgRsW1tbnvVRRsiad1R0DrPpWhCgIEWBgzWtqS8V07JlDzOJUtR8qPVQR2jLRjFtpqXtqmno96b1123ydERW5tACH2WcyLYq6NK+o7mzWq2eng9PDHSiJUox6wd+kPKOAhinXcbD9uFR2Zn90jmKRAG9o4KfGCx1y+Pu10MFT0aDSoR/JxIJZLNZz6LQkZIKkgqKz1IpcGKmDwkVh+4OsgqJoEh38eikz3esUlQTGUVZC/3GqVwsUFK2Q31hqHhUkak/if4PwAM+3gfQpTjVEVbrTaVu36VZQncS8T39zXxSqVQXA8WtzPZZ1lXnA/otMV+dc6jAyX7Rj4gmRmXc+L/2ue604rhTk6EFeGoqtKBBn9UfpmnvWz8WCx6sMzPbQttFAYiaouz4ZN00Hx0rBKwWJBFIsx7JZNKzqWoS5NjPZrNdeovv0h+Iz526SStWHoeX47AWVsmfFuA4TTntMXAUZiiWk4udsB4n0dUgJ3AKFSiw60+QTqf9KjJs5c8Jl9eTySTS6XRXjBZgb0A5ZTjUd0evU5g+V8IKJKxJQoGRVboUgh3roKygSOPhhIFkZb7UBEKzA0WdUm17KCOgIJJlt7t7mC/LbP2G2G/qZ6Ish5o8mAYZA93ibn1o9H/dcq7tp/mpQy5NMDr2dBxtb2/v8Y1ifdVXiPVVZkjroYBQy2R9eSzTZ4GgZRRpvrMsnra3c92O1kDn+9Kys8xsM5pPldHRfJgG+6TZbHb1jX1eFx9RciSTVszsdOQoDE3Y3/z/oPf1uah+Oqg/TovdOGw6B4ynPenY5w8ChvsByJOU+3GVMKYneAxMWjRXAbsKT30lqMzVb4TmDK5CVUmoGUh9O/ijTI/1zdEVurIfYWXW1TVBhVVSChAUHGhZAHSBJFWWCm4sC8P3+Lz66tgt9GzHMLBF5cT/FeTxOlf9BFV8h/F/lG0IgsAzQo1Go4vhYf8xDTWrMG2mxbJQOeu3QdaJbWkd2S2I0XhLyqqp0ra+MwoAtWxMg+WzflYWgChwYn/oXMh4P1ondQJme+i2f2AXJKkPk41PxHoQmCujxfw5xsmuaZ2UfQpzttddeBa0UTY3N09m0nrUYOciKKrDlHE/0HMS6UXWBzhauY5b/l4fFxdJ+F0f5NdzmUSVhipbq3CoDKjAVEmqsyope2Dv1mp16rQreH3XMkdUzBpPRpkkrYsuJCyrQaWpLIeyUfqsgiad7236LLsG8SOIIPvBYww04Jz6K/GeAu6w75ore83XrvLZH3qsgYJXLTfz0110ysRpGXgkAsuRSCT8jrAwNkbjKPF95kVRsKjmItZLgTLrZ9uFdVZgYJkR/a1b8lluPWpDx7WyegTwDDLJ51gP7SPrX8RQAnTg5xiyzuDq4K/twr7SozHy+bw3Q3PjgY5XYDegZZQcCvCcB7NzEZRaVBnDlP5xAVyvAL+jMConkV6p7+MmOoFfdtFdMcCueUEncx2DYeYJbStlezRiLNPjipkTP5WwrtJtnixblBlI/Wu0DKrUgF3zjwUxYTt+VAHa9tivLcPAH5U8r6mZhQDGghBllRSYqSlLlZkFPvzNv8kUaTweBbPMy4IM9R9hmgQ/BHLtdtsrXXu2mGXoNfCiZaqVMWIMJI3VZH3G6JxNIaBUZgrY9QlTYZ5kbWiuJXilP5BtD8t8KRtIszDZHD5br9c9C6S+OsCuCcwCTzWpav5Mu9VqIZfLeQCmgFHBqZofrRwYKdCi3l6QXmQ2jisHmYDC/j5Ker0EVI8KZsLa5qjvn2b9L9O4C5Ne/NbPQnRnj06U6jPCCVkVrD0qgaKKmruWMplM12GGYc8zxouCIJu+ghUb/VbvaQA3oFvxWl8P6x9i60MThbYHy00ARcWWSqW6zonic1tbW12RhRV0sL3tFmItB/PSHTnKBlmnbSpWNUlyS7j6v7AP1Xk8l8shm812xa9RpozAg++zXZRBsiYmHWeZTMbXnYCJ/cA+BIBGo9HFmtFMquychgTg8Qrat1pftpmCZGDXhEugYB3TFVApuFcAwt/KsFmgascF76tTsQY+5LjTHZAKwgl46/X6nnAMdhxEyb4Mz35I6TzlvCdlXU0d9/2jSFReOjmctEwnFZ3YwxiuqOdVDvPeecp5j7tHIb36zZ+mcFWuE6P6LeiErqYX9cMBdv1XVOlQWekK2/rahCkW5qfKimVSRW99UJQlsf4g6vOh36X6vajPBeugZaVC03pRuSUSiVAnagUoqrAIMpUZ0HfY3jbeT7PZ7PL1sH4iFvzpPTIk2gcKMsiosDy644zsCxkrvkdWwu6ws3UHOoCBzIRlw8gYslzsKw1KqSBK/Vv4jo473WWo40DZLZaZbA7bWneJaR2UUdK20/HA+xragePBfhdsJ/XLsf3IduA1pqfsl/WXYp30Xpic6WnpvSCPEgQcJq+DgIldKYX9HZam/j4vsXRtlBwG1GgbPSpgGZX/4yS9DDhPS9TvRSMW6/hVPxCgO16NmpvIclhGwJqDeE/NKApaLPBQJcC8qSjUJKRgKOz7U58aMhSsk+1rdTJVZUUnYWWtCAYUpJDB4CGfLBPzo8mGjt+qzLQ8qlidc8jlct4RWdvCiprMVAmTaSBjQudaAljdRq5bztUsB+weG6JgUMGjjVnDZxk7hn2hfaNjUf3FlNFREGJNlBaIKxuo/5P54LhmG9KcxTrrmOL/ysgo0LAMmAVGduxbURMUwbPW34IaC/TILPEaFwdnGmm51+WslNZ+jEuUHFWJ6kA5Cvtx3sp6v7KGUZxR9/T6o67P4wh2HiexCs6yHFtbW8hms/7oAppoCAhUAQHdW5e5WmZEYE0b6FYaFF1Vq/Jg2VhOu1tGV8EEBGRhlMVQBovsjzULqcmDgEDLRh8kAF2AzTJLlu1Qpa6sgbaZpqNHeQAdUw/bReMVMS3G4bEKXv1tFAjQNKJ+OKqgFawqOLC+MgRTfFf9sAiyWA8tl+17y3ooO0TQrSyWHccUu6tMARnHjDoDK9hRdkZNn9bXy5pFeU/BHCOIKztq53PLQtmFBUEPn7eAUIFNFLsWJpce8JyX2NWWBS/6XJhCPwrAYT69wvSctpy0Po8KMJ030Izl8MLJvF6vd60c9bvd2tryyhbYG6FazTVRDr6WteEzznW29jJAIRUrFVtYfgogrKgC4DikSYg7W6wTrr5LBdPX14dMJtN1uKcyLnpwqm5tVmbIgkIGBSQDks1m/dZ+dUilgqTPC8uuaaiZT9tfFT/LZRkKAh0qVZZJT0/X8aFMg+0XZcx0LOgP0yGTqH2j/am/Lfhk2+puMe03m4aCGpaLz+k9BczsL70WNdbDnNB5H9gd/2rmU+CmbBhF81VWLaw/OBY0kKe2jfrkhcm+cXj6+vouP799xnIQ4Il6/iC5CIr1oLrsB+pOmy2L5fDSbrcvTcO6iONx0um0BxxqItEdNfTrALpjq2gUWmDXl4fXmYZS/GQoND01WQG7q2au9vmufV8Vpn4/qiA0/gmALjClPhJqulCQROVhlTfBiTIW2Wy2C0xondU0pHVgW1kzRavV8hF19dBUKjjuMGIdgV0QoAwN+1SD1dn4ShY0aV2VddjPjGPndCpu7SOOG5ZRdyVZBkr72gJTLYPmScCgees40/cUMIaZMC0Tw7HD55S1tKLAzvomMV/1E1JzHd+1elLbHOiOFaQmQ451plOr1ULnsBjwHFH2U7TaOWEMz2HTp1hAoGn2krIPqzev7ycnATyHKY/9O5bDyWUHPM51/EL04EU99ZvKloAgnU57x1kqe91Om8lkkEwmsb6+vsdJOGwC1zGvQfFUgapYExjLSfClDBNF81RFyG/BbtlWRoSiio0KGNh1+lZwp+CAdQF2QQh9SsL8oMgWkQHSrdIEk+owbY/2YFkVUNqdd9qObHMqS3XEZtk0XW1/VehsU7aN9q2aZCybok7fynjo+3bcWObIPqtMIkXBWdTY0N+W0VPRNtDxrfd5zZoWtU0tI6VtogBLnbut07nWzfZVNptFEJzyWVq9IuehzA6TX5jyp4SBgqjnwya/wzJAj1JOqw8OYr4Om48+F4OdWKzoSlVXmlSgOlkTVNAnQe+poqjX68hkMl1mjjC/EmVauC0d6N6eaydxq1QVtLAO1pQBdCtC6w/B++qczGvA3jOzlJHQM4usM6kqQ73PvzUaL3fK0ZfKti0dWbn1XX1YwhaGYQHnlLmxYI+sFLAbKE93nbEOlq1RtsiCHVXULJs1Eem2d62LAiDL2tg0OCaUIbFAivUnUFN/IO1ra460QIb11DzsWNIxo2ZIrQffUWflvr4+bzZWdsqySKwD0+TBrZo222M/p+ULzfCc1+r9KPmGfZhhgMc+GyX7ganDylm1WxTDE5VfGIN1WEbssHWI2Z6jy2VneIBdBsDa+zmxq8IGugP/8RpZC7uS1XSpLKj0LZCxByhytc+07ISuviS62qayUF8cyzowHVXGUSt1dcK1QMY6z6oSC/vGwr7rMEZJ0yKzo0yQLg5tG2u7qmJWRWq3ZivA4L0wBW3ZEwUeNl8Fq/Ye07aHoloQoT47CgLVX0jBqIrGYtJ2Uwdkvqtg2pZD/7f9p4BUxyBNS2zjTCaDRqPRNbZ1rLIfFIDxnSjHfu60I1gNgsBv+U8kEn4H44mPluhF6TXlFaXwgfCt48dRwBYUXQQlftLynaSOR2V7LkJ7xnJy0clXTVlUEFRKwF7aXZkUXQGrElflZx0xlTnSRQHZhbDxZ4GQMi5UWspA6HOWbdD6qzIjUNC2Yb34vip2yzrZb0fjANEUBXT7d9io1XxPGSQFZmEOtQC62A1gr88SfWXYZ6wDmQ8qTE3fOiuzLW2/KgvE59jfeh4bn9VyWOCn/WzbVvtcWRdlgZivZaLIgClzFwYY2XaqZzQ9lsv2N8evnt6ufaLgVRcBbAeajO2OP2uuJYNK/zrnXJfjv2WdrFxowHNWcpDSi7p3GuzLQRLGihwnjePIYdvlqOzLfgP0IHbotNs6BjuPj+h5PKoAdGKm6GqcE7ANtEYWRw/U5G8FJ1Q+ugjSbeKqyCwgUcWjgEOBiq7YNU+rsCyA4G9lvTQOkLYL8wrbQsw8dOWu+bDedFK1cwDrw7KoqZH1VJbHzh/sS7u1X8un+XBnj5relLnQcujZTtr2LKP2I7BrqgwzbfJ5PcuL9dazrrT82k/K0ujYUEaJ7cByhpkF9RoBEvuM41R9xlgeC3413pC2rzrCKwupJk3rE2YZMX4zBKl6/pYyVQfphBjwhMhxWCKvF0YAACAASURBVJf9lHLUMxdNuR5U3rBJ+qC0dII8Sp5Rq8rzkl4pRyyHE5qjKJaet34AVEZ2y7WyPwqKdLIGsOce3+U1ZQzCmBp16rRMhFXiCtRsObWOti763VK5Wb8R+7cFWMyTeVgziTJqelCl1olpsjy6M8cqcn1Wd39pm1gwqPGElG3jtvew+UsZISp6DRyo4I1jRedDbbewdtF6WZBg66PjR+dABUzKrChrEgSBjyatDCPLouOMvlPW9GTBneat455+Ntp+2g7b29tdMZYIPC0AV9ZVwSnTpV+ZLgSiJAY8x5TTYh6Ooyh7SdGrnLQ8x22L00jnJNKLfRHL/qLxOixgAMKdTXm8gYa4p6j/DZWZ3X1CoSLSrdk2CKACFyoHvqugQf1SrM+IBRq8x/SpDPkuQaD6i6iDsgUC9KOwJhHuYAsTNe9oOwG77IIyYCwXn1cAp3Vme7FeCqIsqFOzoTIUyjwok6SsBIUKWuvNXWi6W8wCOeZJ0GNDF/BvtouOAVXuHGcK9tie6iPEflTzkbJYylIpiHXOeRMV32G7qKmQbcFr29udnVIamoFATllCHZ+WLVKGiWNbQZ22pQW7FvBbuTSA51ErnbDVTtRz+7E8R5Uw5uSiKdwwevks0j8NOUzbXqS2j6UjnFyVoQGwx6dE6XWNC6Orbv5WnwX1P6GCVX8UXf2r2YHp2LLqat4GbSPzwHepwIFdkwoZJJZNy6NgSEGPMgxUaGqC0K3UutKPamu2pzIBCi4IYCzYUGBhFZ+2lYKbIAiQz+d9ucje6E4utgvbTdO0vjzKyiibwHZV5kbHDtB96GzUfKLsjJp3tB00T44XZYLIgjBPBXAKvhXghjFAWkY1m9nxEsbOs9w6plhvZYT4vkaxVvBpvwfrWK2MKGMtMf/95NIAnl5SOnZgh4GeKLozCgTYFYCm1Ut1P64cFbQ9qjpfhraNJVwIZPijJhJd9VJRKtsAdMc50a22OmaUUbFKTxWH7tZS00hYaH7rp6FgSJkbLaf67yioUzORshiaHhWQmqz0t85BYUBGzRGq3BRg6OpfTSRsW7avshPWodWCuVqt5q8zXW0D1pGHe/IMLraJKm6mQ6aCEbot82OZMO5WUrZF+8wyhWEAw4pe00M4Afhzz+wY1DIqgFPgQ1GAquOI5j8FF5Z1U3OSPa7Cjh8+o/XSvtJyKBDjPcaDUpbwILk0gKfX5bBMTxToOSs25CxEQd1hZb/Vj037KM8fppyxPH7CccRjDNQJUs1L6ltAsKOmJJp0dMJVPwxlS/T0bU0/CII9/g7Wwdh+S7yurI8CID6jTIUNcMhn9RBGBU12QaXfHutsmRCyMborSXe82YjD9CdRZol5MSgg09Lgj1oO5q2mFt4jw0F2S8Ei28wqcQWeCgbYRtwVpOYT5qVgg/2v5lOrB9RnicKxY82h1gzF9LSt7WLYmsXsb30uzAwZxaiFgSLry6VjR4GjBV/sewXWTDvKPKXjXttuP3MWEAOeU5EwxRmmkA8LAsImmLB8elVZR03QKmGg6DD12Y/p2k+i+iiWx1s4LtRXgaBAFYzdUq1xRXQc6gRM5sI6NPMdrvp1olenWTt5EzRZUKaMjjXRUVmpuUfrpb4byigoiGN+ugLne9YBmenrieXa1tZMo2BMlaP6FgG7PlcEO6yjNcewPRivheBka2sL+Xzev6NsC3/bE8YVGCizxPy1/hbo8D2to/ajPqcsIdPXEAUEwPo/01RTJttO+9KyZsrmafnCgIId22HgW+dQu4POAiodN/ab4TV7dIUCJR3r9jvRfPab12PAY8QqU3vvIIox6rodMEdhF/RZ+/d++Z+nHAbcHbX8R23/oz4Ty+Mn9O3g37ri10lXtwm32+095g9VvKrUNdaJ+gDZLbQKDsIWCzSrWTOH/VuVqJog1PdB81Smh/cUfLBuVLqqHC2jxDorG6D11yMDCBhZ14MOfWRAOu0Pih5oqiyaBXr1er2rzWxbKkhkfVguZWVsW1uHcMvEqBnU5m8BlA1NoM9bxo7txudYX4q2r7I8Og6sP46tv/5PIdiMmlOVYeP7WlddBFgTopaB/Wodr21ZrWltP4kBj5H9FPVJlOZx3j0INPSKEg8DZHZQHgTwDgMA9cM/bvliiYWiJizuLLIOqpyULSNhfR+o+Hmqt4IHggD9JtSsRWWsCoiibJNVeGpu0F1GwN6VPxW0gjPLCjBNtk2Y87YyIOqzoWYVWwcCFMZd0UMelXXQ75S/2Z4EO/TZUOCmYIcxWiwIU/ORlkvLzXyV/WD6rL/uNrJgQvvKbqtX0KMOyspaRJVRRYGD9o2W1ZpD9R3L4Gm0cNZBATG/BYoCMTsWec2yjEC3s7E1H2rdNX3NU02GbCP6RiljZYNAWokBT4ictXI8CstjaUkrvaDMj8KwRFGj+8lJ63je7RNLbwonUE66CnZ4XydkAheK+o1wwlbTDhWjmss0LQ3Fr4pAlTbz4IpXd+/Q+diaV3S8K3Og/jB29a2izJaaIhT0WQaIq3HWRx2+qZDoJ6VpWJMH0wxbNJENYPA/PX6CaaryVCXMOUfn3jBziS2LgiKe98X6aDm1rnyG7aysmfoQKbjTeuh8HwYgrWi+Fhxo29lxoQwVn1fzq4J0/tbvROui5VD2hoAvDLiFMW0K7NVpne9bcyGfUTY1KiQCEAOeI8lpggtN5yTpHoY9edRy2DJZ6vQkJqso6bW2OQ25jHU6D9GTuznRqhOpDUyozEK73d5DwTMtTs4EGGSPrG8NlYfdZaWgSa8rswJ0h+jXfJV54H3ukrK+PxQLAFQBKpthHX+1LAQ5Co5s2qpc1X9JFbT1c9K0lGHSulgGinnpb/6t7Wm3tWv/W/ZAmRlgb4A7C4SYjrajtpcySQp+wkBR2DWth/6vJiVrulKmRX2kLFDWcU4woWwU+8KWQ8eVAmwCdH4HlqVU5s+2kWVIE4kEcrncnh1eVp+ESQx4jiCnqWSOorQOAhC9pvzsRKrlC2OsjsL2HFXOom3OG3D0Wn9fVKH/TpjCALrpez0uwjIA1gxBJadKWB0zmZfGowH27jCxSkTZB6Xu7Yrcmgl4T39b5RTmEEtlwzZRnxg+r6t6C7r4o2wOHbkJWDRYnzIFzF9ZOKAb3ChYsOY6DRKpYEGZB61bmMJV5kjb2cY2ssBJy0WFr3MdHaAt0NV21eCCCpgsKFG/qqh5wbJqCgBtwEsde3a3ldZR+1C/H8sKWabJjmkdzzRfqi5QwKY7H8nyaR31nSiJAc8Zy2FZi4OU6EVQcgfVQScpex04vzoeFcBchL6I5WDRyVcdly2TA8CbJYBdxUeTFSd560cT5m9jFY9lTyw7odt0rRIiS8LnFKzwGbvqtUwC0B3B2D6jv60JiNftMR3avgQYzEfbnWla4GbP5+K1sMWSlscCCQVZ2u4UBRx0SmcfsK+VQVPlzB1j6oul5YsaC+rjErX4U+ZEGSItN0VZKN7TNC3wJABn+mHvaJ9qcEL1+dLxo4BY+17bmiZN/QYIcJxzXXGaWE7drs6xriCSz+g3FnYYrUoMeM5YDmJn+MxZ5HmeYidL+3fU88eRkzIuMYB5PMWagBT46CRKBWgVqIIlu6rl/5bFoaJQWl/j1KjJRgGMHaNhJo4wkKAKnPmGzQ12zrDAS4EJQRjz0jgsWoYwFkVX5jYPXiMrw3YJM8WRWQE6IJXMAMuou7jsXKTgk/1tn1eFrvVU8ECnX/WpUjCnY4DCeEvWzKbtZ1m1qDGg/W9BEMumZiGg27lcJYoVUSZRmTGaqyyro6COwrFnzbq2T/SajV6t/apmUP221KE9SmLA8wjkMKzHSZW2TfNxkhiwxHIcUYdfPdeK91RhA92mCk7E6i+hClwdLfUbVyVoTTGaj1V0lmUJu2dF2SA9E4vXKJqfBShAt3JkXbgiDzOz8Lfdls7fWjd1QlXzDNO1SpVtxP6yDtvArtN3WD0tM6b1Yd5Upul0Gs1m0ytsBRcWzOh9HQ86ViyjouyXtq/+bcGBvmdBgjJQUaLAXcek3ZVHQKM76pTl1LLqbwt+VNR0qOypBr7UPrH1VkZWd+LZsXXhnJZPU/mfR/pHlV4rT5gchjU6Th3sB/6o2+EitH0sZyPWUVMnaJ1c9ZquSO1uGIo10Vhziqaph3TqNxaWrpbT+qwo4FKlqwpcnWTVnGO3p9N3RAGhZbfsuVzaHoyFY4GIOiPr9u0wVoS/uTNKwYw6PbMsfI4/6XTaty2BFwGBxpFRRoL1IJjSYIDW50Z9l1gfdfBVAM00OX6sctdDOZm++kjpezqOFLRo+9oQAda0qmCS7+nY1zAIOo4UHKlfDt+xvlLqIB1WX/1e7IGyurNLz9viuNM+sYzofnqqJwHPaSqgMIXWSwruMEDiokgUeDgIVBy3P04KVo76fgyOLpdQsViHUN0ZogpIfUyUIbC+MEwnLAaOMgx2PNl4KBRVtrxn37dziIIIoDsonQVtWmeKBjAEduMGsR3CVvq8r7/1uAg1DVFx0SREB3LLeuixHu12uyviMxUjjwdh3egYbeugrJzWhemyPFTKrVYL6XTa95cFoOqLpf1qGQZlIixzwfxZFvVP0TAG2iZqwmF7KqMUxpAoW2Pb1gIiG6dJdZS2kY59BSC2bZgW62R3R7IcUbrQ3mca3Clp39lvju5JwHOactrmopNIr5TjrERXgvb6Yd8/an7HleP0xWXuu8dROOEq66CTPNCtpMguKHDhM3Y8qQJRp13LKqm5QPO3J2bz2TD/IaZt68Zy2HKSgVCTiwVPumJme7DOqqSDIPDgRc8ji2LG+L6aehTk0Eyl15m2bXOmreVVPw6CKF4D4IMTkhkigGKbZDIZb95Kp9NdvkKtVqvLHGOBk7Y7r7FNtAx2jtQYObxuj75QPymmpQBc+0rNOtZpWvuSaYQBZ02f1xXEWtaLdaLJjG3KtuI1BTs6RnWcajupqU1DRWhsK+sTZ82EKpce8AC9o6h6pRxnKReFrXoc+iKW/cUqbutIykmZitGufIG9q18Ae1bSlj1Rxaz+FgQCusrm89bHx6arpgsFMvxRUSbK3rMKO0yRqB8GV9wMori5uekZF3U2VaBCAMPDQdnGZGZUeTOOEc/EoqgyBeDzV7aHSpGAbHt7G5lMxivdXC7ny6amukwmg3a7c3yIcw7pdBqtVgvtdhvVatU7UZNhYJvr8Rg6fshI0BGX9VNAoX2v7W2BnfosKQup40PbXa+pWIBtRcdamB+WZRBZXgWgwC5wU7Ohlo952PJadlXbICxd9u9+DsvAYwJ4el1Oqnx7zSx2GZms2Px1OYWrQzXZqK+EmqfIHLTb7S7FqgH3qGR5nZO0fVaVQ9TKXMGY9akIW6UzjbCJX+MA8b49fgLYVSoaV4fv6EqcbJcyNTQz2LJYAAfsAhTb5hYoMeYKn2+3Oyess53VcTmZTGJgYADVahXZbBb5fB7OOR+Th4CIPwqMmGaz2fSsDkEWgSl/NxoNtFotbG9vY2NjA81mE81m018jOOK40v6zjtksF3/rDjZrRlPQqAyTBcIKjnQcMn8FYhaI67xlQYsyNMoWqQO1lteCEpZFTXf6TFgbhfkshVltrE9blFwIwPM4KI+T1LGXwA5weADXa+XeT2KwczklzBygQtqcE6o1a9mVLn1WlI7XlSqVuwIDUvVK14etyC3YUQfesDLp/2Q6LAOkq3VVNszTKkprTlOwQvDBdgD2fuNRSpp5qEJjewO7fj/ZbBbpdBrZbBapVArFYtGzNul0GoVCAUBHIefzeZ+vMi9Ms16vI5lMIpfLeV+iVquFUqmEdDqNRqPhr9HcRVCk9Wu1WlhbW0Oj0UCz2cTq6qoHQQoWWQ8boVvNlNou1oRngTSBD58PU/r6Dstr2T0FFMqsWEBmzwPj7zBWRr8BLb8CagXtGjaBaalZT8cGzZVaFmvCi5ILAXgeB+XR63U8C3ASVudeAQsnKUcvlD+WwwnNDQp01AdBfSe41Vl34YSJOrHqSlsnbd0ZZf2GmId1grbAA9jrnKzlD/OVUTbY/qYokAJ2d4XptTAWx7YpFZuti5qQbDnD+oDmrnw+j4GBARQKBeTzeRQKBeRyOWSzWW8yymQySCQSaDab/sBR+r3whHuCmSAIMDg4iKGhIbTbbSwvLyMIAgwNDaFUKmF9fR1LS0vY3t5GLpfD4OAgMpmMP8yUDND29jbK5TJarRZarRaq1SpqtRpWVlawurqKWq2GZrPZ1QfaFxaAaL8owxEGjJTNURBNsaazsHncXgtjjGy/a/q8bs11aha14yRsgaHlTKfTPg36BVkncR3LGtRwP111IQAPpVeUYSwnl6i+7BUQ9KjzO6iO8dg/G6HCUOZFjwNQh1ICB13VAnv9U9QkZCdgBQPKlOixBpZhUTNC1IRuARvTtsyLrbvmxTx4T58D0FVuBSwK8MLAi/VDscrOKlQqcLI2ZHX6+/sxPDyMQqGAgYEBb4bi/Xw+7/2D1tfXu/yj2u026vU6Njc3USgUsLCwgFqthmw2i62tLdRqNSwuLiKZTCKTyXjzVL1eR7vdxsDAAAYGBrx5rVgsYm1tDZubm11O29VqFfl83jNFS0tLWF9fx8bGBmq1Glqtljd/RYFP2362z+zfYWAkzBxlfyvDqAyQPsf0ac7jPTsOrTlM2RwdBzrO1EHdBl20TCTTZFk4Hvk92fAFUdLTgMdO8vGE39tyELo+Sbq9KqcFRA5Ko5fb4CKL+oLQEVWBDidQ+nZsb293OewCe7d5q9kL6D51Xd9Xyl/NUNZEQFFwYlfuFrAoE6CrbAViyiwpSGL+YY6wClgU/KhyUh8MawLT+cGa7XSHF4FHoVDA0NAQBgcHMTAw4BmdQqGAVCqFcrnsnZpplqJjcTKZ9GCj0WhgdXUVGxsbyOfz2NjYQKvVwuzsrG/PWq2GTCaDe/fuIZPJeODS19eH1dVVLC4uekU9Pj6OjY0NrK+vY3h4GGNjY8hms1heXkatVkOj0UAul0NfX5+vB/PXflIfFguAohiWMEYv7G/1hVLQEGb2sX3H70Gdx7VcykzaPlXGSY+PsH5fOo7J4rEs1heMZdDwBTSDUcLaxkpPA554kj+ZnBUAiZLD5vUoy3TWcpIxGrM25y92+7MCE42+S7ErVyoj7Us1/Wj/KihQxsXuWqEPj5o/LPhRUWBmGRotU9gCUhWGOiorW2MBkH3G1k/BjrIHCrhUmanpK51O+9+lUgnj4+MYGhpCsVhEqVRCJpPxJimCiUajgdnZWTQaDTQaDbz33ns+zeXl5S6zJcvW39/fZa4EgHw+798js8N6V6tVr2RTqRTeffddtFotNBoNjI+Po9VqYWhoyDNy/f39KJVKXtEHQYBisYjl5WUfmJEKW89DA7ojJSsQ4bOWybG+PXacaFBLBRLar8zf9r0CJe1j9m2YySwIAg9MdCs50+H3pgCazt16bIQF/jq+1OlfQeNB0tOA51HIZVY6vQwsLmubH0XiNjh/4fdPpairaj3Jm8yMXYlTtC81Oq8VdVzmc2oy2G9McLIPyzcMFEWZHsLStTu1WFbrF6LMkQIaXfXbFb8126mS1mdTqRQKhQIKhQL6+/sxMjKCoaEh75w8NDTUxaIkEglvMnrw4AGq1ao3ZznnPEsDdLagl8tlz7Zks1nvH8Ry04yl7INznWMMarUa2u02VldX4ZxDs9n0jspbW1tYXFxEqVRCoVBAJpNBf38/KpWKHw+5XM6DoFKphHw+j7W1NVSrVdTrde+0roqdfQBgD2izfUUAQTaF7W13g3Fc2j7Q8aoRqTm2dHywz635NSx0As8O4/hOp9PedEwwaME6zcosu/oDEfQpiNNz1AiaouSxBzy9oHQuE+g6TF0uS11jufii/iiqyK2fDoAupc53re+C9Y0AwiMuqyKyDqd2Fa6MiAIyBTQWYOl1rav99qIYIWuusD5CvBdmVqMis/VQZa4HW9JfZ2BgAKVSCRMTExgcHPRxcpLJJAqFAjY3N7G8vIz79+/7tGdnZ/3OJ6Zx/fp1zwQlk0nUajXkcjkPSAioyuUynNs9R2tlZaUr0CDbhyaqvr4+v0OLQKtWq3kzWqPRwOLiomcprly5gmQy6Xd9qWN1uVzG0tISZmZmsLCw4HeD2f5StoztZ3fMKUOj/mfsD8uA0HcmbOeXmrG0z5XN4bPK3Cnwtaymlln9eFi2MMdltgPz1P91gWLH+EG65bEHPMD5A47LBADsCiWWWHpdrNlHaX01LQHd4IWiYEH/tnF41HyjeYetwjUPndDDHKatD01U/TS9KKbHmpt0Na8mL20L5m19RhTI6bZhrYOCnStXrqBSqWB0dLTrKIlsNotsNou33noLd+7c8UELGU+nXC57BqVQKGBkZKQLXK6srPh3crmc3+VFUNXX14e1tTXUajWkUinP/PT392N1dRXpdBpAt8lrdXXVm7oIgFqtFhYWFrCxsYHl5WU8ePDAj6WxsTGUSiX09fVhZmYGiUTC1yGbzaJWq2FtbQ31et2zImqG1ECLdku4MiYKLAgeLKOjYREso2UXABS7a4/v6LcT9g2wnDpWdYxa4G8ZTGt+UzMrTYLK/kSNbT/G97vZ19fXuzaRWM5czgK4aJpRYy8GS+cr7Xb70nSAc27fOUx9d6KAgU7gqqztPQX7uuI9aBWqIMIqIVuesG9HV+QWiLHMUb5I+pxli2husIyWOkBbM4IqXpbNKjGaI9hOxWIRt27dwtTUlDddLS0tYXFxEUEQIJvNYnNzE6+++qo3Fw0MDGBsbAz5fN779nDrOJkhOhVvbm6i3W6jVqthYWEBo6OjmJiY8KayZDKJ1dVVrKysAADW19eRz+cxMjKCxcVF3weFQgFBEHhnZu13bj3nVnQ6Oc/PzyMIAvT39+P27dsYHR3F6uoqqtUqnHOo1+uo1Wqo1+tYXl7G4uIi1tfXu4Ibsk/DAAHbWMeLgnUdc/xR4BMFVMJYmjBzqS2DBTvKioZ9CzomAHjz1H7sjS4gyMjZc+harVboHHbqDE+8uj8/sai8V8WidiB6xRxLLGcpqlAs8NBJ25p4LAiyTsG6W0VpeppwKKrMlAmx30OYj0YYmAgro81Ly25NDArawkwQrK8FdWxLps0dOlom9cVIpVJIpVIolUoYGxvDtWvX/HZzAB401Go1AB1fkIGBAVy7dg2lUgmDg4OoVCrIZrNdq3wqymq16v16arWaN0fdv38f29vb3kRG8FWr1TxIePDgATKZDObn57G2toZEohMLJp/Pe2dq9iO3wpOpGhkZQalUQrVaxfDwMCqVCubm5rCysoJvf/vbKJfLGBgYQLFYxMDAgGd4ms0mCoUCisUi5ubmvMlMHafZvto/2p/2CAhr+gqbV5UVsSAmjOXhN2JBeJjJUxkj5mXHoHU01rKGMZJ2IaDphwEzK6cOeA5r0oiB0a6EtcVR7JJh7/Si2A816r7+T7lMYyUe+70jCkL4N7B3B9N+LI1VLCp6OGXYNl6Kjb4btlJWodOzpqeraV1xW6dP+1t3lNmVOBWcOloryFEwBnTvMFOl5pzrOvUaAPr7+zE5OYnR0VF/dEQikcDc3BwePnzogwcODQ1hcnISExMTGB0dxeDgIBKJhDcFVatVBEGAWq3mgwcuLCxgcXHROwTTPLa6ugpgVxk3m03vP8Mz0+bn570DNZ2Vm82mj+RcKBS82YtxgorFogdD3C5fKpUwNDSEoaEhzM/PY3p6Gu+++y6KxSLe9773oVQqYXR01Jd9dXUVuVzOH2CaSCR87B7tdzuGlE2zwCBMr9ixFjUX2fEeBmrs+NOdZlHfSxgbZXc2WtbRlpH/cwGg7+0nZ+LDc5jJPJ7wOxJG8R2lA4+a11HB06NSzhbRH/QRXuTxc5HLflmFbIcCASppZXGAvYc6hrEsKvZbCgMzUYCIedsVcViaWpawHTjW+ZPPEfDRP4T11vLrjhnmqQ6k1i+HK29lAGgiC4IAuVwOY2NjuHLlCvr7+5HL5eCcw+rqKmZnZ7G8vIxcLofJyUlcu3YNY2NjmJiY8AzQ+vo61tbWPAujwCAIAiwuLmJpackf78DyMjjg2toa2u2232XFXXjcRZROp7G+vu6PldC6cOceAyPm83lUKhUPkLiNnuCFARO5y2xmZgZvv/02Njc3ce3aNVQqFd8G3LZOf6QHDx5gdXUVjUaji/0LAxkWiNrxHWbatMxO2PvMg+M+zGfMjj1bxij/Gjueor4ZpmcBlW2HcwE8sewvUZSzvb/f+xZhWyraIuOzZH+iymOfOW45wgBCzJLEclpiY8pwcg9bcHBiZpRXpdEtYAJ2d4EpYLE+F2Hp6yQP7FVm9nsLA1NqAlFThLJYFPX3UJZHV/ZWqWnaLDO3FGs9gN3jKRKJhAcIk5OT3g+H8XQWFxexsrKCXC6H69evY2pqClNTUyiXy8hms2i321haWsLa2hoWFxexsLCAtbU1bGxseNDinPOBBdvttj9ugn27tbXl4/PwGTomN5tN5PN5z7Dw/CzrE0OmRH1wisWiDyxI5ZtOp72/0fj4ONLpNFKpFO7du4fXX38dGxsbmJycxPj4OPr7+/22+bW1NbRaLSwvL3snZrJRFqDY7dsWQNu+i5o3ta+t+UzHmabJ9yzg1jHC8WDjONn01GSmeajzvLKSZBzVdGbrbSUGPI9I7MQZRfdFvRtF7VkgEfV7v3zDgFLYO1Gg6qB6HpVViqrjYZ/vdTlqm1y0+l00oZLgRBrmV2ABhyoPvqumAp3MrdnIMkYKDjTasLIxqlQodqUdtcCx348CPGWq1C+ISoblA7q3z6tiI+uhbJj+z3edc0in06hUKrhx4wYqlQrK5bI3g9HRN51O4+rVq7h58yampqZQKBTQbrexsrKCarWKhYUFLC8vd/m6kJ1hwDsA3vSk7U02is+1Wi3U63Vks1m/i6q/OZLYegAAIABJREFUvx99fX2+P2nyYqBD55y/xl1ajKdTq9UQBIH3OaJfUrFYxMjICN73vvd54Hfnzh3cu3cP6+vraDabuH79OkqlkgdkADxDVCgUsLKygrW1tdDxa3fMWfBgwQv7zY4Tu4tO2bEw0K1pWpDOv9VvzY5/zVOFadodgcDeA0K1LNbnzEoMeM5YbOdTwsBC1Lth1/a7d5BETYqHZWHCnjtqWQ9K3w7aw7bXZQIHl60+vSp2sgX2xv+gKAghAKCjrIIYTrwMrQ/sPQU9agETplQ0b6sEwpSaAiFbbssOAeGKiEBPV/22vaL8OvR/psWdT1NTUxgdHcXw8LA/B2l+fh7vvPMOarUabty4gWvXruHatWsoFov+5PGFhQXcv3/fOzSvra15Px8tM2Pe0KcmkUh48xTLzLqyrWhGIsBQB2D6CdFJmWCuXq8jnU77HVr6U6/XMTQ0hIGBAX/sxfDwMAYHB70zdxAEePvttzE/P+/L1Wq1POBIpVKoVCoYHBz0PkiM+KzztYJl7Vf+2MjFBDBhJigyJXxO79mxoN+Ggnob8TkIdqMh8zvhd6Og2AJr1knP8FLQrX132GjLZ7JLSwv/OMpBYOQ4LMhBTMpJy3fSeyqHASfHlYMYKL3Wq2PwsOU6Sfl7uf69JjrBc6LVLbucpC0zY8chJ2eCh/2+A7s7zPaV3rerZqA7YjNFlZaCHYrmE6Ww7I4XBUBhYEz9JjRtpqlmwlKphOvXr2N8fNwzO/V6HXNzc3jrrbewsbHhwdDY2Bj6+/uxtrbmD/pcXFzE9PQ0ZmdnuxgHmp8A+MNEGXiwXC77oyror8PggTyvyznnT1LnIaGMx0OTGM9xIpulPjyse7PZRLVaBQDMz8+jWq2iXC57NikIAn8u2PXr173ifvXVVzE9Pe3LNjw87Nu0v78fyWQSjUbDb9XnKe22X7W97VhSAKTjhe8ru8f/rb+Y3V2ogMs6H5NtiQL1FAU3GqtJWUPrX2bzt6zVfnJmu7QeVwmjDu39/d49iSgtTz8ES9HrCpR56gQNdJ+ZYwezfjhR5Y26vt8Ef5Achi3qFbDdC2DjvPO/SGLBh2Vlqfit8ue3YVevdicUvy315WH6fE8pf931pWVS8wKwaybSe1GLLfuMTZ/ltM7Y1tci6l1VjvaIjGQy6dmd4eFhb+JptVqYmZnBG2+8gdXVVUxMTODGjRvekbnVamFlZQXz8/Pet2dubq5rt1cikfCMDq+lUinkcjnPsPBoB8a2YeTkVquFYrGIer3uy0pH40Qi0RV1OZFIdAUF5Lhh/TKZDIBdZ1r69RDs0A+o1WphZGQE+Xwe169fx9bWFjY2NnDv3j3Mz897AEWn53q97k1plUrFO2qTNVSmw5oZ9xsbYcyfpkfRSMh23rfjUb8Lvbe9vXsuHVlOfjfsN5bB1kHfCXO21jKq6TdK9gU8x524taEvs9g6HqRwTxvs8GPP5XIoFosoFovo7+/v2iHAnRH6UYSt2Cx1ubW1hc3NTf8BM3AXKeR6ve4ngFar5YN7HRaQHFTfo46fqA/6POSkeZ/1t/M4fJtHEW0P51wXha5jyjpDhjEqYYsLuxrVtuczNp6Nlkvz4N82ArStD8GX7ihTFsAuWDgvaD30gMaouW6/4wS4Ss9kMhgaGvL+OOl02u+Cevvtt7GwsIBKpYL3ve99uHXrFoaHh7G5uYmlpSUsLS1hfn4e8/PzWF5eRr1e96wHhY7AuVwO29vbqNfryGQy3ieH4MUu7IIg8BGX2T5kfIBux2PeZ74EL2SGCErYJs1m0zNmc3NzPj8eSprP59Hf34+pqSm/df7dd9/FwsICnHM+CCOwG/G6VCrh6tWraLVaXSe32z4JA+hhO5jCHNA1LdY3zNlZxxjHC8eCHm+h455ltUyilkXz5DMEd3bhrUDuMDu0gAMAj63gcRTQZZ5Yj1q3k7JfXL0Ui0UfeIshy7nTQVmdsAkqbOKNoh3tqo6DsN1u+4+9Xq/v2TFBYHRUBuiobRFVryi5COPxUZSx19vgPCRqrlOfBavY7bs6eVvWg8LvUmPVRLEuCsJs2VRJ6f2w3VP6bpjJI0xUKdn0tRx2jrDfYSKRQKFQwNTUlN963W63sbCwgPfeew8zMzMYGBjA7du38eSTT+Lq1aveaZcmHDop1+t1D6A41/Hoif7+fuTzeZ92Mpn0P7ZePNOKsXUYOZmLvHw+7/uaYId10kMtCY7pDG2VLsdBrVbzfjqsf6FQ8CfB37p1ywO85eVl799y48YNjI6O+rl2e3vbnwFGR2fLtNm6KjCl2HOvtH+1T62vGH2PFKTzHV3sartoGmqaYvsp6FIfIU2fwIp/83nrg6TpRcmhTVq9wPT0ssI6SImfBOwwIun4+Li3cTNKZ5Sjmg5o/Rh0wOhEa+uhKz0OLt2uWygUutKmQ93q6ioePnyI+/fvY35+3kcwPars189WwRxGTgNkPQo5ySIjluOJc7uRizm5WoUextIoCLIrVRXLEoWtRjVP66ipaehiRk8f5yqXz6tZWstv89XVuQrTVmWiZbAxYeyWY85LmUwGIyMjqFQq/hiIhYUFTE9P+6Mibt++jfe///24ceMGksmkP1BzZmYG09PT3jREsJNMJtHf3+8XYKVSCcVi0TMsynyxTQhUWF+yTFtbW8hkMtja2vLnWdExmdvV9eBP9jsBK01mBCBU9LlcrutMrFqthvv37yOXy/kdX7VaDU888QTGxsbQbDYxPz+P1dVVrK+vY25uDgMDA36HFgMzLi4u+oWvmrXYL2FjW4Gx+uZY3RD2nmUpOX6tbrHgJ+o7CNM1Wn5llNRBmfkoiLI6VRmtKDnzXVqnOWFf5Mk/bLI5SLLZLEZHR3H79m0fUl1XHGRawiYkAP4jJVCx20xZLmB3NcIPNgiCrjgjOvh14mDeqVQKg4ODPirqk08+iQcPHuCNN97A7Oys3655lPaKWnkonal1sHXS9y4akLgIZbwswrGtSsECAAssLDjSMadmDwUA/D/MRECxjpkq1nSgK19doKhyArp9feyqW9+1AE6/L1v+MOBk60Un4ImJCX8cRDKZxNLSEu7cuYN6vY5nnnkGN3Z2ZSWTSdy/f9+bue7fv4+5uTlvtqcDcTqd9oo1k8mgWCyiUCj4ehWLRaytrfk24LtBEPjoyJwL6cjMWDGbm5toNBooFotd9eDzPNeLrgI8/TyTyfg5bn193QMm3iMIaDQaePjwoXcDKJVKmJycxJUrV/D000+j2Wzizp072NjYwPT0NDKZDMbHx3291SS4ubm5J2pymOOyzpV2d1YYi8f+tzF/1FdNdwhaoGGZFzsf855+U+qrw/FGsePWLj547yCXCuASbUs/TwVxGEV+FGWfSqUwPj6OZ555BteuXcPAwIDv0Far1TXRqoNyJpNBPp/HwMAAhoaGMDo6imKx6M+ACXM+U/BAwLO5uenNVaRZea5Nq9XywboUCKl9lmfKlMtlTExM4J133sHrr7/e5Wx3lHYNY8fCQM1+/+t7vQgkwgBeLI9OOI6to6rdAkvR788CAAuEFIyoM7P2uToNRwF6/R6sqQ2AN6tY+p95al68b9O23w23/KpJIgoYsc6pVMor+4mJCYyMjHjQMTs7i7t372J1dRXDw8O4ceMGbty4gVwuh7feegtvvPEGpqenUa1WsbGx4RdsdG7NZrMA4LeY53I5r3Q1Do8CDpYnkUh4Vlx3bvGsLR5ASkZI25v1Y7p8hn3GHVv03wHgT2XnDi86TNPsn8lkMDMzg2KxiImJCXzwgx/05XvzzTexvLyMfD6PbDaLkZERv3V+cHAQy8vL/nBRjYptxxX7NGxxaFlE+6yOdU1Xx7u2hbUi2G9GAbGyN7bsKjrOwspmy3TQ/P7IAM9ZK5peUhDHrWtfXx+Gh4fxgQ98ALdv30a5XPYrGQUKqVQK2WwWhUIB/f39GBoawvj4OCqVCoaGhlAoFLrCuFuWJmylyeeVtQE6g5ARRTc2NrxtnXb1tbU1NBoNf8qtRsPs6+vzYdPHxsbw8ssv4+7du127Ig6S/doxbAUM7O/P06vgpxfKcVQG8rIIxwHZ083NzS7QEAYgOMEri6MMKAC/sidbCnRvfQ+LQ2IBVJi5id9WItEd7FDLwvT0uipxq2gsS6x56fPq/6GmbqA7/grN8BMTEyiXy0ilUlhZWcGdO3cwNzeHRCKB27dvY3JyEsPDw5ibm8PLL7+Mt99+2zsdj4yMeOVYrVbRarX8ji8CiWKx6Oct9kkqlcLw8LDfncVrPDCU9SBjQt8fMuJkkOw8okCI7UzTEkFhPp/3gRILhYLf8UUmXnd5ra2t4eHDhyiVSiiVSqhUKnjiiSewvr6O9fV1PHjwALOzsyiVShgYGPAmwUqlgsXFRb8AVUBgxynLfRgwQAljitQMGzbW+YzmT39PywJpOe2CwIZZYL5hmwG0rIedux4Z4AkzLRxXekVR7dfIRy1jLpfD7du38dxzz6FSqXStpjjB5vN5DA0N+aBcBBO0MRPpbm5uYm1tzQfbyuVyyOfzAOBjPbTbbb/Tql6vIwiCLnMZQ6LThsyD8K5du+Z3KFSrVaysrPhVG8+1ocMytwtmMhlcvXrVs0+vvfaap5xPQ8JWBbEcXR7ndrNmJxU1cVGxUjRAGtDNnnCyt8EG7dwQBmp43a6GdTeXMrN8XhlXgisqDGvColjFyL/JHlhmSxldBQBqMi8UCt6Ulc/n0dfXh42NDdy/fx8AMDk5iampKYyNjSEIArzxxhv49re/jVqthoGBAX/2FGPs1Ot1H+OGB3jStOOc88CCTHYqlfKsEOdPa8ojCMxkMj5aM/s7jFHmGKHpi+3IPDg2eAQGmXUdH5x/Nzc3Ua1WMT09jVKphGw2i+3tzinu169f91GV19fXMTs7i3K57Of5/v5+VCoVLC0toV6vhzKGao5TwK337HjU+igwIajl+FDAy37XsWMBCa9xDCr4t2ORQkbRmrGUzbEAy9Y9TB6pSeu0JtRemJj3U9ZHKZ9zDpVKBc8//zyeeOIJ5HI5/1Hwwx0aGvK7GCYmJry9OggCDzzIsmxsbPhB2Wg0/DZ1RgAdGBhALpdDrVbDxsYGFhcXMTc35wfY2toalpaW0Gg0UCgUvE/O1NQUSqUScrmcD8w1PDzsw6V/+MMfxuLiIu7evYtXX30Vs7OzHkhx4q9UKvje7/1elMtlfOtb38L8/PyBDs0HAcf97h/0bi+Mo1jOX3QSV+Chk7SuUlV5ALu7UlT5K9tIxkNXxTpJ6wpczWdhu1D4jCpta/5SZaXvhwEXK5qWAiYFVto2VKY0ZZElGRgY8I7KAPy5UNxWfvPmTYyNjSGdTuPevXt4++23/YGhAwMDGBwc7HJEprlJj3gg061AxJrXNOgfAL8wJOtCsxCZF7YV66rHZdiNHkEQ+Hmaz9C0tbm5iVQq5etPwJROp/25Yc1mE2tra3jvvfc8iOLW/aGhIZTLZR+HiBGjC4UCstmsjzFUrVb9+LR+aBwnYbpKfcHCzERk/ZStseNawTfHBNDtbMxn7VinKGPIZzRPdVS2QF+/FQWe++mUS+PDc1gJo21Pmk5YmvuZVSjJZBLXrl3Dxz72MYyPj8M553100uk0xsfH8fzzz+PJJ5/E8PCwt6c3Gg3vV7O2tobNzU0Ui0X/ETAuBX/W1tbw4osvYm5uDp/5zGfw9NNP+wmKrA7BFVdNPGNmcXER2WzWn+QLwMeQ4Mfd39+PgYEBXL16FZOTk/jgBz+IO3fu4Ld/+7fx8OFDv3uBH+wzzzyDUqmEr33ta3jvvff2KJCjtH8MWmI5LdFdTypUKFSqrVbL79gB9l/8cAeL7qDiOU3qBxemdDR/AF0mKb1uqX8FVHazglUGYXOYmrEs0FIGS5ULwRHj4VQqFRSLRb/7aX19HdPT00gkEp7ZKRaLqFarePDgAebm5vzupnK57NkRAkU1IVnTiq70rYKmH49lywB0+SNyLlPQyzalwlW/LWVNuF2bJq90Ou3Lxfm13W6jWq16AMa5ttlsYmZmpgucDA0Nob+/H5OTk5iZmcHGxgZmZmY82KGj9sjIiD9clOVimWycGztW1fcrbMyybdXUZAFP2LhV8KegiWPKRuYOc7LXMW5BjY5xXYTouI0Bj8hpmVGi0gybJMIkm83i6aefxkc+8pGus1L6+vowODiIj3zkI3j22WcxPDyMRCKBRqOBhYUFzM3N+eBVpI7L5bLfwaUnALdaLTQaDXz3u9/Fa6+9hlarhS996UvIZDK4du0ahoeH0Wg0sLa2hq2tLeTzeVy5cgW5XK6LEmaMH65uGRdieXkZDx8+xPLyMqampvChD30IlUoFw8PDKJfLuHXrFr773e/iG9/4BhYWFvyuAsaYKBQK+K3f+i289dZb3gnxMH1mAeZBCiOWWA4S3SEStmoF0AVc7BgMY4fU7KF+P2oOCJv0NZ0oc5eudm2UZioBjWtivwcFKnZ1bdkjPm9NBmHXaHIZHh7uOs7hwYMHWFtbw9DQEK5evYrR0VGk02l/Ltb6+rrfBp7NZr35RjdDMA9urNje3vaAQoPVqYlNd6myj5SJ4E8ul/MO0NpndjcS/+Z4oFmM75DlUYALwPsLsczMd3V1FfV6HbOzs94PKJFIYHh4GJOTk3j77bexurqKpaUllEollMtl72IwPj7uAZFlVBR0KChQAKe+V2wP9qtl85Q5s2NIx5a2mTIvdjyFjUmWRU1lfC4M8Gh5LGsaJY8d4DlNiWKLDlK2xWIRH/3oR/HBD34QuVzOO9LRj+dTn/oUrl696s+amZ2dxSuvvIL19XUUi0XcvHkTQ0NDflcWnRenp6dx//59D0IYQp0rC+ccZmZm8PnPfx6f/exn8eSTT2JsbMxvpxwbG8PIyIiniQF02fH1Q6Yfz9TUFB48eOCjpq6vr2NkZMRPeh/72McwOTmJr3/963jjjTf86cJ9fX0YHR3FJz/5SeTzeXznO9850Jk5qr2t+SCqP2I2KJYoUZZR/S2AbjDDiTYMHOliR4FAGOhQZaRAI8wfJwyAKWOhzI1lYtTfJmzVb1fvYZGZwwCXioKdQqGA4eFhvwDjwmh6ehqpVAo3btzA2NiYN6vrzk9VqsoIkA3hgolMhoblUFMj60yG25qiFBhyRxfDcRBI8RnOfWRtFHixTQnUtE/IACmwzWaz6OvrQ7PZ9M7NfX193vw/Pz/fZa7j2WMzMzNoNBp+p2y5XEaxWPR+laurq960pWOR7acLb/2t/WzHl47nsEWAZQEt+6NjScGosmxhhADb2d6zafM++0fHuw02qXImh4deZsVyUuZgcHAQn/jEJ/DEE0/4k4ITiQRKpRK+7/u+Dy+88AIGBgawtbXlD9W7e/cu8vk8nnvuOYyNjXkHt2q1ivv372NhYQF3797Fe++9553vwqhLTqqzs7P48pe/jLGxMQwNDfmVa7lcRqPR8HEgtra2sLKy4p0Fh4eHMTo6ipGREe80SEaHWy7b7TbW1tZQrVbR39+P/v5+XL9+HZVKBTdv3sRv/uZvYn5+3k8G5XIZH/vYx1AsFvH1r38dGxsbR2r7/cabXX1GpXmZx2sshxMLii3woFjwoqtNO47sKl9X12E7aJierrTt6la/a6ZvTXHqy6F5UjStsK3BFowpI2W/QVVujAI/Pj7eFZBvZmYG6+vrPmgqz6/ibiT6uxA8qNlIHY5pMuKCiYuu9fX1rh1xZFBYLgV1+ptzbyaT8aE41CSkzsisqx0PjHbMfDS6swVXCjbok0T3AR4KOjc3h2w2i3w+j6mpKUxMTGB0dBT379/3fpc8A4yuBdls1s/RGgma40kBrfYjdYMCbi5s9RuwTvN2rIcxLjreFJBoP3JnrwWQ7GO+y/xYFwInZYHCHKXD5EwOD73schAtF/VOpVLBpz71KVy/ft1PVKlUCpOTk/j0pz+N97///chms94ReWtrC6Ojo5iYmPDnqszNzWF+fh7T09OYm5vz28Jt1FXmqV7uWubZ2VncuXMHw8PD3n+oWq3iK1/5Cl555RUfal0nRK5SuItiYmIC4+PjHgCVSiUAnW29DKc+NzeHUqmE4eFhPP/886hUKnjxxRdx584dv5rK5XJ49tlnkclk8NJLL2F1dfVE/bMfiNG6xGAnFhVVsrrKB7BHafB/nWit/wzpefre8J6axpTNALpXsmGOpUrrA3tjl+j/VGz2+TCTuwIbLade0zRteYGOL0ulUkG5XEYmk0Gr1cLS0hLm5ubQ19eHkZERDA0NIZFIeDPN0tISVldX4ZzzZiz7jbIc3D5OVoduAFxokQUiQ03fGmCX6dAt5AC8fw99Izkv059H+0jnVgI0Rph3znkmiswS0yII0t1F7NtEIuFZ9mq1ilqthpWVFb/55MqVK7h58ybm5uZQrVaxvLzsGZ5sNotyuYyBgQGsrq6GMnHKGmqb2t9hLLgG/2Pf6zlZOuZ4X78D/XasHrJ6UxmhsDGmAE1BOQExQWtY2ioXzqR13krqOGAnkUhgfHwcn/zkJzE1NeU/4lwuhw984AP4zGc+g/Hxce/MyJ0I+XwezWYTKysrePjwId544w28++67aDQaoQ6P+vsghb61tYVvfvObuHbtGq5evQrnHB4+fIiXX34Z6+vrXTQ50ySrVKvVMDs7i9dff93vGLh16xZu3bqFSqXifYAA4K233sJXv/pV3Lx5Ex/+8Idx/fp1/OiP/ih+4zd+Ay+//LL3R0qlUnjqqafgnMNLL72ElZWVfdvUUqj73VfRa73C/Jz3mI4l3AlTJ3AqWE7etr8s+FGHTQtKwt7R+zYWCbDLFqnSDfO9UNFn+ZwyPgqklPGxddivzRQQ8CDOXC6HIAiwsbGB+fl5bGxsdC2MNjc3MTs7i9XVVczPz6Ner6PVanW9ryYp1oUOv0yfO6gYeoMbLgicstmsv08mRduGYIdsGUEJ3+VzqsDpg8jrzFtZI4Kfra0tbyrTvtIxxFPdV1ZW/Ly+sbHh3RBGR0dx/fp1vPnmm5iensbq6ipWVlZ87B7GYVtaWvK+m1F+LTqeFRRbvWFNrRT2s7IvdlGg40dZMgueLdBWk7JlLHWcatlZVjKEfGe/TTAXDvD0qmKIAj+JRGdXwvd///djfHzcTzj9/f144YUX8IlPfAIDAwN7Vh/r6+u4d+8evvWtb2Fubq7r5HLNM8xsY1eDdhLn/7Ozs/jVX/1VfO5zn8Pw8DBWV1e7Dv0MAxQ64LjzoFar4eHDh3jllVdw8+ZNPPXUUxgfH0d/fz9u3bqFjY0NvPbaa0in03j66acxPDyMH/qhH8Lg4CC+8pWvYG1tzX+oTz75JADgq1/9aiTTsx/QPCwI3U9OI43D5qEfcyznJ7qqVGdJ69NAiXIIVVYA2J2UbR8rxW8BkQITuxpXEKXmA8vsqPlC81NzBpmGMHMAWSEFXFxBazmoaBjYb3Bw0F+rVqtYW1sDAM/ukP2lX4/GZeEOLd0BShDCZxQIEcC0Wi1vYtfIzHQZYHBA1p3mFLIwrVbLx+KhwzTrR/ZATW0ULkwHBwd9O9Xr9a7dZWxLBTna7gRw5XIZy8vL3szHGDs8Ib1SqWBmZgb1eh3NZhPVahW5XA7ZbBaDg4Mol8tdhzZbUBE1jlkna0a1PmtMhwBO31cnaDtmrV+RmsSUXVLmUfOz7KUyZfpz2J2+Fw7wXCRxzuHKlSv45Cc/ibGxMT9QSqUSPv3pT+OjH/0o8vl8164DAp1XXnkFDx48CD2DSic/zStMUdtVoaUi7969i7feesvvGLCoPYx9CFPSW1tbWFpawsrKCt58801cv34dH/7whzE1NYUXXngBTz31FLa3t7GysoK+vj709/fj4x//OPL5PF588UUsLy972/zt27extbWFl156KdKn5yCQcFwQ8ajYlvMGOTGr1C0KeKwfi/Vl0Emd7wK736A6/lKhWFCiq3AFRwp2eI0S5sCsjrUUPmPN0fpt6zeupjNNQ9sgbP7Q/7k7i465jUYDGxsb2NjYQCaTwdjYGIaHh9FsNvHgwQM8fPgQ1Wq1K0ifHv7JtiM7wLlBGQiCCu54Yt5keVTY9spesP75fB6NRsMDFdsGyobxPkEVTUt8nqxGJpPpAk06Blh2Lm7p+5TL5VCtVrG9vY2lpSUPFoeHh3HlyhW8+eabe47+oSWA7UfHbgXUUQzgQSy4mnb1+agFNNtL2SyycBb4K2vK/ynWJ0j/Z5k0f93Np+UPk1MBPI/r5BkFMijchTQ2NuYR6NDQED772c/iueee8/46/Kinp6fxne98B6+99hpWV1e7/Ajs6u0gc01UGcNQ8zvvvAMAeP3117so0ag092sLgpr19XXMz8/jhRdewO3bt32Y+O3tbQ/iBgYG8Nxzz6Gvrw+/9mu/5gMgJpNJPPXUU2g2m/ja176GRqNxqDJYsatjva5lDmPHzkKsknyU38yjrOdFFR3DKnZyptKyZiEAe8AOJ2T9XwGOmmbsqtgCIPUxYn+qb9F+85GaHZg206GJRuvK++p3wq37rAsAz5Qkk0mUSqUuR+qlpSU0m02Uy2VcuXIFhUIBs7OzePDgAZaWlrzJKZlMYnBwEGNjY95sRBYkCAJvJtJ2Y5gMoLPrVc2NVIDb291no7F+1iTJ8jrn0Gg0fJ2Z1vb27lZylkkDDOouLZ4ZpmkTdIQxauw7xjOr1Wqo1+tYXV3F/fv3MT097QO/jo6O4uHDh9jY2ECz2fSHnJJZW1hY8AwPGS2tt4JoHYd2zOkYYBq6Zd6WPUzCALt9VsG/XUTweetArWJNd8owRcmpAJ7jTJ5RK4aLIpYWtFIqlfDCCy9gcnLS04CVSgU/+IM/iO/5nu/xp+5yhTI/P48vf/nLuHPnTtcJ6FErKsvaRE12YSs/XufkeffuXdy7dw/VanUPbRs2SKP6TMvWbrcxMzODL37xi3jttdfwxBM3/porAAAgAElEQVRP4NatWyiXy0gmk565GRgYwIc+9CEkEgl84QtfwPz8vF/1PPvss9jY2MDv/M7v7Ls1Ngy4hJXroHthwOg0x+d5Ao6L+p09StHdIcAuw6DxStTJmCBEz9XidYIVnchpYrG0v65iVdlSuZJ90ck8zEy23/fP70cdqLka12jCwO4hpOowbZWlZbd4th8Zp42NDSwsLMA5h4mJCUxNTWF7e9ufxcdzsYrFIsbGxrxZRndJcdcU5wNl1zT2TTab9f4yZHlYRtaFZWWbqpKl7wtNZdpW7EcLAoGOw3Oz2exynuU2eABdAI2O1Hp2mo43tgVZm1qthgcPHuDevXsol8sYHh7G1NSUBzW6oyybzXqfHu7isjurdNyyTCyjBQnKOmofR8XT4Tu8rs7O3I2rW9PD8uVv6+Af5i9kTb5MP2yxYuXcTFoXdQIOMy9ZyeVyeP7553Hr1i0/qdBvhSfi8uNNpVJYX1/HN77xDbzzzjtdhwFaBamTpL0fZc6yz6rdk//zWAoFTvsxSFHgyua3vb3t/XfeffddPHz4EB//+MdRqVRQKBSwuLgI5xwGBgbwzDPPIAgCfOELX/A+S7lcDh/5yEewvLyMe/fu7QGZdtKNKu9xr5/WGO0VBjSqHL1SvvMUBRb2GwG6HYTDjpYI83nQs5mYh7azdTClEqCijQIwqqwsUNJFkn7jVAzK0BA08b51OGXZrb+RXlPTTrFY9ICBMcCSySQmJyfR39+PmZkZf1L4/8/elzU3klxXnwJAYt+5Nrune7Q4QvKi7UHyix/sH+Gf4F/o8PckRVhhex4cIUuy5BmNNNPTM91sbiCIHSCA+h4YJ3nqMqtQZLNnuoe4EQwCqKqszKysvCfPXZLAYHt7220jwSgnsjVUkJoEdXNzM1J3ADfMULyW/jGMlJpMJpE+INAhq5PL5VymemWKlAlhP/CZcbsL3sMqfDIULNMqZNadYI2RaMxf9Pnnn+Pg4MCl9Tg5OUG328VsNnMsTrFYjOwvxnxm+mwtiKFYXx+2k0DFV2cCD2vy0rGtwJL3UYCiZXAcUWfosTgdp+feRm4NeHzmkYcyWSZRZRT6oPz1X/+1c44rlUr4x3/8Rwd2OAD5Ev7P//yPCwX3DR4rcWAkCYwl1V0nSh/IWlUfew/fynM0GuH3v/89MpkM/uEf/sFtmHd2duayq/7whz9EGIb4t3/7N5yenmI+n6PVauHv//7v3R5fcfIuj8F3oW5Jz/9dqN+7INafxrdiVMdd3+qY7ANwHaXCSV4T0QE3c/roqlZZAp1n+acp+rW++g6qGUvbwzKs706c35DtA/7GuuVyObcdAp2JR6MRlsul2/V8sVig2+3i9PTU9RE3P+bO5/RtYR/wPx2QVXlqn2gGa8uQsT1kX9i3PJemoel0imq1ikaj4QCLApc4Pyua+awPCuvH/ER8zqrY9Zmy7eVyGWEYOsdkpiDZ3d3Fs2fPXE6j4XCIUqnkrslkMm4j6TjmT0H1qnldx48F/7at2i6ON3t/Hfv6xzGoyRrtPVQUiClgUhYraa7zl5ogVjE+pMkyDYW8s7ODn/3sZy6NeBAE+MlPfoIf/ehHNxzpOp0O/vM//xP/8R//gdFoFBn8vF+avr4LM2HBjT1mB7m2dxWj4vsfBFfREH/4wx/wf//3f5jP587mz6Rb+XweP/zhD/FP//RPqNfrjpI9ODjAj3/84xv956vjfcvbLv9tC/so6Xmv5Up0dW7ZHf3O6CFeYwEPAQGZEFWgdiJXkOFzElXfCt/7Z6Ne+Fnro/9ZB9+5lh2yzJGK9aep1WrO6XgymTg2ZXt7G1tbW27Rw0SDuVwOW1tbLkGhAjnd069YLCKfz7vv8/kc4/HY+fWpUy7/2/5TExV/5zzLrXLUHKllqGK1DHg+n3dRXctlNEszGSm+fzS5KSggM6TPnRmYi8UicrkchsOh83taLpeun7mTOsug4zNNelb4PK3Pl45H37O2pkz+ZkENr9VzbF/ruFkul5GIL/XBsvX2gX2CJAWXvDYp0/KtAc9DkziWxKcIi8UifvrTn2J7e9sd393dxS9+8YsIs7NcLvHy5Uv867/+K37961+j3+/fKMtS63ETE+uyqm5pf4ujENMqfh/40gl2PB7jo48+wp/+9CcEwVUyRgA4OztzIaR/+7d/i1/84heRrKo/+MEPXL4g3/3eFvh5n0HCGujcTnScqmIArsYBzTA2UssyK/qe84++KHZlT2Vv33Hfu6fXcVXtC2HXc4Ao0NJVsM9UYc1vdtWsDri8hv47BG10us3lcnj8+DG2trac/xJ3JecGoQQG2k7eg7uhq8Mwla0CBW2XbvGgbbAgiNeR+SEzQlCi2Z21r2wGZ+0zPuPFYuGcmQlsOEZ4TP2TtHya0ghchsMhnj9/jufPn2M6nWJrawvb29uRRImsP3eaZ7g9+9G2X8eVBczaXzbKT4GUjkkFlgp07LOxYuds3lPBpgUv9h3hfdVfLo4dAt4Q8Lzvq9+0kkaZBkGAJ0+e4NmzZ+7F39zcxM9//nPs7u4iDEO3kuj1evj3f/93/OlPf3K+M1qO/R53zJ6zCsDY3/U6u0K0k+aqtlPsAPatJs/Pz/HLX/4SH3/8MYIgQKPRcFlZmSTsZz/7GZ48eQIAbjd4MmcqPhbq62B+3gdZA53bCZWpfZ+Y20WdQK0y0POtctQcMMDNjSgVPFgwwXLteOb7qSvwNM9b627NcSzHt/mlLVuv487m6nfDzYh3dnZQq9WcPx8XNcVi0d1DfZbY/+qzQ6DJ85QJCMMwwqaouYPPgvMQlTvrGQRXif/q9brb10rZAgWzykio6SUIAgfIaN4aj8duex0CGwW++iz4G9khZaPIaPf7fZdJeW9vD48fP3YO09Qpm5ubqNVqLnEjgY417em48YFqBZEWzNsyqDcIDjl2WTb7mOwWxZogtQ46ztTJW8er7p9FU6ACtKS5/40AT1qF+G2RpAmlXC7jRz/6Ecrlsntpt7e38f3vf989OD70169f48WLF7Gsi++h6e9xjI6vfnGTpf1uAVCaNtv7p6kPcPVSnZyc4Fe/+hVevHjhwlKXy6uQ9fl8jkajgZ/+9KfOpr9cLnFwcIAPP/wwdvK1oO2hyEN6B9+m6DjiBM5JWRWcbkip19pVsrJEVgEpI0NlqdFg6rNiTQW8Vid4VTwAbtRPgRW/W7ZG76XgjHVThoWmus3NTWdKCYLA+cNks1ns7+/j4ODAvdvc1ZvKnKYqsjm6mieAUTMRzUasG8EQy9P+t0wFQYU+w2KxiFKp5HLg8F6z2cy1w+73ZFk6+hcVCgU3Lmh2415dCiAZTcQ2cGuM5XLpmJp8Po9qtYp6ve72VTw5OcH5+Tk2Nzexv7+PWq2G8XiMwWDg/ESbzSb29/cdo2YBuGVpWC/d/8vHkijTF9fHFiBzLNHPic/PMmYWVCrot07OHBPUr8o8akThWwM8rPC3WXzshQ9APHnyBI8ePYpMlt/97ndRr9fdhEmnuc8//zzVzuC3+Xybduhvq1ij25bpM6P4+isMQxwfH+NXv/oVXr165UAPQzKXyyUeP36MSqXiJlr6+FiWR+9jVwkPQR5ae9+W6CSvrIMmcqPiV/8M4PoZUIHwmDrIAlGGRc0rls3hAiluPOuKV9kRiq2v/qZzFMvysSKsh0agabsymau8M81mE6VSCWF4lV2Z+0Dt7e3h2bNnqNVqGA6H6Ha7jo0oFApuV3CCFv7xOxc7rAdNOOxHAK4M+tNYh1omJ1Rwt7m56VipfD7vgBc3bB4Oh5hMJg608BmrOUsVPstVwMnoMh4jqLNsDjcfpTmKf61WC3t7e27vsW63i5cvX2IwGKBSqaDZbGI6neLk5MTtu1goFFCtVpHP5288WzWvKkhQ8Mw+s+kU9FwLwtWM58s/pOOG1+lCwIahs1+UQeV7oGZGuzhX8JOUdXntw5MgaU0jhULBbfzJB5nP57G3t4dMJhNxsPvqq6/w8ccfRyY5FR8AedMVfByosZPpm5qCkq617AuVwPPnz/H//t//w9HRETKZq/14stmsS6rFF57n7+zsYHd3N1HJrxmPtdxFdPLU1SuAyMRP/wy9xk7AfLfUX8Y6xPI8mjx0hap10fr4VtlJ7601GVDh6D5PvnMV3PB8n3mDCfOq1apLAHh2dobLy0uUy2VUKhUMh0N89tlnjqFgCLVmAFaWgawKj89mM3S7XafYeT5wBUJKpVLE10cV+ng8joApBVlkevh/ubzKdE+wRXCj4EWfgyp6nkcAUC6XXRQVy7u8vMRwOHQMEhdxZJq4VUS5XEaj0cDW1hb29/exvb2N0WiEV69e4csvv0S320Umc5WgsdPp4PT0FIPBANns1QatBwcHLtOzPivfgtD6u3Ce1edvF/oKABUAqUlOz/XpOmVBVTdofXzvlr6TmrNJGdgkWQOeBIkzj9jvROPA9aTBlQ+jADY2NtDr9fBf//Vf3vBqHx3nW0EmMRhxpi77We9pB7WduG35cd9tX/naou3k5+Vyia+++gq//e1vcX5+DuCq74Aryvrg4MBNNPP5HMViEd///vdvOLM9ZJDzkNt+n2InVBXLhuqqVUGIXenqtWreUBOAAiL1OVHGQBUtr7G/q9KwisjWR9vM9gDR3bXJSsQ5vuZyObetQalUirAbpVLJRWB99dVX6HQ6CMMQlUoFOzs7qNfrrg6a18earQA4RkSDGObzuUv6l81ebStBsxJ/03bZ9tgwajJP29vbbqsImuo0oaACLcpsNnPRUvTJJNukwSoEZ2RKCoWCAzvlctkxTWwH/XIePXqEZrOJTqeDP/7xj3j+/LlLEjuZTHBxceFcATY3N9FoNFw7dOz5zLBqRuJ/iu8agjtlLXmujj8fKNf76vVaP60Pj/nqpeWoDls1F6730loh9mEBUQWTzWbx7NkzVKvVyERXr9dRqVQwmUzcC/3HP/4Rn332WcST3Ye8dTLTc3z3t3VN2wZbjg/oxAE9C7pW9ZHvHC3r8vISf/zjH1EsFvHjH/8YrVbLsWX7+/tuEuPgpw377OzMW1e91yrE/22Qh9DGr0MsOFBAQ0dZ6xthV7CcvNVUoGNdHW510tc5QM0Bti7WPEDRuULP05W0ZZ8otkxbDnDtaKptzWQyaDQabq67uLjA8fExut0udnd3Ua/XEYYhXr586ZIQttttB4TIurCPbD/yvmTMbbSZ9iVz3cxmM7c/F3/XuYBt4LXKdDGBIpkr3URU+4p+SMA1yzGbzTAYDJyzNtkmzS/DutDBW31TWIY+R35uNpu4vLzEZ599hi+++MLtMM/n1u12cXZ2hlar5fIhtdttHB8fu60m1GlbxwvHpLbPsix2LrXsDPtBgZ2NctRNP7VsBTPMsWOd9n2idbQsUZKsGZ4VskqRc0dwncRyuRz29/ddYsFs9mpjzt/97ncuLNNXXhwLs6puccg2ia2JKy+OlUmq020ZBgucgiBAv9/Hb3/7W3z88cfo9/sO8W9tbaFUKgG4zvRaq9Wwvb3tXakm1XMta0kSTtg+Kt86wOoEa0GCdVa2CkzDkYEo60kGSBkfZU4sW2PHvZrOtA107FW2QuvEtus8RmVIH0RddBD8bW1todlsIgxDtws6/V82NzfR6/XwxRdf4Pz83AEKmq2V1eE96HejCf3IlhSLRWxubqJerzvfGypYyyiQ9alUKgjD0EVLTSYThGHofHMIdGjCAhAxBynzxX5R0xbvR/DGTTzZ39qnei+GkZNBYnnKpuXzecf8cM5bLBY4PDzE2dmZY5QGgwE6nQ4GgwGWyyXq9Tq2trZQLBZvOB/ruNDnbk2YvndDj+v5WjaFptwwvDZNWmbNlq1ASkEl7+lbMOsY4j0SgVLskXuU95lyT1L2QRBgZ2cHrVbLfQ+CK3vw3t6esyEHQYBer4eLiwsvEk1Cp/Z+byo+5oW/az3shJ6mrKRzVpXBlcpvfvMbt8VGNpt1Dnw6OefzeTx58iQ2wdQqIPhtlIfSzq9L9H2wDsDqIOlzouT5BOgcp1b52MRpvF7vpayK1sk3L8QxP/xvTV0WcPEeVLxUxDZXDj9zD6disYjRaORCsZfLq4is8/NzvHr1CkdHR5hMJs5UTV8WKmuaplg3JjCkqC8PI7M0OZ8qRm2bsjH8rKYutoXZofmdoIgg6fLyMhKSrgqafjiMVtM8QPrMaEpjbiHd80sBMMfW5eWl2/JnY2MDpVIJ9XrdmcS4KzpdJnq9Hs7Pz50vD52fybaoU7IdE6v0j/Uds4DJjjl9N4Dr/ETqAK+igNrXxyzPOvyzvwjkFUTHyUrAcx8T6fu80k5ieHK5HJ4+fRpxVg6Cq2yZjUYD4/HYRWNx35a4MtOCijjApOemZTt84CYNNZh2TMSVpROtvoDL5RKdTgeffPIJzs/PEYYhCoUCHj16dMOGu7e3tzInj7bx2yBx42QNdu5H7ASuAEfNV9YkDUTNUzzGazTKSwGFjyFSvwZVDsoYqTlIo1q0HqosqFAYZm0dpPU77+XLDKz9Q9DBrSGm0ym63a4DC2EY4vXr1/j000/R6XSwWCycYzFNO5lMxplcyOawz9UhdTabAbg2t7AfNEcP20xmiO3QvDbafxRl3cIwjISjM0Eg963iHM462vHCsaJmGcuc2Wgi3od+QP1+H91u1+05xroAVwCz2Ww6HyN1Pue5y+XSPZtGoxHZe4ztteCF9QQQ6R/bHh3r2nccg3wGCmx8fkM65rXf9DjHcRzQ0rFJZnAV2AFS+PC8bYWhk8a7KEksR6lUwt7ennOi47mNRgPFYhG9Xs89tLgoh9soK4t4bT114vRdq+1Jaqu9X1xdkkRXN0liy5nP5zg9PcXZ2Rna7Tay2Sz29vZcSCdfsEajgUajgW63m1h+mra8jevehtz1ua7ldqKLFypRAgWuypk5WBUglTZDnH0gx5qoCKyoNCxwooIiAFAwA1zvuE0TE8tQtkAdQbUsba/OHaqc1YmaZTN4gL47ZGoODw9dgMZyucSrV6/c3EiHYCYiXCwWzixFAFcsFiPzG0Ef20fTFkEklaGyYFZR8rOmClCT43K5jOTbGY1GjjmiAzKvJVPDvuGzV6aIcxSPqzK2/kdkccbjsQMMCkoVbLBMRqTRfEVT3GQyQbfbRafTQT6fR6VScY7LbAuftaZCULCoY059clhn68el1+iYtaZRskz8rmUquFIm1b4DqvssaOKYZH/5WCTK2ml5hfioOkqj0XBJtSjZbBY7OzvY2NjAZDJBo9FAEATodDqRndBZXhKg8ilbnQz0wdsVmo8FWgVS7HVvomBXsU0+5ooyHA4dNR4EAVqtFsrlsjMPhuGVWavdbuPFixepkL2vfWnkXQUSdoJay/0IlRcQ3QRRQQr/cyzqhM5r7SaY2WzWsRl6DyoVTvL6bmguIN8ql/XSpHG+6CTeRxdluuLXP/VVYvnKSlCZMRoon89jMpk4c8p0OnW+K4eHhw7MMJ0EdyMPgisfFS1b+0P7gSwO/Xt4HkXBIpkv3ale+0zbze8KeMbjMcIwjPjWkN2w/a7PkCCMdSfzMplMnM8O607GjaCHn7PZrPP/WS6XLvJLAWqxWESlUnHh8wQws9nMLRIZpdVut1Eul12EnIqOA20T22P1ks3DY02jej7HkO43p+ZEvUYBPK/hO6MO51qu1pFjliygdfa38o0DnrRMwNclPqXvU9qZTAaPHz9GoVCIrC42Njaws7PjVjrMofDpp5/GOoPFtT2pT27DDOn5cYDlrmyT/Xxb8d13NpthOBy6/qL9+uzsLLKy3dvbcyttX5vsfXx1f1/E99zStOF9bOs3Lbp6p7LZ3Nx0SpHAwjI1ChSA64mdgEgVOZUHf1c/FD2m86NdjfOz+gHZqDDAn16DdbdJ5uxKXc8neAHgktxpiDj/c+6bTCYolUo4ODjA1tYWGo2GAxKqvPjdl2hR94XieTYRIttGPw4Fa/yvTBhBFk2BzJPGMG4CEHXytmydPis1mzFHE5kQfb56HcENcOWzpLmOOJ64tQQzN3PBzFD2QqGA7e1tZLNZHB4eRsxfBEZ0EFeGBYA7T/tDx55v3rDj3rIpFhDSf0qd8NXBnGVqxJvuO2ZF2VDeQzNh2/fPJ9844AHerRVq2rqUSiU8ffo0MjEBV1tM1Ot1TCYT7OzsIJfL4S9/+QuOj49v3McyNGkBh+/cODbIN/n5rtX/PM9KXBm3ARNxjJV+v7y8RLfbjfgmMAuzrtK2trZQLpcd4Emr3N+l8ZZW3gRQruV2YiNCOOZosiDwsOG3yvgok8Ay7ESv772N2tLPvtU4QYACMPte2vKs2YflKvDidwV9wLWCJLAg28LVNX1IeF+agzY2NtBoNFCtVh2AUFaH77T6CFmncJ63sbHhzIYbGxvOZ4VMkfaVhjrbiCJV7prjh4COz3UymThQp+ZIBbdks9h2ZeoAOLCk96MwdJ0sjgI+deTlHEg2KJfLoVwu4zvf+Q5+/vOfo1Ao4KOPPsL//u//YrlcumfBxK1Meqjjhr9Rd7H/lCHRMcnjZAkVvNuxrWNVzW5q5vLpDz4LzUht5y9fgkHrk7U2ab2BxIGRVquFra2tiJLNZDKOUmQCqVevXuGjjz5yKcTtg/aBjTR1WvV73MSXJJY2t9esAlRx5dtjPnpV+1knEL6ojDjggA/DEPV6Hc1mE91u19sn98FAvavybWvPuyLKhqhZRBUPj6ujpk66VIzWD4H/Lfiw74b1r9BzrNJmmdZhWsUqLbYJuAnueL7mNrE5fABEshb3ej2cnp66AA0CIXWuZlt0cci+UidmZbdUmSqw42/cQFPnLQWiyoApMFUmIwgC54ekvkJBELjtL3iuRs7ZeYpsDP2oVGGTYeIx/cy6MhRffT0JPGlam06nGI1Gru+4oXKr1cLp6Sk+/vhjjEYjxwaVy2U0m01sbm66RIUKeO14CMNrs6dGwNo+458CIN+il9fwuzJsasblOCQ4VGDJMaJ6SUGn6gT+nmTWWgOeFeIDO9lsFk+fPkWxWIwMHP5eqVSQzWZxfHyMX/7ylzg+Pr6x2nobSjiOyr7LeasYJ1874kBW3Mug97b3U5vsYrFwKy2dOIvFIh4/fowXL15E/BOS2rsGCmtJEjUP6ZjkxOobvwpS7ALIOhn7xLIPqlzVPBMHfpTd8bFAytzYz76VtvUDsuY7KsR8Po/xeOw2tpzNZs5hlsqsVCq5CCSyFhSeM5vNnOInSFLlynZxM062ncBK66VgRAErr9EQcLavVCq5TMXT6dSZmtTRWRk13pOgJQxDF3avLI4CMJalypq/ERyxLGXb9BnQD2ixWDh2q1wuo9Vq4cmTJyiVSphMJs4RutFooNVqufaoWY5iI4f53zJuysRpjpy4uZWf+Sx17laTogIbfmd7FQTb/iAQ16ABPR4nXwvgsZMDP78P4mNgSqUSPvjggwhCDcMQxWIRBwcHyOVyuLi4wK9//Ws8f/78xsRiy36Ter3JeW8CAOKuVQBjf08CevZ3TgCkXqvVKgqFAiaTibP353I5PH78GMViEf1+P1JGUt3eV3nf3p33WSxItz4QOsHyNzvZam4VBRtxrCkXTb56WGdbKkyWS+WuO1PzOl3ZK/vBdthxpe1guZqYLwiudxvX80ulEv7u7/4OH3zwAY6OjvDJJ584x9x+v++S6LFvqEjJXtCplwCA4desJ31dMpnr/Qn5fPQzAQdDsmkqoZ8R+4wASvMhUZFq8kGWQXMXz+F/OmGzLzQUnHOVjpUgCJyfk5rq1DQPIFKv2WwWyYfELTaYXJEbLZ+enkbARqVScQDUsjFalh0DcflylO1U0yfr7RtfAFx7LRbQKC1l/xiFpwBIxTJ+yqYlMTxfS+LBtMzDuyxa53a7jXa7fWNQ0Jy1WCzw5Zdf4i9/+Uvizq0+iQNG+qd1WtWXScftpG7vH3etZXV8lLj93a5i48rjfWezWWRHeW44qOcsl0u0222X+PHbKLYv38d3530SO1FzYuVkrPlIADinVs3Zo6BE/RZ8vikKXPSYghaKzSGj5fIYzSm6KmZ9lElQM41vHlFTChVKGIZO6TIZHkPFNzc3sb+/j3/+53/Gv/zLv+BnP/sZALgdzkejEc7OztDr9dDv9x34oP8PAMdcTKdTV0f1Y6FvCnP9sP5U/nw+DHFXnz9lUBgUkcvlXA41CoENn6veXwELr1GWh75AZB1YFwI6++z5jKj4ea4+Cx0X3BWevj/c7T2TyaDVamFnZwfL5RKTycTtWF+r1dButyOAVce0gmdlzPT+6tSs4Ih9wrYqqNZ3gWONY1itIvyzPmX8TN8msjkKkuz7lQTWXHtij9yzaONU3oTluGs97iI6wD/88EMUi8WIot7Y2MB3v/tdl4Pj5OQksgp5k3uy3hY4+oADz/V9f5tiJwJbBz3HV2cLjpimnpPVxsaG2zkduJ4IlG2z5dylDW8qSSDUBw7t8bjy0oDbtby5KCNDhQlcgw1OvgpGdEwSKHBHblL/TDCn5enxuIWGb7WqFD5Bg5pqqNDUvKPCOup97aJKo4Y07J3Xc68pRmUFQYByuYz9/X20Wi08e/bMmTMAYDweo9frodfrOX8ZClf+6jSsLEkYhg4E8T4abk5mRBmC5XKJ4XDontnl5aUzW/X7/QhIIjuvO52TXVKGTFk+bh2hW25wzPA8AhICYgVM3FSUz47lUrFryLruHs8IrXw+j8FggN/85jf45JNPMJvN0Gw2kclkMBqNMBwOMZ1OUa1WsbW15cLdLTDhOLEsjzIlCpzVJ0uBjlo6FITou6P+OSqa0sE6fSt7xPfOAhrWV60IcfKN76X1dU/itzHj+DquXC7j8ePHkVWc/V1DHRUEpBF7/irmJY5dSdMmRe++85LK9rEOvnon1dUHfvg3mUzQ6XQik/b29nbEX4oTJM1ace20kgRI7iIKSJL6fyLK8P8AACAASURBVBVoWQOad0esWYGKTCdXAE4xWSbOroiVTQHgzAsc2zQT0dTC8FyK+j3ovX1+Pb7vrI+9VhkGHuP7ZXOn2HwxZF24tUGj0cDOzg6q1Sp+8IMf4ODgwF2nCpWKV80Q6jQbhqHbAFRZArafCyBlnJRBI5tB9on9rSxBtVp1oJQAjgwN+5QO1QrI+J+ArFKpON8ddZJmvXiuOnGrnw8/E/jwu/qL5fN5FAoFlEolFItFFItF5PN5vHjxAr/61a/wySefuH3NarUaADjmrFAouGhWPncFtdYEZBlMHYMaWs+ybAoA677BZ68+WQp8tD6ac0iBumWD9Bj/a92S5tEH6bScRrHFnbO1tYVWq3UDZXKXWnra6yahtwU99v5xitRXbhLLEgea9LuvzFV114k0qa2WBVpVJv10gKsXhw54XNEBVy9dq9VCvV7HYDBYWW6a9qSVNCuKtbxfQkUARJMI2ogtfccsA6DvA8eH+pNoNIqyBvqeKujQd8uWDyCiRHS1rQrGXsPyeU8FBta0oL4fBBZU3DQJzWYzVKtVFItFt5fg7u4uvvjiC3cvZla2yp8+LMD1xp02CEEZBe6Izj5nJJWGX6u/Ca9jpGc+n3cmr+Vy6aK9CG7Yx2Th+GwUDBCscXNoy3Rov+t1BETKXmmkEQG2MjosiyZ+Oi+fnJyg2Ww6vySaGAkwptMpcrkcWq0Wtre3cXx87OrNunLMaBZlK+pobJkgH3DS90ABt32mLNfWQ3Wrspl6XzVXaiZsjs84+doZnnddOSQxE9lsFh988IGjI/kgNzY28L3vfc9NarPZDBcXF4n3WbXSt5OcZQfSAIckZWyPpX0utl72s++7r85x7aKQUlf6tdFooFQqRSaPxWLhtviwL0battxG7Or5bYiyBe/6+/JtFD5fZRep1DSfCRA1D1kzGCdwIAqk1OdDAYc6Oev9ea69Tu8TN/apVDS5m/oBKUjS8gm09B1URZLP5x3A4eKuXq9jsVjg5cuXGI/HjkVhwsFSqYRarRbxeQqCIOKgSgaHwJAmHW1npVKJOIGz3aqY2TYqRJqWcrlcJLeOsgfqQMx7k2nTcvld2Qg1qWh0F/ueOYhYZws2uakod1Dn5qh2kcgxRtaJwAiAY3/I3tEfqdVqYXd3F6VSKeL4zPsSZPjAjh1jZKt4zI5Pa0ZV/x+7KObY8wFCHZ/KzGkf6HujJtJv1IfHTtx3pe11hfE2Jan8YrGIR48e3cgUms/ncXBwgM3NTSwWC1xcXODi4iKRWUkCInquVX63ZYu033z9lwY0rap3WkbIAqw41gq4GrTHx8eYzWZuEmAiLV6vK68nT564XBhp5TbAyK7Y37Z8HWN9LTfFAhyyMpqkjeepwypFAYWaLoDr/DR6H0oQBBElRqXJc+27w0ldHXvVUVTvwfsQaPAYV+vq/0PFZhkndXolm1AqlSJO0oVCwW24ORwOXVTWfD534er0b1JnbzJZ3B3cKlk1DxE02PlD+0Trz3uwLP1sF04ER/RPohMxGQwbpaXMmW5/QSVvAS+VO3DNpLFMBUYEZ9a5WYFnPp93AIY7z7daLRQKBfR6Pbdb/Xg8RrPZxM7ODur1egT4ErRpHhvbLxSCP5vZWAEZ+5GgRdkZC3ZYtnVEZlvVj0frov2vCxMF60nz5lsBPD6AY1+g2yoNq/S/LgCkUq/X0Wg0bnTq1tYW6vW6s8Wenp5iOBx6y/CBoFXn3Aao+IBlEpvjK8fXp0mgxnf+XcCVPffw8BCnp6fOSS+fz2N/fz/ipc9xtbW1hUqlsrLcu4yXr5tpSWLP1vL1CMeW+gboihi4Vlqq5NQngeIz01hGhsyGVXKsi62XzqsEAtYRWVkZXXlbJ1GrhIDr6DMCBvVTosLV9pXLZQcUDg4OnOMv206/E4JI1p9bTbAP6JxM5+LxeOzMVQRnzOmj/aOKUvuMZiAFLwQwChYJduj3Q2bHPi+Gj6tpR/tRGSMrPp8UijrKK7DidcytwzFENoh+VMvlVU4ebiWhZrBarYbd3V00Gg03d6pTuh0rOsa0XqyPskQqFuSw7j72UduvYJPn6zjRzzp+rc+UfVY+eSs+PPZh68vJ/2+iQOJYgbjjbyJKo+3v7ztvfp0Enz175hzXgiDAyclJhO70ia/O9iXw9ZOP5Ul7ntZHX2Y9N42C9YGpOJAUp7x9jIkto9/v489//jMePXrkXrCtra2ITwVf7Fqthu3tbZydncWW+abj7usUX5/G9dNa7lfYzxqiTCVJRajRJPru2veBQIfUu57HcrUM9U1QpkDL1fHtA0hxE75dnWtkjSo8ABETAYVKSZUyFQ3ZBgUry+XSmY8UOGo2YfaTmnyo1AgA6fdDcwr7TLMBK6vD/qbyVTaA5yqTxz7wARcgmriQfwSCBLn0K1RTi4IGXq96g9Ft9r22fl1kGK2TOQD0ej2cnZ1hMBggCAJnZSBjdnJygr29PTSbTbTbbeRyOUwmE+drquPd+qZZEKSMJ49r37AM9oMCE5al9bcM3Xw+j8ztLEf9g/g81ZeObdHcSHHy1kxaqxSLj656k3vpH8u/T8XAaCBlF4BrcxYH+Gw2w8nJiXd19qaiICHuWNx5q+rhAyCrxHdeGgYr6f4qi8UCn376KTqdjjvebDZRKpUizzkMr5xCNTzdV/77AnaA9KzZWt6ecPLkBKzhwwo+bKi6jSoBrlPn+xaDPF9Xr9ZvgfdSYENlq7lKLOjxzYlxCxRlqvS7AiEqOYIYbRt9dkajEV6/fo2Li4tIfhfWV/2KWA634imVSs43qFwuo1KpRKKtfAqZ/xWwsJ7KktD3RRMFap2U+SL7w/4jE2SFTtDMjaOsmA8oWbMo/xPU0HRKwMewf20zQfhyeRV6PxqNcHl56eqifjOMoqvX62i1Ws4vSBMw6vNXFo/CMcZ66VjVLTSUaWN/sU66QPAtmPmMyN6xr/hseL0ylTZvEMtNyn331gDPbSbmtzGJJzEPae5nlSNTeNvrt7a20G633QMeDAaxezslyZsAQAtSfEDHnuNjPlaxMb77vUn/2jpbxA8AnU4Hn3/+uRvElUoF7XYbwM3dnHd3dyPJCe390tZtLQ9bOEY0IaDPR0azGlsfCwUmVOqqUAmmFFzwPdTwdws4fHOagis9V507ldmJA0NW1BGV5fE/22OzF19eXuL09BS///3v8fLlS4xGIwcErANqGF4FeEwmkxsh/wQ8hUIhwhBRgbLflUmz0VLW5KGZnNVMQgBB/xkmPaWSJxMDRDMAZzJXu3VPJhPHTihLouBBlbBV8jRXMbEi+4R5g5TxIeNFc+F0OsV4PHaZmHO5nEtroL5R+/v72N7edjmMLOPoAw4KBnUBzzbptfY3HS9kp+w7o/dRB2Y+G15P3yHgGlwrE0T2VdMYxMk3nofnbUsSC3EbaTQaqNVqkQknl8vh6dOn7iWZzWY4Pj7GaDS6033tcV1FqtyH0o6rXxyLFHdPraPvWvvy35ZBms/n+NOf/uT6dHNz0zFtfCk42fIZxbUzTb+tAdFagKjDr524SaMrGFClYTeA1N/sPXQly3I0esiyC6q81SGX11rTgrJBwLXjsgVjyowSBKgjqR7j9cpIAHDK9fz8HEdHR+h2u4650XB0KjzOGdpevs9kYvifbNJsNnOh6DZnDvtJEyUq6AMQYaUoGooeBIELkNDsyDyurAjrWygUXBkUgjsCAPY7AdRkMsFwOMTJyQm63a7b9JMO31TwBDSaeHFjY8OBQcuyFAoFVKtVx5Itl0vnB/nkyROUy2XX5wo+tD849nXc6Nxu2Uttr15DoKc+OuqUTuFz5u8EyGpepBBckdGykXJqpvTJg8zDA6QP6wauOnlnZyeyc+5yuXTp1DlAwjDE0dGRC9OMY5jijlmq3FfXOAC0qi2+sm8D/NKUn1RXe/+0fROGITqdDgaDASqVCoIgcM+CDolcLRcKBbTbbXz11Vd3Brp3AcNr+XYJlaeOaTWTUNSHhGLHj82jQ4BDsYqEYs0NVvHYqBSfYtZr1CRAQMHjXBmrqPlOgQiVkOaLYd4xsh1nZ2eYTCZYLpfOnKHsEBVcNpt1Cf/IkCijpfel8P5M7KoK2D6HILgOeVflyD4IgmtH8o2NDYzHYwyHQxcBtb297fy4OGcRCNKMqJ81Z48qXj7H6XQacRpmpmpl+tiP7EsAbhsPglyCFPYtGRBlEnu9Hur1OvL5PLrdLg4PD11aAAUGGp2nAI19rSxfGF77DtmFrI4ZZTh9zJGOcbtgVjZM/YBUb6hvkD5rHfNx8mABT1LH2GO5XM5FB2lnF4tFNJtNt3PtYDDAl19+eQMtU+LMRD4Ubc+5r7akAXl28o27Rgehfl8lvnZZcKT/p9MpLi4usLe3hzAM0Ww2US6XXXQCn0s2m8Xu7q6bhHzsk+9+b0u+jnvcRpJA5lquJe59BK4BDCl0O6nzOjWFaVl6XK/l+LXmLt8CQRddqjS0fNZbAZI19Vi21ZrOqNwI7BT8KBhhfUejEV6+fImzszMMh0MMBoPIflQsj+kjuFJXhcv26TnKqKk5hL8D0e0pLi8vHZCiXwhzp21sbDjmhsBPzSnj8TgSiafOyQp8ybQBcHt7aaQQr2W7CKxYv0wm43ZY12SBVPbKJmp0mwKASqXi2sXnxISKuh9ZuVxGvV7HcDh0zuU007FcH5vHMaHmWrZTwbKOO/unJibNLs57cQzwWavDuXU217GpoIy/sQ5Jc+63HvCs6gDfpGalXC6j3W7foHa3t7dRKpVcht/f/e53ODs7i5S7quxV4gMstuy4NiSxQUms0V2BVlw70yhaX50o8/kcg8HATQbFYhHtdhunp6eRsjOZDJrNptvjJq49VjncByjxPe93CewAa3NdWlHAoiG+ZASsM7H1b+BnyxBxrGokDxBVMurj4ouQUROOvQ/vbVfuFtyoKYi/qwnNlkunWYIKdThWBbVcLp0JZjKZOFMUV+1hGDogY6OjFCyoQiQIofmGphGWrXtZUaHO53MHeFg2QQyBhprUNApK/ZEY8aQAj2UqoFVzlm4PQgZITXYsXzM9c4NVZc82NzddqhMyaHSO5j0rlQqq1aoDcpubmw5ADYdDByYWiwWKxSIajQYajQbK5fKNPrDAXZ8B60Rwo1uMWBZG/+u7RPCii1GdJxUk8Tff+2EX2ewzXVwkzbv37sPzrk2qaZTOqnMajQaq1WokhDSTuQpHz2QyGAwGWC6XuLi4iKBVu4ICkp180zI7vrJ9qzx7PKm8VaL3TAMgbbm3Vf68D1dpnU4nYsPe39+PtJGTEZOdpZG7gh37cmp93zWQs5a7izIiCkTsBMvzFAhZ51Uguh+W+r2wHE0Cp066OrnbaCWrpLReceYE2xbWl/9Zd55DsKDKnpFOZFl7vR6m0ynOzs5weHjo6kEGh0qbzEIQBC5vz3w+x3g8dht8qp+G9i/NN9ls1vm8EJCQeVDgokwZnZC5hYT2EwEG+3BjY8PluCGYoUMw/wjUyOLwOREccj7SbM1UzvobEE1ICVwxYMy0XCwW3T3Z93TcLpfLqNVqGI1GODo6wmw2Q6lUcgkG2fbLy0v0+31kMhm3/ZGOYT5vZf7sGFZHcwUgyv7YccjrrMO21VMKlBREWROZPgdep07dPNcyrir3Dnjue8K3FNl9SxxLoRPK7u5uZDsJUqb7+/vOCU3D1ZNATdy94oBC2rLSHPPdO815q0CbD9nrsbTPz1cn3p+RHBzc29vbkUmKLzA32EvTJt/Kwld/27Y1uPl2i4IXKn7g2mGYY4HRQgAiLIUdWxa4xImuaLkytyG2NjqG99Y5JG7xQ2XAz5oLxQfYuOpXsxnZhXw+j+Pj4whQ6XQ6DoSwrovFwvnazedzTCYT9Pt9TKfTCNiiGYYAYzabuSgoAA5k0PyjEVGag4X+LiyXdVYHXcsqqUP0ZDJxdSRgIQOkfaERfNw/jHX3MRLKcJCN0RB6ikaT8XuhUHC7t+szovPyaDTC8+fP8fLlS8dMTadTTKdTBxbOz8+d3uK8qUwi66npBuz8yD8FiBYksc28Xt8Zy8IoCOQf+1xTBVhfNh9DpM7bSe9ZKpOWfYG+TknLJthz06ze05yTy+Wwt7cXoYn7/T6azSaazaZbkSyXS0cjJtUz7ridsPh/lSK+reJN6qO0jEccQON/bY+v/KQ2+coA4CZSvhitVgulUimSo4Ive71ed6tMX331fr5+sW1NOr6Wb6fYsaEmCWUVaK4hAOFvCnq4MudEbSN9qHRVedjQYa2XPc9Gi/kYY3Ua5jH1c1PzGUV9VIBrhomAIpO5zricy+VwcXGB+Xwe2QNqPp9jNBq5/awARKKfaIIhCFAlpyYXhl1ru+xcQTaDYETZB5bnm+OY74ZbYKhDMp8Lf2O5vFcmc5VAkL5KXJQRtCirZ02XdszwuzJT7Fu2QUFiEASur8/PzzEYDFAul9FoNFyCwWKx6BaCtVrNRcyxbQpw2VfaP3HO85bZUUdlnW91axW+C1qez/WA/UAgrHViP7IsCp24fdGQKqkAzzcFdlZJUsPSKqhVSr9UKqHZbEYeUj6fd5uInpycOHOX7pB+l7ooovYxT76JLK5Nce1JqpdOJHagx5Wv39OCmaTjcUwYQzVJRzNBWbfbjawacrkctre38cknn0SUTlwbbF/6gNpaHp7Ylbc1LREw2DBrAgf6l1AxchK3Jik1G9j7WgdpCpWwXq8gS01aGvVCAMJjeo5VVJQwDN0u5DRlVSoVbGxsYHd3F71eLwIMqKS4lYRGGjUaDWcKI3szHo+dPwvLUNcBZQHYdrIGNF/puQAiZjPWR+cCTdSo7ABNRWTYyDrxes4/7BcFipz7ta5qWtH5lH3OJHvsHwIqtoPnqfnRAij2Ra/Xw9HREb7zne+g1WqhVqu5Z8pQfrI7Cm7ZR2yTBSDatzo22e+ansGeo0BO2Tb6/+j49QFT61dm+519oaHpmu/KJ996p+UkSaPUmNNA0XU+n8ezZ8/ci1Gr1XBycnIjb0PSfXUw+UCOfYnjgICef1uxSt9Xtr1/HJiyg1LbqS9MHAhJCzAYttloNFwIuko2m8XW1paLRIiTOLB3m7qs5dsrunqkguSKWPf8UdaGYvORbG5uOp8NXseVrgIfKj19f9QEw5U/xY5T7vTtA1H6nwpTlZeKrvyVZWLbgyBAPp93QIVl0sxB59lsNotarYZ2u43t7W00m80IWCwWi5EMw8p2qSkpCAI3z7KffIyW9gHrrMBgY2MDk8nEAQ0FTFTCQRBEdi4nu8R7chywb9QkQ2XOPvU5/LLtavbjefTlYXkEZwSabLOyJgSg4/EYnU4HtVoNk8nERQ7X63XXBrJYrJ/OxRYYs246/3NcEETa9tp5Xccr26emQQDOLwu4To/AMUZfJwV62tccGwpk+a7Eybc+8aBKGlBgJ4pGoxHx3+GA397exng8dr8fHh5GFKx9EbX8OKCRBEDuIgpI4uqSxPLwujjGIw64xDFAacS32g2CwGVcPT09xcuXLxGGodu5Xq9dLpcuXDOt2Jf0XWU037asgd616KpU6XRdEatTrQIXWw4VLJUv/XOoMDXRmkYAUVnGvYM6setnvtcsQ5MU8h2hAlPlpvMP22HDjukjo/5LwHWoOSNWg+DK3FKv11GtViOJB1XhMVEeFyi6MFK2iIyIto/30ZW+RlUB12HlnLvVHEUgpEyNsjBUoMrqqNLlH32YqICpqBmppYpYd2Hnc9dMzzQ5aSoABahkoarVKur1OiqVCiqVCsIwxOnpKc7Pz127NePyzs6Oy0KvAF0dlnk/dZBWx24VHb+sv7KXmmKB/WudoJW5srpPAbfmjNJnxOdH8TFCVh4cw3MbUJHJZNBut28g9Ha7jWq16sIll8slXr58ecNhyreyWgWC7G8+UKQv+6p2+AZSkkKPoxB9QMCWbVkpe32c2Dr5vvMFnE6nOD8/x2w2Q6PRuLEqBuAitfr9fmyZ99G374qseqZp5aECPZ/oSlHZDV1dKy2vK08KFRQ/2zHNCVtNClouRZWSKg4fdW/9h/S9VzbK1lUVPUUVkmVy8vl8JAsyI4o0ems6naJUKkUcpNWEA1znZqFbAMOweU42m3UOu9pvajqyJjD2NVkbMmwEnjovs10EGfTJJKNDRsn3DLWPNjc3EYbXwRX6HFkvBQ+VSiUCfBUwqAO2ji+KhrkTfC6XS3S7XfR6PefkzDxImUwmAqQU6Grkn41uUhZImZy4nD0KzK1fG5/1crm8sZGsjlkAkW0yqFMV3NgFhj5rX71UHhTgSaPAtDM3NjbQbrcjdN9iscDe3h4KhQIuLi5cCvJer3cDVKwCGXFKNUnZWjBxF/GxPnGgyx5TCnGV+MBTUp2SyqS5sFKp4PXr1xiPx25jwfF4HHnZCoUCyuUyTk9PI3Xx1S+uru+TrIHK/QuZ3LhJXf1qqNDVqV4XSfQr0PPtu0fFqeBdFxQ+Bskqd60fr1VFoX42cWM9zhxGhULFqds9kM3hdgdkWnTTUJqo2H7+zrwswLXy5SKSbVRFpwyRXUxZZUu2hceYdJB1oLAtw+Ew0n9aDwsK1KSj5khV5Dqnsc4EfgQ62t/8ruOGdSN7pGNJGZbl8ioSq9vtYnt72zkr2ySLNqEjAAe8LNMStwhXs6QCGjtu+Q6oe4GaxZRdWy6XLkUB687zFYDqGKde5p5i1o/OJw/CpLVK2anoy066VWVjYwMffPCBe5DFYhGvX792VG5S2askLQtzF0lTXpLCT9NfdqKMexHSPA/LFHW7XRwfH6NSqaBUKmE0Gjl63bIy3Ll5FasUd6/3Gfys5X6EE7qNXtEVsi5s1BnYjh9Vfjom1V+DSkDNCXoeEFUkWgf+RiUARPPpUInqnlyq2OMYWMvg8j4K2AiEarUatra20Gw2HQCjOYebY2o2YfYrwRMBCRkhAh+afHTusL4mrKP2GcGZ1kXLoJ+OhvRr7iOyTQp0tD80bQF9U1iGslnKqAFXEW88lzpEmR0FEQp+tVz2H+vAto7HY5ydnbm+4x5cGmlG85D2IdvP56B1VpaGbdBcQz5hP+i41HLYJuuITxDHvqfPEduqDty8P013zIfE3+LknWR49EVOo2hXie/cVWwDcBWhValUIpRiLpdDs9l0SHQ+v9rc0mfPT7qfZU18196n0rVKfdV5OhHbZ3Abtsp3fhoAZMudTCb46quvHJBhVIXNuUOlQWe9tHXS39ZgZy3AzTGteUss1W9XxqoQKbxO5xP6OgBwLIjvvaACUYdXfUc1EsyK1oMrdMvkJLHQyqowT4xum6BOvXQK5j2n06lbnGiUEPtA/W40n04QBJEQcwUemUwG4/HYKWhlCYCrOYC+K7xOvyuzog6yrDNdFTS3jh5nmfQTZASUbqTK56LAx4JQ9htzDinrxXN471wu5wBANpt1ph6CAwqjyvg8RqMRZrMZBoNBhHHRNAj8XR2E2ddsn44NdRhWvx0ds2wr+8XqEzJ7yvbwebA8Oq9bPzJdZBDgaMqA9y5KK43CScuA+OjhNPcNgsBtvqbOi4zaAq6o0E6ng6OjoxvszG0Bme+auHLSln9XpsJ3XRLF6QNTvsnUlhH3TOy5fBbPnj1zzouTyQSZTCYCeHgdV5w6CVpJas9a1gLER0raeUL/A9d+DqpgVMlaRWgZDLui1vOtP4cuUIBoYjoej2NweFxZLAUXQRDdwoL/6RejfcMADipgKlVGBw2HQ2eKYR4fmi7YLjUD2hwr2i+ZTMYxQWSRyLKw3wkastksJpMJyuWyU+gEZsB18kg1RTE3kPbjeDyOOJhrX1MxEwSqczRBrDqBk60JgsD5GbI/dXwRyC6XywhDxvuwXrPZLJJQsFQqYX9/H61Wy0W60fyvTsY0x6lvF/tdQQ7/k2HR+VlNu8A1U8OxQTCmzvi6ULC+PMrgqd4luNYyOG6A6+g8bYNP3hjwvG0l8aarbau8V636lS5rtVoRqg0A6vU6SqWSQ9jn5+c38u+sKn8VeEgqI07iyvS1LemaOOGEmAZE6SBNCzB9v9tnsbOz41LYM3urRh6oMPLD5xMR93nN7KzFioIFpdSpIPQYcE3TK9DWPCG6kud5OsGrGUTnCnUgVhCj72Sad00XAbbu+p74ylKzSKFQwGw2c87JNF1dXl5iMBggDK82vSR7wRU9c8IQPBAM6hyrSfsUzDBaNpfLOaBAAKJ9oezBYrFwdVV/HN6bz0e3m9D5p9frOTZE78N7A3A+NgpwwzB0u5grMCAD3ev1nJ+TTSyozAvrp6CP4IF9yfrMZjOMx2NkMhnUajXk83nnW1oul10wB8Pt2U51rtbnYHPyaL18aRJYpvqMsc3K4vhYUTvmFRDp2NXzWQbrz7Fts5OrvDHgeddXxFZ5plXazOdilTfD1PkCcafcpAknCVjctf+0DUntiQMeSXXynWt9E9KAgyRgdxv2SldK6v0PXAMeK8wmquX6Pifd+64M2bsitv/XDNbthAqM/abmCDIIwDVQ0Tw9ACLmKYqyKcDNRRZ/19WtAiUVXWUD16vyuHHLumsqBzXTAdcmMwIWez3PHY1Grq69Xs8p0eFw6BjYYrHoMvxyAaIsDv00yG4wJwuVKfuACxduSDqfz1GtVjEajSJMjvaZrvbH43EEWGkWZfaBRsAtFlc7v5MRUb8lVfT2OTMxIXdnJzOjoedsD10lLGhWYEShaY2mJJrDGArPczQDdrvdRrPZxNHREcbjsTMrMuO1tpWmSo5jyxJynCr4sKZXTRrJ3ziOecy6feh4VT8j9rl1iqYoA0pgqb5QSfJOmrTepiSBBP3OXAc8l7K9vR15COPxOLJi8ilM3+9x9UrbhiTFpcftvS3wS1MPHwOStKq0jIqtjw+s2brY3/v9Pi4uLpzdnlIqlSKTKGVzczPivKZl+RifOLkvgOBr79sGU74+XUs68c0NvjrFpgAAIABJREFUmptEI2msmUlDd61SpNJUJkHfJQtGrHlLRVe3mjbDZ4ZSk5pdAaujp7IG3IuJSljDpEejEer1uvPJoW9PsVh0yjgMQ7RaLZfEL5/Pe01uNEvRLKNAjolGgyCI+MzwOPuLdVVmQE1HlFwu51iQTCYTyazMvabUoZf30gzFLIfMkzIlXAgrsNDrlcVS1kNBmvoz6fggoB4MBs6UxbFmt+agfyND+2lODILAAR/2TRhe+4BpFJmOIT53AlGCSV0E6LjkeGN7lblUHy47Znmu9bfS8/U5LJfLyLhIcmMAHkiUlk98q1/9z7wSyt5ks1m0Wi0A14mTuFO6T4muAhd6jk+SrtN7+dB40nn2uwUyaRXjbRSoD3DYOvDPV+5oNEK320Uul0O5XHYvAQGPLZPRH746r2KY0rKAd5HbMGRr+eZEV9MAIkqAq0md/AE4UKDnKntA4USuY41Csw9NKHwnfP4/rBdFFa/PD0jvq/fX6J+4vuD9yKiWSiWn8LmJJRcjaoLRHDaZTMZtmgnAKV4yEMousf+1XtrmMAwjCxptFxU7nafVxGQVLe/JPlDTlzpfK6BkQkHm3FGmgX3MBIEEHRplxbZY9k7BmZrd+JsmNFRHZQKEWq3mWLW9vT2X64cbojJ6lc9K78+8SnZMav3UmVnraRe/yoJmMpmIH4++M2S9+Hx0IagmSf2dv/m2BrGmWZ88KIYnbpXkW3Fz1219yQqFAprNJhaLhaNXu93uyhX7KlCj9dDPt1GKcUxJmjroOWnYqLTiA5Vpy9OXJwgCTCYTPH/+HPv7+2i32zg/P3cOkIxgsDSqrpZtuUlts89hLQ9XuGLUKByOL5pYFfxwYWSdO31gRZ2D+Z3X+RwvWZaabggGrEK1/he+cmg2oJlYmRVVHswFw/rlclcbKrM/FouF20ri9evXOD09dc7Ag8HAmcAAOBaC5eVyOVSrVQwGg0idCdjIIljfI4ZGq/+Gzi8KWtg/wFVYuPr2URlbn6vZbOby8Cg7p+CWzArLINOgDAb7WUGmKmstl2Va0wyf+WQywWg0cuORwjoOh0MMh0NcXFy4dgJXKT1OTk7w6NEjlMtlVKtVF7JPoOZbsGv5CijZfgWBQXAdim6BM+tqE8T63CSsjtA8TboQVdCk/kx8D+LkQQGeJBbGKkJukMfvfKnL5XIkBC5uh3QtP61iVVQdx97EXXsbMBEnq0Cbr99uK2nqacvmxP7555/jww8/xAcffOAcJPP5vMsqyjYAcJEkceKrQxzjcx9yX/23lq9PrJMklb/S88BNs5au3jl3aBZYVaDAdWg6FRuZEhulooCKq2LrJG1NC5YBskpLwRXL13P4fzweo1QqoVQqoVwuo1gsOrMOy3r9+jXOzs6Qz+exu7uLRqOBy8tLzGYz9Pt9Fy3EhHpse7FYdFFeNOfwOBUbQZkFD+wH6+StQGI+n7sFEf1frHmKoIUAgH4/uuUHn5eaGvmZQIb9zuMKFNShlkCOfxrZxYSNbD/rzOAYgktl6TR3zXK5dFtOEBTwuXHbHfXPIgBUkGYZG6s71fRI8KN9r2Bc3x/WR3NT2fuq2JxLXEz4GFabm8on7yTg8bEdd1E8q5S3T7HynvV63XmZA1cmFdplmQPCUotJ909C0FZ87X8TiVPkaRglfWnjrveVx2vTskVp2jkYDPDb3/4WBwcH2N7exnK5RKFQcM56er1Gb6Rh3nwv3H2DkjXIeb9Exy8Vri9k1voNWGqdk7+yEXasafQXGRAqEp/5S5WIAhS9vypUwP/OKiuk76+u6pXlIUApFArIZDJOiTJqaj6fo1wuo1arRfzr+v2+U8Y0i7EM4EqJM9pLGSaCAdaVvjqqAHlf7QPWW7cmUNBKpk5DyWkaUZMVz7HMBkGbPgPd5kb9iRQAaDJD1ms6nWKxWDhWjHVmG2ezGS4uLrBYLNBut1Eul284my+XS1SrVZyenqLT6WA4HDpn5/l87hy8CYTK5bLrT5bDsUBQrb5S6nsVBIEDX753wPrd+HSI6lY159GPimXxvgSIyiqx7exTPsckH553EvD4lM59KotVypX2UHtepVJxSZ9soqm4+8SJvf8qFuhNxbfSuw2IjGOg0koaVicJRPGcw8NDvH79Gs+ePcNkMkE2m41kVdYJyJq07ArENw7uA2Cu5dsjlmklxW4ZHSpUzbvDsaTOzj7fGxvaa7PUWuYCiJoNtCxVgCxPj6tPiK7CyWJYcxuFSfJYpyAI3N5MQRA4k1UmcxUSTVMVr6WSJAvB/iD7pflb2CfsN/5O/x+a4VRp6vvM/6oss9msq2OhUIhEQhFgkhUej8cOoDGUW8tlGDsdkQkK6P+j7JOazHjeZDLBYDBwCp45fqrVasSfimCI5r5qtepAlrKKrBfbQIdx3V6C0W/0TeWGrgR59LkhCGO5HIt8Xr4ElwqcNY+SAkEV6k+yc3x+CgB1yyB9R9hOAlx1xPZFl1l5JwEP5U3YHSuWfbATmQpfVrUL0xGMD1tzHKRlEfjdtseCCZ/E3cMHZNJI2nN9z0A/67G4Ot6mTlqmr6zpdIovv/wS3/ve99wLznT29p4W8Kzq41X3XsvDEwU1VFBU0AoqVPnqylXzpOiqV8eYrlb5nYqTisaCGv1NgYpPdHWtrIOCMo28oWhkjy/iaTabodvtot/vo9frYTKZoNVqRQI+1N+E7aGSZ59R+YZhGIl6Zfs0qSHrzTK5uldGQtkfH9hT53MCHyZLZDnciVzdGrQ/1V+H44JO65aN4LMHrhPkBUHg/D+bzSYymauItLOzMzdOaFKr1WqOyeY4sYwhAeJsNsPR0ZHbYmJzcxPD4RCdTgfZbNbtd8Yd6LVN7Au2R4EjWS7Wn23i2FWgpO8F68rxRFaP9WXZGiVGn0xbtvalgl+ORY7TpLn7nQY8b4PdscDHJ9ns9Q69ilIbjYZb2QRBgNPT0xs7pFvxsQlJSjVOKafpA1+biJyTZNXxJDZoVX2TQKtdlaWRMAzdJn98Ger1eiRvA3AdlprUpiSguQY9awGuxwXHGnANXBQg8B2x/j2crBXAUHQM2t85dhXYKGjRerEejCrT99UuTlRs1JOKgjrWj+8Uc9t88cUXODk5cYCBCozbSTDMnNFmrJeGT+v+Taxrv99HLpdzTsNhGDpfIDI2jUbDMTLKnmlWa/YV66/pK6jc9Y9AhiCDjL4qcj5v3YcrDEPHlmiotrISdq5rtVoubL1areLy8hKj0Qi9Xi9iwiuVSk4X6bPVNmpE02g0wnA4BABntmK5AJwvDyO1WKZ1DNbxqQym3QCW7BDHhe5ZZseujiEF6+wfZW849nQhwTLV340smjI8lp1UeacBz9uWOIWmOQ3UG7xUKrkXttPp4Pe//71LUZ5GkkwpaerlK8te52M69Dz9/iZKPakdlnVKqp+vzDTgStE/nfjo7wBcr8J8QNOWx8/3xSau5dshquAoGonCCZxKQcelsgvKsNgxplFIVFoWXAG4oeSoEFkXfac5luMWVHYO8I15zQlDPxrm1+n3+3j58iVevXoVMXXY3DNsL8EFAwwUICno0gglNTlxNc/6cAFqfWh4LT8ri8D7KXBR5cgw8tFo5HIGZTIZl6WZ5eoWEOw7mymbilhBrtaTTtoECyyTkVM0wZGhYRlkxywIYfuY8FETCzIrdr/fx+npqWOL2KdaLwXr6lRNYKPMpT4vH8NvQT/HqrJDCtR1HPJ++u5ZIK+skQKvVfrsvQQ8aUwTq65Lula92NUDnF7vYRji008/xatXrxKpZL2n/W7bkAYIqcSBmDSSxGrY332MWNp7pQFEep69Rxz4mEwmmE6nDoCWy2VHg2rkCScQ2740bVizO2sBbiY5U+diu7EhEA9EKHEsiyowDRPX90DNY1R0ce/XqvdW5x39TQGRhh5bkFYoFNBut1GtVhGGocsurD4pVLqab0W3YaDzMFf8y+XSgQ1luKwi7XQ6rp94fwVIyvQSUOhu5soosE+ZpyYMrxL72QUvn4mazabTqTNhUanzv5qGlNHI5XIuhJoOxQqOy+Wyay/NaXwui8XCBcoQjNl2T6dT5PN59Pv9SILFyWSC169fu9xA5XIZrVYLp6enEQdkis/0ybooOGefKlixuozjmoE+CrB0vKqjvkYi2gW6D+DroiGJ4XnriQffhuJYBVjYCT5qN0191KGKDzufz7uog9FohI8//jiS+yWprlrnOMYjTjGnkduyRbcpP4lxiQNMaethj1kQZz+z/zqdDs7Pzx1lXiwW3SpJJwAyPKvaZ+uyBjtroRDk6OqRvhUKSnQC5rlK46vpS/+r4tXFk53k9bOep/Oc1kV/V1ZkY2MjkhBPFZXm8tF3UnObMPfQ7u4unj175kwJy+XSKWOaZ4BrPyALwLTNVK4ED0zUx3YQPDHpXrPZdOcyLQiBBftfn5eCUgIX9peyQroDOds9Ho8jWyKo47macQioyDQoq8MFGp222d9U6jRFsu0sm896sVi45IHMsKzAWFmxXC6HWq3mtpqg4zj7N5/Po9FouASFyvQQvFAscFddwLor48l26xjWcaf9aNkxtkfL0K2E9F1RltMCp1WL/7fO8Ny3ieAu5VmwYzvFdpA6r3Eg6m60FxcXOD8/jy1/VR3s4HkTsHPb627LBlmJ60M9Fvc9rh5xLJgCQj233+/jz3/+M548eeJocj4bLUvDSePq4KvPWtYCXLMLQHRlayOk1InYOhSr0uUqXcXOAQqY1BySNMfYd0mdc7VONqKJ7bDOyrbNVDrT6RS9Xs85KdMXRJVloVDAdDrFxcUFtra2XOgzFeRkMnEOuno/1pnXK8Oj5gvWm0qUPkPWnMHPPJf+QplMxjFQBDcAIhFnZKxyuZwLl6fQrGQTm25sbLh0JVTs7H/mCGNfkAmbzWaOnWYZZIiso/lkMnEmK1+CRvYTcyRpIkeCOe7rVa/XI4CH/cF7UQgkdA5Vh2z2cdIcy/vbMWy/K/D0vXP6PhHksd0K+rRcn7zzJq20ivxNlJVVdrSBarlkEZbLJfr9vrPrrqqTVd73DQD1XsBNCtu3srLn+QainbB9TMib1HPVwIxjfahwPv30U/zkJz/B/v6+s+fb/qUDY9r6rGUtVnzUuwUpjI7hbzZaSBkfy6DoeFX/M97P5+xso5gsK6l+Ekr3U0lpdmgtV5UdFZt1XF4sFhiPxwCumHBm7WW9aZIZDAYYjUaoVCo3tgHgPlLceJkRXePxOJIBWAEOQ6rplwJcReZwTuYeWHa+0PaTHaG7wnw+x3g8RrFYdOyC+mZZ/yr6HtFURBaGvkEELGTOlDmhGYrtBuBcJNS3iH2lYJf5iZTpYRJH1pGh9MywTNA5Ho/ddRcXF67/yKJZEG8ZGtaNi3/1T7MgX/td/+u5/PPNyzqeOT59Tviqn9SfyI5hn7yTgMencO+zbCt2AlKnL3ZwoVBwSFz3W0nD6uh9kupx13asAiWrwEVcuXHHb/tMbntN3CpW5ezsDMfHx9jb23NJwOzLYB1Offe5LyC3lm+nKP3O+UAjfzje1NFYJ2t1ptdVbJyzprJA6t+jYMg3RlkHjRJSRa1tUeCm9+DxOJ8NnSdpbqhUKmg2mzg+Po5EFC0WC5ycnNzYoiEMr6Is+Zl7E2qkjTonayI/sk0aQs7zyCJReSvLxbmc/7vdbsRB2pq1gCs/QeoC9g9z1hB86C7dCk5ZJvu0VCo5IEWHZH3mLJ+sD8stFAoIwzACcnq9nvMd0si4fr+PTqeDIAhQrVYxn89xcnKCfr/v2Cvurr65uemYJQscVJfYhTCfK4/zd74PlhHSHQkUEOn7QdExaiOulI2zoElZMDKFSXP4Owl43qbSiStbFaWGSirDY73TfahWB8zX2Y44oOJT6rcBW5ahWnVOmrreVnz3vby8RKfTcUqFE5wqJn0hbBvsxL8GOmuxou+yTb/PMcfz+BsQDce1742P3VHTGUXnF1UqVAD6nat2KmNer+Y1Wx8d81axKfujAESdVYfDIba3t9FoNFzCPJqMyIDrhpTsGyrwxWKBSqUSAQrKnCizosCGYe48n++/OjdrLpx8Pu8+D4fDCEtDQDEajRyAGY/HmE6nbqNiOtASPHHbCwW6wHXUkJq5LMvD/uXz0mvVbwi49n3KZDIuRxHPIZszGAwccO50Ojg7O3O71Q8GA5c8sVqtolQqOZDKzV5ptbCsjoJDnyizyfFFNlDPsckkLePDMWbfM15D4GNNeCr6Pmpd4uSdBDzfhGin2y0JgiBw6dDDMEStVnN5F/RaX3kUq1TfJjBKU17a+8axR2nul3QPH0BcVQ97jq4CisXiyvN9rFiauq7l4QrHhEbT0I+DQmVO5cPruJq3jpcKyoHoKl/9B2mmsSthZQjsylkdWC3DpGNczWwKiHiM5bLNZAbIoLBsblOwubnpGJ4wvI50olJVRUYWiOWNRqMIS0OgpIBHoy9ZV3WYZRvo+KvtodKkgiUI4nOgD5CCSPrM5PN51xeqiBUEAtfbZKj/jjq8Wwdjjf5SkKqRbMqYMLycPlMELwxJ532VJatWq2g0Gmg2m87Rm0waxybHJIGCjg/9b0Gxjl1leOx8bllDjh9djOo5+tyUAdVnzuetY0EBY5IueVCAJ41SUxpT6T4CnuVyiVqthnK57CIRfIPhtoDC1u82Cpjn+tiLuLbb+9xF2a+qo+9YEujgb6vYKq70tre33TGlnpWeTxr8b9L2tTwMIcDRcQVc+4dRmYVh6NL3q78McL0dhXWsVDBCBcgxq9doxJKWybIUoKhZhayAXa2rCSdunmC7eV/6ykynUwyHQ/T7fcd2cENKBnbQLDMej9FoNBzgYR1U+WvfZjIZZ3bhNgqWQWG77MaUyq5ZB3F+JpjKZK5DunkuyyTQYOg4GRH162G9VHkrk8ZjNuqLY4PlEWgRfNk5i58Z3cVzmXGZPkiZzNV2HgAcsOl0Ojg8PMTx8TGAKwvFo0ePcHl5iUKh4EAnx5KdA9WMpONR62bnWp+wb3S/K99z12es75iyNnqNsmEco5bR98mDAjxpmQ/dSZYPm451fMl9Zi+ez3tZQHAb089tlbCPNrd18Q0GH8OSVL9V56UFQXF1Saqj3qPdbmN7ezvi0KjHffdIU//3XdIyZmtJJ5b54ERPhaMrTR1fPjpfHZAtSOF5dH7mZB4EQUTZA1FaX9kBC36UBeIxvp+siyoVvUYViM3Fw0ghbiHBEHdGTHLX9EqlEklWx7w72re8D/1X6H/D4zZBoN1YE7hiVzQ8nuwYzXxMGktTmu6FpX5ZvA/BSL/fR6VScVmVbQQT2R5lwJQRU93AdhL0XF5eOudlBSCsHyPDNDydvqPKrqi/E7eM4DPiM3716hUKhQK63a4bXwquyRJxjHJc8b7admVy+HzUZ0zZR/sM+d2ySPxdQbGeo4BWATyvUUA5nU5dxK5PHhTgiRMFBjSP6CpI7ahEvTbp1yows+rYm4gFN/ZFu4vy8zFCaVgnHziJY3L0HP2fVCfgahL48MMPUSwW0e/33b43alLg+Vqmr/zbMGnvg6yBzv2L0ukKQCxjQ+XBiR9A5LtO8Fwx83plAgC4cay5cah0VPkogNF6cKHGY6yvMkRqavEpKt91VNTMQVYoFJwJiuzBwcEBzs/PcXR05HxFNG8LF446V9FEY32O1MlXAZsCCzXf8Tj7XfNz8bhuPKq+Muw/Og3TbYFK1Ka+4PO2QRPq4ExGx87RbKdGzgVB4ByUNY/RaDRy4fw0EQKIsFDAdf64XC6Hra0tLJdX0Vvlctnl47Hb77BOaga0i3ggmgDSsowcpwTbul8Y+13fBZ3H2Y8sU529LRuk//ncOI7VlyspgvrBAx59yMC1HVVXPQQ8PI/2XUoc2Emr/NNIGuYkjbJLUweeo/99164Ceb572TLT9oe2bXNzEwcHBwiCq/BXmhh1wtNVIcX20RocrGWVqO+BnZipJFWBUaiEqZQ5eSswAW6OQfXBoSJUxWBFx3ocANJr1fRjy9MVvpZNJUaQMR6PMRqNsFwuXT6XarXqfJD+5m/+BoVCAf/93/+Nk5MTt2ElgYE6gNP/hCHq9AFS9osh1LqS12gctll9aHyMgyYdJFBR5ovzPN0VGClFdwZlaai81eeKrB/PZXvV/Mi6sN0sg36js9ksom+o4MlGcdwRCBEMTadT1Ot1PH782IX903RWr9dRKpUiG6HyGM1z2jfK6OjCn8LydX61fmYEIOx3Lha0j6yZVReoagaz5lpN+8Axp4uQpHn9wQMeK3zg1t6oab5JveoEmEZxx7Ekd2FOks7z0dOr6pB0rzgw9SZ1TtMeXz05QWmKACJ9VUCqBJLqsAY9a1kluqLkGNNJV8ccx5M1Z+lK1b6f9jOAiC8Q76X1USXv88+x92fdqMjs+wJE5wYqbCoSmmg2NzcxmUxczpdqtYparYZSqYRXr17h5cuXrl71eh2Hh4fO3NVutyN5fZjTh74zBE/A9eqf0VPaPjK5BApso5ry1C+kUCg45+Bs9ipTvrotaAg7GRJmcGaduPWE3oN+XGSAwjB01/O4sjdsD01r1rGZvkXqrK7PcDgc4uLiwj3by8tL9Pt954jM7SImkwlOT08xn89Rr9fx6NEj7OzsoFqtRtg2NUfx+QPXzvM6zinqI8V2EVxZgK95kZTNZDmW8VKHYx2Lyo4qA2hBF8dHkm558IDHx1oofcqJii+qTU2+SqxS9V1zG4YkqR1pyroNQ5O2nmnr57t/Un3jhDSzhgbrSk7/2xfIyl2B11oehqiCU3ZHzSZAlDnRSdkqX/6mjA+vV2aDYvOKWEdPe74yDHae8pkpqDz1nVFApWYL/qZJ7lqtFhqNBsrlMi4vLx3gqVaraLfbGAwGWC6vQsLpbEtWgYzGaDRyZmm6E/hMVBoib/1vWJ7uWs666y7rNA0xCSHBGCOj+Az4maCTgIa6gOBGAYllORQIK3Bl+wiYLPAMgiByP4K1SqWCjY0NnJ+fo9/vYzgcotfrIZu92j2+VqthMBhgMpng/PwcJycnAK5zJnEPLYIR+k0p6+UTHzNpnxHHsObK4ZjTa3T865hkeepLpddaMxfrqj5rChzj5MEDniRFxs5TKo5oWhkfSpJiTGJW4oDHbZVsmrLTMBpvQ8HfBlisAkLL5RK9Xg/AtaIhRWtXwvchd2Hkvknxgdq13F0UDNhUFKoIlJVRJcHJmn4SnJiB6ERPsb/ZZ2hX3spoqi+Fgi0KlZSuqnW8sG7WfABcMyGM1BoOh9jc3MT+/r4DLMPhMJKQjz4+xWLRKVoy5kycp6HtfLc0Mk0VHa9fLBbOV4R9xnZxEUQ/o8VigXw+H8lB0+12ndkKiAJF5rJhTh5GZumzUP8R3QaDwElD6elnRCdlfT4aRq8+RQoS+IyXy6VzGCfYAa4is3Z2dvD48WN3v1ar5a5huoB6vY7lconRaIROp+OSGCows75d2vesO/srDK8jE7UPlWWxJkAd51Y36ThUfyvrqK3+RPa9Wpu0bikWnfLFV4co26l3ZSrsfX3X3oV90QnaMhu2zFWMkK3/bVknS6snnRtXJx/NeX5+Hpm86WNgr/PZoG/bDivvMtgB1iDnPsW+KwQW6ojJcabgxiYn5WSv5wBRJsCufPX942drtqGCo2hmYpZvlVUY3gzrtv4uFhApCzAej9HtdnF6egoAqFar2N/fx5dffomTkxMEwZU5p9lsotfrIQxDt82ERl0R+NBXhsrQOodTsRKw8DsVtI539XPRfpjP5y7KKZfLoV6vo9frud9ZD95XlaeazXkunycBDtusTB8XyOPxOFIXMk2ct5SpogmPW0RwYa19cXl56QBnuVxGu91Gu91GrVaLhNGzrxnqv1gs3D5on332GQ4PDyNRW8qW6JjTscM+saHsFsSrqM8O+4fzL38jKLKsnQXdChb5m4KzVbIGPB6xbIhFuuq0nFa53IX9SQILPjDi+03rqGBOy0+qsz0vLaOVdF3ctXaCT6qn2sHVh4diXwrbN28TtLzrDNBa0gsnZX1HfRO7z7FSmQr147DAHLgZQs4Flg2HtmyTHdPWp8cqMZ5HibsP28fy6TNDtuTi4gInJyc4PT2N7A3V6/VcSDi3cOBO4WSE+Bvbqf0zmUxQKpXcbwQEmoBxsVi4c8hqERCx/QRTNk9ONnu1wzpD1ZmtWJ/lxsYGtra2XF/lcle7pnPOYRh8EASRyCj63qjTMaOtVHlns1lUq1VMp1OMx+NIOQQT8/kc/X7fsUvsg9FohG636zJF1+t11Ot1bG1todlsuj20Li4uMJ/PcXFxgclkgkqlgrOzMyyXS3z66af4wx/+gNevX9/IYqw+XhT1xeExHaOaq8fH1ijY0wWCHWPWdGbz8ug74NNpyrTGyYMDPKtMJj5QwO/cg+T169cOoQPpQ7/TmGzi6uQrK+4evnvGfbf18t3v61DgvhclSfiy2d2DbVvTgsL7lDXY+XaJXf2SabHmFKX0ff4cvFYdnjmOrUMzryd7o34eaiawzBDvQeZDFwR6DYXshNZP26vh3Fr/2WyGXq+HXq/nIplqtRq63S7Ozs5cOYVCAefn585hmMn/1AxER1qWPRqNnCLkRqVc8XPDUOD6PWM0jy5CqVDz+bybqzXUn+fRPUHNgTzG+3IDTvW7YR/0+32Uy2U0Gg0EQeA2PyXw0aizMAydjxJBD32hlstlJJKN+2GRkQnD0EVjEXQylxBBESPlJpOJM9mVSiW0221UKhWcnp7i888/x2effYZPPvnEbc2huY2sdUBZF8uYM1eQJQYU8HPs8j/PsWZce9+4eZqgimNFy+d1Nm+Vyv04ObxHYicGK5o/wa7ouBI4PDx0L08cSEhz//uQVe25bT2STFw+8HCbe9nV6G36zt6fKdYHgwGAqN2YSsFX59v2f1owm7asb1rWYOx2ouYXKkWNxKHioSgdr+Z4oo4wAAAgAElEQVQNHY86DqgY7ORtQZKuhDXMWce8On0S6Nj3TJWDKjB1tta6UDkRrBA0cb8mAKjVajg4OEA+n3d+PLwXfW1GoxEGgwF6vR6Gw6HbDFP7WR1RWX+ex35T/0n1ddIwfqu81QymeXsAOAdqZSA2NzcdUFLTE/PZWIBGsxgzIhOUcHyQ8WIuH2UgmHRwPp9HFm8bGxvO94Z1IxjS9qvplLmPuDdYPp9HqVRCuVxGPp/HbDZDp9NBp9OJmMh0TFBo1uN9dCxoP+u4tGOQY1XzSGlkmgJzrQfHvAWfHO/K+Ok44/GkOe7BMTyUONbCIkQ9hx1LatAef5P737WcuwAtHwC5LVhKYw6zrI1O4Pa7PeYTDuZs9iqz8nw+x+npKT744AM3wcWxc3cVyxjZ3+5a1jcl7wLoeh9FzUeqlDjGbHQJALfSV3OVpfMtc2RXt2QUdBWu4MA63bIc3zvq8xeynwG4d0zHuyooClkTMt/VahXdbhe1Wi3iSFooFFxkVxBc+cRobp7hcOgUvyoxBXoafq7PhFmJVcEGQRDZyoB9TPOiLmbZL8ocaN4ftplZotUERz8iAhmapZhjh8cU7KrZxQJpukqosucYoclusbjeO0udz5fLqySDZG3IWu3t7eGv/uqvkM/n8eLFC8ewMWmrgj8FDNpH/M86c5sLC0TUj82asJhKQMe4Liask77e1wIxFY3SZX/FRZsBDxTwJCkergT0u1XMNpuvVehpJY3if1Ml6VNwtwUslNu0Uwds2nNXnaOi9l11htPzfP4LqySpzvcJftby/oj6HWgkkAIdRh0BUbYCiJpY1EdBgY6yQfoblboyFjqmrYnKMkj6XecyXbUroOExDdZQJc1UEAQaXOkTdKgzb7PZxNHREYIgQKvVwng8Rq/Xc4p5Y2MD9XodhULBRVRZBoRMmipSMitkVabTqQMNBJn8ru1keDc3D9XFLdtKcEMHZR/QpDMyI8wYLq5shzqo67xJhklNQ0EQRHyAdD8v9hXBkLIowLUzNnDlQzUYDBwwKhQKaLfbePr0KbLZLPr9Pl69eoXZbIbhcOjqYkE266ogTX3ULEC3n1WUkfH5+Nh8diyL52g/+Uxg+htB1dqHx8gqdoWbuulxnSh8KcbfdNXvq9NdV+NxYMVOhHGA5rZlx4k9z4fY+Xvae/Hc09NTbGxs4MMPP4ystPVFVVrW1inunndp2xr8fLuFK3vg+j3iRE3mQXfJ1vHgWxApmNBVra62WZY11QLX/msKRKz/jyoL6wxKSVJYBAN8l3gPLi4mkwkGg4HzMen1eri4uEC/38f5+TkuLy/R7XadwuOmnZ1OxznV0lyjOc6KxSLy+XwEfLEv+H5rhuTBYIDLy0vU6/UIU6DAQH2myISoGYcsgfpe8blsbm46MKegiUxJqVSKJPFbLBYRxkn9imii47MhwOIz1iAM1nM0Gjnn5tFoFDHZlUol1y6WwWdAH6FSqYThcOjqNpvN0O12HTBSvyWOEZvVmn3B90C3WVLGhSwaz2c9CZB13zGCHx1zanpkGgGWowsN9qmWz3dQzZM+eZCAB0hGpNY/R+3buVzOOahZpRen8JLu5fuc9FsaWVXuqmuSrntbSj1u8o0DZmdnZxiPx2g2m8jn85F8EhzwGtnB624DrtKKD0S9i+DH9uldAfVDFWVClKVRsGHNJbxOTQA6r/BcGwnD45zsLRDSc9SEYM1m/E3vy+NqovGNYV3dq8MuGZ1+v48XL14AAI6Pj13IdqVSAQAXpVWv1129dZsGbpjJEOzl8mo3dubu0b7kQlMzMBMk6SLH+vXwXtlsFrVazSUctPtPEXiRaVKmyrJvAJxZSMEZ68O66XNTsMTILUZ78d6s83Q6ddms6RhMXyD2URiGzseH0Wj0kcpkMmg0Gnj69CmePn2KUqmE4+NjnJyc4Pz83IXjc9ypqdMy5dYPTMe8mqM4LhQ0KovDawiiNV8UEE28qRm+rXlLGTsFwcqarU1at5AwDJ0dVG2Sini3trZcVEYaxXYX5XefJi1dIa5Scm+i+FeVmcTs+EBa0vlMvFUul91EZa9hhlHf9Vbuo83vOutjldla0osFi3YlyYmbypO/8Z3zTcZ2zKvi1nspQ2Hrou+WvRfnLt97r0pJlY49nwpOGZ9M5ioB4Hg8xtnZGUqlkjOhAFcBBVRuGxsbaLVaWCwWeP36NYrFotv+IAyv89AAcDt9M9KIfcz6EICociXLxgzLrC9z53And/WJIZjSpIvsP55H5o6AJgiCSPZl/k6fFgA3nLD1eTEaigqdpqpisRhpCwENmR0usvm3XC5dpBcZnGz2aruMXq+HwWDgAM/jx4+xvb2NbDaLo6MjHB8f44svvnDbUfjmV+0DttuCDuvjyhB9PjtlJXkOGRv2szUV6ti1bgg69gjSFcyqs71uT+GTBw144tgDboxH4WAl6Gk2m86JjdfcRuyEksSmxIGU+wYmcaDkPsRX5m0VrmUlODHod7sa4QSj9fg6+pL3epvl31XWzM7tRU0GyrrQV4TnKEDR3C7WVGXff/6mQMXS8lYh6LtqARDgNwVZ5kcdPXl9HHDS+nKFTnMOQ6K73a5T4EyeVy6XsbW15XxtxuMxqtUqgiBAr9fD5eWli3QrlUrI5/M35lsKTVH5fN5tOHp5eYlKpeJYHFWOCs4AOFDE9jASi/3E+Zx+StPp1CU0pbMwHYJ5L/5G3x7WnfVk/3EbB5bPbM6aQFUj/ph1miCK0VkK5FqtlmsjTVVk1BqNBhqNBkqlEqbTKQ4PD3F4eIjj42OMRqMbrEjS+ACiyQN1TLLv1HzK85Q99LGJ/O8D3Ha883oCRgWXliUiC+iTBw144oS2Uk0aRr+e2WyGZrOJarXqMmjGSZJpJg5d87P+7pOk+/qUWlp2420BqThw+SaMk12BqGJRynOVvG0w8q6AHcDvKL+WZLHvh4815eSskVcWnOi5dlzb56AhwXqesj26Gte62PBeHzvEsqzjsrZLzQ9A1DSRy+WwtbXlHI7pIJvL5TAYDDAYDDAejzEcDtHtdh1QGAwGODo6cg6mCj7YRwRRBAls8+XlJXq9nqsT8+PQH0bNRmR+bF9zjyreW/MB0RzIsnq9njO30d+IwIRlso40NwFXCy0yz7rB5nQ6daCGoCkIrvPZqH+M7qTOvmP/cEd31onZnGezGYrFInZ2drC7u4tMJoOjoyO8ePECn332GU5OThyz5gMb6ofki7ji2LJjTBeb9r1hfxI08nkomLJRbPo+KJNjy9U/fdfWJq1bClcORNscrJlMxmW43N3ddZuz+SYT+92iWr3Oyn0CkDTX+u5xX8DHV67v86rrrYLhpKB1tS+LDWH0vTSr5F1iZ95UfMyC75y1REUBCxDdBNGyMWoq0lWt9a2hj0gc+6mrVPV1oFjfCRU1S6lysNeqmUd/t3WxzsthGDpFenl5iZ2dHezt7WFnZwf5fB7Pnz9HEAQusd7Z2VlE4X322WfY3d0FAKeos9ksyuVyhDVixBQXm8zWTPNZp9P5/+x9+VdbR7b1lgDNE2I0BmxnsJO4u5Ne/Xp47633w/vP++vVQ/KSdCdxJg+xMZMYBRqQhADp+4Hexdah7pWE7cTYOmuxAKluzbfOrn3OqUI2m3VRV5FIxF0fwT5nv5OxicVi7q4vZSHIyBEQKIvEG9yj0fODBKmsGSVGYMIzeBgJpkwg5wSZK41463a7DgRxo6bjznoQOLG/yIgxmqvb7aJYLOLWrVtYWFhAMpnE1tYWVlZWsL6+jp2dHXfIIeujc8Yyk0xjTzwOA+B2DbbvjbZL56Q1pyq4UuCl/aPvk87NEeAx0k/ZkX7l4Xb0ricaHx8fx8zMjHeBGFTsYhSkaIZRQD5Wx7Ir+llQnYap/6DP+cCfvhSDgg/K6ekpyuVyz6Kv+fgm/iAKP6jeQaD2OsmwfTySC/GxlLqj16grnTNc2Nmv/F8dnXVuqW+QhsNrev1O8wWCL8y1dWJaKjqCAm2jnkWj0umcRxB9+umnePfdd3H37l1MTU1hYWEBmUwGsVgMq6ur2NjYwNjYmDM906cnmUy629OpgGu1GlKpFHK5nCufLHsmk0G73XYmIYZpMy+aeniZqNZf+183SXqEAA8FpA8In1G/IAIM+iYRgDHiiPXhKdE0M9GsxTwse6JKW8PO+Zumtkaj4XxveCdZPB53hzienp7fpn7z5k0sLy9jenoajUYDm5ubWF1dxfPnz1Eul51fkE9v6dlLdh7rO6AgXh26ffqHwJ6soIIf63zPZ7iWWzOysk32OX1nRmHpHglTXDzYidLpdNzpoUSYPFBKxaf4rRK2SNgqYVXc/YCE/T5ot6i/9W8LNPrlZds1aFpbV1vvMBDmS8/P6MhHWtf6NgTV7SpK/XUDPoOCxF86zzdBlOHRk2273YsQXhUfo0JlxwU6DKBQkVhGyDJNWpYPjNl6BM1ZdZj1CZUV3zPm2Wg0sLOzg3w+j+3tbeTzeRSLRXcSsZo/+Fw0GsWNGzewsbEB4DxSqVKp9ETtkGmhkyv9WVKpFGZmZhxIotlI68k5TNaFIKtSqfREXingYfv0ok6eUExApWwdQYbtW/p0UeEq46BKXG9z1yuK1E9IQR+PAGg0Gj0gj+Y7Oj9PTU1henoaqVQKJycn2NjYwJMnT9ylrhouz7ljWRk7z3QOqc7i2PqucVBwx37g+ULK2ATpN12HLFsZZDrTuTtieELE1+GkDXUhqdfriEQiLgJBFy+rDFUs0AgaYJtPkJLXiej7PqhNPnlRlmeY53wAL6wuFgT5nuFOB0DPwVwUvpRhdRpWwb8uwOdVAJMR2AkW+x6r2cEu4hSCFTIV/Ex3x0FRKWQCfGCK5QKXr5mwfjm23pZp0rWGioxptW1Ubrr20Ol2Y2MDuVwOmUwGd+7cweTkJKanpxGLxbCysoJKpeJMP8B5NNb09DROTk6QTCZRr9cRj8dRr9cd80MAcXp66u6nGh8fd07NNBuxPexXskAavs5QcVWadGameWhiYgLZbNaxEIlEwt1nFYlEnK/SyckJ6vW685fRs3TU9GNDpxXgKqgge9NqtdyVEDSbcW40m03HkiWTyUvXUUQiEeRyOSwsLODGjRvI5XKoVCpYW1vDxsYGnj9/7i4TVQBh56mCWTtfFASx3kGAWoGJ+qKFzWcFVwrAmaeySsoS6bsXBqIobx3gGURB6emVnLS1Ws29CBoy2E/shBgGUFhWxJenprEIXMvUOoTJMIySftYv336AJuyZfuwPAOfAqJ/3U+AvouBfF+Azkp9Hgna5dgNChWmdYqkAyDqoPwPzs8pFKfygdUCVqo9Z8jE3didPNkmBjebB9kSj0Z4rIyKRc0fi7e1txONxFItFrK2t4YMPPsAnn3yCer2O8fFx7O3t4fnz505xM6S62Wy604rp+Ly/v3/pZnY9jVeZgmaziVQq5YCYbkK136gMlZHTtAQT9O0h2KAfTjQa7QE7rVbLAR2CHvYlnZLZxxxDBTrcUNMHqNlsolKpuPN5aAojmGVfp1Ip5PN5ZLNZxGIxd7FqNpvFwsICFhcXkU6n0W63USqV8OTJE6yurqJer7v2hq1TOifCvldQomBOzVtqotJxsPPTRmUBcOyV5smyfOdGWfJhBHhEBlFQRN1M3+l0ek6mtGfw+JQ5yxiU/bF1suzGMAo1CBxpXewkG6SMMHbKl8cggMMCHwvegoS7Mr54HB/NK8yW+zLFV/+RvFlCxac+HXriL4BLwIMKGrig5tUnhkyDDQVWh2bLANndLSVo/vk2WTThKFMVtBaRifI5uvKZVquF7e1t/Pjjj0ilUpiYmMA777yDVCqFe/fuuWsNSqWSaw9ZCkYu1et1lMtld3aWOv3ST4ZAodFoIB6Pu3N/tD7qxO0Dk8rMaf8y5D2VSrnPyDDR0fjs7PzmdIIPOg1rP7FO1BPs40jkPGqMTs3MX01YZKPI3JDRoqmL9Wc7gfNQ++npaSwtLWFychKRSATlchlPnz7FxsYGSqWSu0aCfcS+VMDBz6nv7HEGOj/5PftWN9gW6OjYKBvpm086t2lGZD3UrMj+VZOZgqkR4PFImILvdrs9PjvdbtexOpOTkz07N/tcWJ787QMcvvrp7yDxLWj98rR/23oMC7A0n0Hq7HsmqLygepKC5gJ3cHDQs3h3u92BWbgXEVv/EfB5M0V37Hx3LWBRB2Cl59XUoe+W+rjoDlzXBwVIPjDDz6gIgm6xZvkUy/rYAzp1Xqtysk6hrG+tVsPKyoqLsIrH43j//fcxOzuL4+NjHBwcOD8UAi5e0UPHZrLqZJMymQzS6TSazaa7UoAHEioDoswT2Xk6MROYErRov2v9z87OTzhWpa8RVwDcgbSsF01PTK/3cnH9UeDL8WI019HRUQ/TY1kNje6KRC7uGWNd2UfT09MoFovIZDI4PT3Fzs4OVlZWsLa25hyVffrEB6R1rjCtNYPpPXIEGvY0cPXhsfNWGTcfi6lnIvG3HpSo7wjnikqY/nlrAU8/cMLDmdixPBmzWCwiGo2iWCw6xK67OooPNPiAhf07DASp2EXJl+cw+dk6hJUZBoiGBTtBfRbEQlHS6TRyuZx70XiAl+bN8y36lfuypV8fjeR6Chd3BQcKsn3gXH1lrElBTRxW7J1EFPteaDm609b1Teumc18jW5iOYhUY89M8bTh+tVrFkydPHPsaj8dx48YNTE9P4/bt26hWq+5cHTWJEDTQgZcKmjepK9PD+7Z4JYSeZ6N9qoyNXuxKZc12cOPK6yZoZjs6OsLBwQGazSZOT0+Rz+eRTCaRy+VcuXRAVlM6GToCAvYv2RuCtlar5cxkjUbD+RLF43FnxlMHXfruEHTrmTs3b95ELpcDAFQqFfz0008uSo4gTs1Myh7quCuA0bHROaPgTUG9Tyx7z/wV5PjmJfuLeQfpTP5PED5iePpI2M6J5z0oW1CtVrG4uIixsTHMzc0hm816rzTQ/60St2X70g9S17BBtSAhDFjYyexL4/v/ZYito68NvjIjkQhmZmZ6TnWtVCruRWK+vuPTX7UEgdAR+Ln+okBDQQbnmw8k8Ldv8dZ0qmQIgvoxt3xOF3uK+jWwbvqdZY/0eWWerJOo+qXoukFFWKvV8OjRI3eOzccff4x79+5haWkJ29vbzjmXQQbA+WGAfJfp50OTEQ/0o+KlKYyOzOobo31MBkSj4xTg8Tm9+JNghOxLvV7HxMQExsfHkcvlHNCi6L1ZbL9eRcE8GfXL63AYZUZTGk97TiQS7syfbvfiSgn2Oc2QTF8oFDA9PY2ZmRkX4r++vu7YHfqd2jH2MX92fbLMpJ13akbSvuVnqjv5jM6roDJ1znJu6w3oFnhr/TqdTs81Ij65loDnRRXIIM/S7kkHNHv7L49M39/fD83T7sQGLf8q4lu8fPXxPdMvXb88hmmTTR8E4oLyHBsbw/LysqOUG40Gjo6OAFwsysBl2t7m/SpZHlvWSK6/2AVcF3HrTGmFSpvP+jY/CjA07FfTK8jij2VofMyO3VUrQNA66m+bl4IcBT1q8jo5OUG5XMY333zj/F2y2Symp6cxOzvrlP7Ozg5qtZozTfnuQGq1Wjg8PHROvPF43AEUMilkg5RZYT8rU0QTmpqJ1AfEMjM0laTTaUxOTjpApiwEN7sENGdnZ+4gxEgk4sBMo9FAo9HA4eEhDg4OnEmOkk6nEYlE3L1Y2v+8p4wsBjdxxWIRs7Oz7pojstzPnj1DqVTC5uZmT6SxjXLieKrfmZprKb6zoGw+6tNqWU6d71qmmrzsvLXO0xoFZzcHLN9Xd59cS8DzcyiQRqPh7nkBzge+VCo5h7NIJIKpqalQZd9Pob6snb8PQAwDeoLysQv8IOkHkTD2Jiw9JZVKYXZ21n3OY+wt0Ak7j+F1lp8TjI1kMCFg0cP4FKgwDdC7wPN//VyjWfR7ax6LRCI9Vwr4QoGZvt9ibxnkILCjf9u0NkxYQQ+VIOXg4ABPnz5FJpNBIpHA73//e8zMzKBer7t7pA4PD905OalUCvV6HYVCAWdnZ2i326jX686MlUgk0Ol0EI/HHQign83JyYljfbrdrrt3ilFiVLLWTYFKl2CL5q14PO58jVRJ69k3jK7qdDo9Z7ZRMUejUef3SaBTr9dxeHjofJyYN+/FYqi5nhXEMaAJjfWYn5/HO++8g5mZGQDnN9M/f/4ca2trWF1ddfeUKVuo84DjTHCtDKCOM39b5sWu+5wfvnlvwbqPweRc9PnEKQhkWay35qXgP0iuJeB5UQlT7BQ6lmWzWQDn9CXvIkkkEpiYmHCX1mk+lH7K3Ef3XRX89GNtfHW05QfRnYOW+6oVtNaxUCggn8+73dr+/n7PGTxUDlzgfPm8zoDida7bSC4cMnW3D1x2SgYuL/qWtg8Tm87uilUxKYDhwm+VVtAptCxH66Ztsbt5PmOZJL6PBA71eh1PnjxBPp/H7OwsPvjgA8zNzWF2dhbRaBTVahWVSsUBBoKWVCqFZrOJnZ0dd2UCd/f0c+H73u12UalUkM/new6DZeQXAYl1yiZ7r1dMULHSL4ggQ015BDz1eh21Wq3nBnn2Ca+3oEMyGR6OBRU0fYGSySQmJyedGZA+PdZ8yLoVi0XkcjkkEgnHPO3u7uLRo0dYXV3Fzs5Oz6nNNtKOf+s1EmEWCo49+8rOG9Vfvo23sjFMqwDJlu3bCCgw0tOwbX795K0DPIOyG7Tn8kU4OzvD4eEhqtWqcxDj5Xn1er0nfwUNQSyJTxH3q7cFLi+LHQr63AdodJHzMRE+WtNXRljdfaBLAdn8/DwSiYSjctfX13uOCRgbG3NnW4xkJC9LqHitqUgXXYr1aaBY3wbfe0zAzr8taOLndpOiZQS9m1p/y9jo7tmKAh1tp7an2+06kMDvDg4OsLa2hsnJSaTTaXcwXiQSweHhIRqNBsrlsmMueLpxPB7H/v4+jo6OHJiKx+Pu8lD6ahBU6JUU3e65r08+n0c0enHKcyRy4dtDkxRPcdY7slTJs590faH5ipd2EgzQX4d9SYaFLFancx6OPz4+jnQ67awHdEhOp9Pu3rDT09MeRrHb7TpfounpaUxPT7ugjXa7jf39fWxtbWF1dRWHh4fe2+aVXdExtNFgvjmlDKMFuhZoBG0qCdz0aAefKYz+SlpPBZYqysCxj34RH57XlZYPott8DA/9Qmj/bDQa2N/fd47Ls7OzKBQKLpLAJ4MArLB+spMnDOiEMT0+IDIIYNLFbNjxtMBv0LJ8z1Pi8TgWFhZ6FplSqdSzS2WUBcfPV6dh6jGSkfiUgY1osZElBELqK2L/tu9W2HrhKxe4fBko0/vWA9/my37n+1tNBcr4qBJVRoHP1mo1PH78GLlcDoVCAZOTk7hx4wYikQgWFhbc+VmVSsVdoMmfXC7nNpPHx8eo1WoALgBHo9HA2NiYY+GVdeMdXGRF6IpAFoXKtlKp4OzszN0BxvuwaFYiqGIeBEjMH7i4RZ5163Q6LoRcb3un+Yp3dzGcvlAoOKBHoETHZp0f2WwWMzMzWFpawp07dzA9PQ3gnOEulUool8vY399Hq9W6xIroHOY4+eY3+886uWs633N2HikQ4ee2bG2bZaBs2RYQafuUvVMQ75NXBnheR7Djk6DOOTs7w97enqNRaVfe2NjA/fv3MTZ2frvv8vIySqWSl0KmBO3i+tVLJ2A/gBYGFoIYllcxRrpD9AE6u+j2Y3/sTqFYLGJ+ft4tKLSP68sdiURwdHQUGJbeT95EsPO6bkCukyhgAS7mpjqTWiWj890uzKoc7N9AbzSM5unbEdvyLPjRv1XRBClBC/B8Cox9olFU3InTrDU2NoZ6vY7nz59jcnIS8/PzWF5eRjabxd27d53yAuCij+ifo4CHYeI8xJDveSwWQzabRaPRwPj4OLLZrGMRlLHRqCKyJvSTOT09dcwRT30mo9TpnB86S/Aai8VcpBYdoTXknGwS87YKOB6P99Q9l8s5fx4FiwylJ+OTTqeRyWQwNTWF+fl5d2fW/v6+i8ra2Nhwvke69vrCxn36g2OmY6IRgDp3dF5w/lmHa32m32cKgiwzpfPb+ujYd2Hkw2NkUHak2z23i/KYcw7s2toams0mstmsO1H0wYMHbvehYieIzV8XnEEkaPL4/vY92y+vIBrc93fQM4MAuaA6+Xa6+nIlk0l89NFHmJqacmOyu7vrmBx9udU3IKgew/b/dZa3oY2vUhTIWKdeO2910bfh2yo2KktNUWQgLNix4IjPqalK01pFoQwIP1elpewN0Htnl2UAfMpF0+g5NNvb21hbW8Pc3Bzu3LmD5eVlTE1N4d69e07Rl0qlnvNyYrEYJicnHSjRE48nJiaczw8dhAlwCL709ndVqBqNFo/H3TUNvOlcTUrdbte5NvBWdprcGN5OoOcLt1bfIJqoxsbGXNvILEUiEXcAIc8EOj4+didRx2IxpFIpTE5OYmpqyp1SXSqV8PjxY2xubjqfJ58ZVceHvy140fFmX9mzoII2r3YOMC8twwIZnctapjKY/fxyfHotTN4awHOVXXulUkGr1XI+O8A5fbi7u4tcLodoNOruMHn48KGXJgSCfVLsQhk0WMNQ05rmZYjdBQaVMShb00/sjpefMRT93r17bpekiyR3dLyraHd3dyAnNi1nBApG0k8IRtQcZU1bwMWc5TMEJvybSp7PWkdNLYdgQ0GXPZlZn7Xn6/jMDtaBVeupogpL32UFM8p0WeXKqKN6vY7NzU2srq7ixx9/xOTkJIrFIm7cuOEAW7fbxebmJprNpnMcTiaTzkSUTqcBXETMMSLq+PjYBSjw2gmyMRplS/al0+m4Szfpe0UAQ2dhPqNlAHBOyxoCr2CSoe/2ygj6CyUSCcTjcWQyGRfBRkaq1Wrh6OjInVNE05uCncXFRWSzWbTbbWxvb+Phw4fY3NzE+stWGJEAACAASURBVPo6qtVqT118gIbzxzKAPmd237O++abslA/E+PLwfW7rzbws+NE5zc/tfA+StwbwXEXq9ToqlQoKhYJbZI6OjvDs2TMsLy8757NPPvkEm5ubgU6yVwElQQyM/g5iYwZlfQapY9D3/QCaTsBB8veVpfmnUincv38fk5OTzqmNVLku3jyddXt7O/SlszICOyMJkyCmk+yMKg3fu8L1Q3fMVjko4PCZt5TtCdrZ+jZVfMZGeFkn636Kyoam2/oBF/4X2k6aSMrlMp49e+ZYivv372NqagrFYhHZbBb5fB7VahXVahX1er0nYIRsDaN0ADhgUa/XUa/XkUql3P1TvGuLl3uqjxFBGM0wNqSa6dRUQ7BEp2cFsMDFdQn02aE5qtlsuhOmaQ5Lp9NIp9POkbnbPT+/qFarOVM8fY8YDTw7O4t3330Xc3NzSCaTqFarKJVKWF9fR6lUwu7u7iUTvo5Nv/Va2+KzSmjfBG3ULbNjAYsFKQpUguatZS1t3ehnZTcTQfLWAJ6rKN7j42Nsb29jaWnJ2X1PTk7w+PFjfPLJJ5iennbMw29/+1t89tln7gZbO2i+v33161dnHwUYlGfYJO+3uPny8OU3aNlhz/l2oXZ3wiPUuTBHIhHs7e05JicSibhFsVwu4+DgoG+drFIZyUjCxKcYuNMP2nz4Qm+Z3rIDvsPhmMZGgfEZDV1meVqWdRC1+SgLYdOrKKOk37PdfJ6XPOr3XDvJ8tCUc3R0hLt37zqAkslksLCwgGQyiZ2dHefQDFyYuNhWre/h4SGOj48d2BkbG0MqlUIul0M6nXb+fhwH7XOyNWRYfCwW+4uAgm3Wu7PU7Eaz1NHREWq1mjNL8fRogjAtp9FoOGDEPhsfH0cikcDMzAzef/993Lp1yzlo8+6y9fV1rK2tOXYnSOnbcbPmS50fNKf6ntd5p/PHhrfbddXHErJcra/OTZ1bNvTcxyoFzV2VtwbwXEXOzs6wsbGBjz/+2NlvO50OdnZ2nBPe2Nj5Dbkff/wx2u02vvnmG2/UVpDyDwI/vgnie96msUg6SAZlPywY0RckiIUahPkZhn2JxWL44IMPkM1mHb19enqKp0+f4ujoyCkdLqxra2vu3ItByxjJSPqJBRO6ewUuQmcV7AC9QEmZFIIInwIhq0FRJ1xVZkFgxyo+u/7Q9Mv/dZfs28Urk6VAL2g96HYvHJi1rtVqFSsrK84lgO/2hx9+iIWFBTx//hwbGxuu3vTP42aGJqVI5Dw0nd8RcLANPOGY0U88xsKabpj+9PTUhcDzfB7+BuCipmh+o1mMPj38n75AJycnzomZ94rR54j1JiNUq9VQq9XcJalkduLxOIrFIpaWlnoCNY6OjrC6uorHjx/j8ePH2Nvbc8yS9rVlXvi3ZQtptgsCNfZz5k92xbKFWq6dj2oCZbn6Dvl0m75PzEPH3AbKhDkuv5WAJwwwWNnZ2UGlUsHc3JwboGaziW+//RbvvPMOJicnAZyfpfCnP/0J09PT+Pvf/479/f2eQQhiT8Lqxc+GBRWDpg0rI6w+QXn0+z6on33MC4WO4bdv3wZwEXZeqVTw6NGjnhuGaeZ6+vTp0M5uIxnJIGLZHaD3Ek5ldHxmI4plTHxgStkepqFYhkU/V2ClDJBle3y7cWuisCysskSWydF+8Z3nQx+Zvb09/PTTT0in07h58yYikYjzaUmn0z1RVOVyGa1W65IZisCF/jfKWHS7Xcew0ASVTqfd1Q1kTgheqDy5SVKQFImcXxFRLpfd+JHFOjg4QLVaRTKZBACnG9gf9CFKpVKOaWK/dDodx+rw/jCmp89OoVDAjRs3cPv2baRSKQeqNjY28N133+Hp06fY3Nx0Byz61n7fHOFcssyIdYy3Z+DoRakKkqw51K71yl7q3FSAHaQf+Z3PlKqf67wbmbT+LYMofyvVahUbGxuYnZ11ZzGcnJxgbW0NT58+xW9+8xtMTEy43cGHH34IAPjLX/7i7t7yDapvcQsyDWk6/R3GmAwiYeUGpbd1GwRMBT3f7/NkMomPP/4Yf/zjH91x9Fxc1tbWsLW11fMyRiIR7OzsYG9v76XUfSQjsWJPWfaZmVR85iVlGcJ2t9axVJkcii1fTVYKmOzun3kyjdYjiBnSd0a/VwVnzUAqBEitVgubm5vuVGXeRD49PY2pqSm8++67zt8lEomg0Wg4UEDTlZbJSC7ef9XpdBzDQvDDPKLRqHMcPjs7c1FeZGbIFCtb1Gw2cXR05KKokslkj+mKkWUEYgQ5bB99PQmUGPbOMgG4NIwAy+fzmJmZcdFsXPe2trbwxRdf4NGjR1hZWXFgR8Gsj923oFbHJ0g32TN07DjTz0iBfZDTtJog2cc+RkmBDQGWzZ8MmW+e2UgwK28V4AGCUW8QcDg5OcHDhw/x/vvvI5PJuJDBarWKL774ArOzs1hYWEAikXBmrtu3b2N7exsPHjxwlGwY2rbiQ8jDPNMPZOhk9JmrVIIA26B1DzJ99ROaCf/4xz8iHo/j4ODAhaM3m03Xt3x5eAjh6uqqO8+jXz1HMpJhRMGBLsCc29bh2D7L98B3CSKfDzKbAX4WSHe4vrS2DN1hWwZJlZOvDb410ipKPucDhWx7NBpFvV7HyspKz6Wg9+/fR7FYxNzcnLtDjL4/lUrF+cTQFAScK8V8Po9ardbj5ExgwTrxuVar5W5Ep18QgZQCMoKSVCrlTnOuVqs4PT114KNQKDifobOzM8dOxeNxV386RfNQQ14oShPU2dkZUqlUDxDjLej8YXmHh4f44Ycf8OOPP+Lx48c4ODjoMRv6WDt16vU5lFPo40SAwTx8fmVhQCbo3bBzWU281n9M66PnO9ljBti/GjFpwZyVtw7wAP2jdaxy3t7exsbGBt5//32H0tvtNtbW1vD111+jWCy6l7ZSqWBhYQF3797F9vY2VldXe+ypQLjfjo9O7pc2SF41ixFEQw7ymX1e6zo2Nobbt2/j97//PSYmJlAqlZzDHwBsbGzg2bNn7qXholKpVLC2tualNIN2MSPg0ytXYQrfFtGdqW+O+ZgRy5743l0fa8LyFET4DnYLAjuaj/7t88sIyk/fEVUs+hlFFZ7Njzt0PeOm2+26u7a4prZaLXzyyScoFAooFApYXl5GNBrFzs6Oi0yiDwtDxelLwpOZWQf6XLI9vM6iWq2i2z0PX08kEq7u4+PjjkXmhaT0F+JdWPV6Hel0GrOzs4jH4+4WdfYDDyoE4J7Ts4FoZmPIeSwWQyaTcQApnU4jkUg40MfDBbvdLvb39/HTTz/h22+/xaNHj7C+vn7JlGXHVIFJ0N9qGrJmSHX0Jvi0c82ac61ZTH+0Xvb9YLmc4wRpKupgbhlGBfZha/pbBXh08IIYHZ80Gg18//33WFhYcCi+3W6j2Wzixx9/xLvvvov3338fS0tL2N3dRbvdxvT0NBYXF7G1tdVzk7dOtKCJatPp72Hba9vu+3vQPMJ2rr769wOWmlafSSQS+NWvfoWJiQkHYHgMQKVSweeff45KpeLQPB0Lt7e3US6X+5Y3kmAZ9VOwWOVizQT2cD/LdPI7ewGnhk0zjY9FCQI7AHrOpeH/uvMF/BeXapSZD+j42u7rF6a3DIBVoPr/yckJ9vf38fDhw57LLn/9619jamrKXag5OTmJ58+fu/um1tfXEY/HnWNytVpFKpXC8fGxu7YhmUz2hKSn02l0u13HvPCGdrItvHerWq06p2PgXMkeHBw4pj6dTmNmZgZTU1OYmppy+TKCt9vt4vj42PkdMaSdJjWazchs8U6tWCyGYrGIyclJzM3NYW5uzgEo+jyR3VlZWXERXTpOvrVaI8lsFJPVScq0EAT5GETfEQY+wO2rk4IiO8/sXWaso/qL2c+1HJ/J18pbBXgoQYt62K5nbW0NpVIJ7733nvPl4dkS33zzDWZnZ935EgxDpN+P7/TLINGJ5UPsth1hgK0fqNLybPogOtv+fxWwo2l89SKVy/th3n//fUctc4fDl50RDUdHR3j8+LFzGgyre9BnIxlJmNgFm5/ZhZifA4P5sNkygt5/TQNcZo+0DkEbK5/5Q//37ZhtORR1OtWyFMCRvdE+UIV5enrqrvCJRCLuQMBf/epXyOfzDhDQX6RarToGZn9/3zkWHx8fo1qtYnx83N22Tidl+tR0uxc3mRMgsV30t2FbCKbq9brzD8pmsy5aqlgsIp/PY2JiwkVn8XoKntdGPx8ejNhoNBCJRJBKpZwpjOfy8KoiXrI6Njbm7m7c3NzE8+fP3Q9Na3Y8fHPPZ2pS4OLz/fGZZpWh63Q6PSawIIBr56uvbP72zXkLoDRIgGl9vmlh8tYAnkEYjTDWp9Fo4JtvvsHc3Bzy+by7O6XVauHJkydYWlrC7373O0eTAufOdNlsFrVarS94Capvv7r2+0y/8+VpacAwRmcQIBNWrq8OdmcZi8Vw9+5dRKNRlMtlzM7OYmZmBpFIBGtra/jss89cfyq7s7e3h83Nzb7mLB3jEegZyTBCdoYLPXDhAMpFW2+A5jOqcBgZpN/5jv73gStffeyu1vecAhFVUqrYglhvH5DTZ9Uk4Xu3Kewj3cWz3e12G+Vy2Zl8ut0ums0m3n//fczOzrpLM2nGWlxcdD47rVYLyWTSRXM1Gg23GSK44dk1NH1FIhF3Hxb9fHgyMnAOdg4ODtwF0tFoFJlMBrdv38by8rIzjxEMke1n4Ar1AgEW/+bJ0QyRZ+g5QV0kEnHWAAK6tbU17O7uolQq4aeffsLBwUHPfPGxGjoeQUDCN68saFHmhfOG423NTUGg2Lf2+1hGBdf6rIIjO0d9JrZ+evOtADyDgB0Vn2LudDrY2NjAysoK7t+/7y6NOzs7Q6VSwVdffYWFhQUsLS0hFovh5OQExWIRH374IcrlMprN5tD1CGqDncz6vbYhqG1h7byKBCFzH2MUtuOMRCK4efMm3nvvPbdbu3HjBuLxOOr1Or744gvs7Oz03LfDHdazZ88CT7oeMTwjeRliFQLnrIbc6m/7jvqofrvhoCnKt/ADfsdmCz6s6cKWGcRGabogZanPBvkmqjJk5BQVlO0j1ptOwysrK87/ZXd3F3fu3MHt27eRyWScg+/8/Ly7PmZnZweHh4fuss/x8XFnTtIrGtrttjvhOBqNOqfhRqOBSqWCaPT8Pi4+x+tqaHp67733cOvWLRQKBcfa691XNFuR0dHxo3M0zWx0TuZVE4xG4uGBPHV5d3cXu7u72N/fx9bWFnZ3dx274zNv+v5Wts4nQSyfb7OrP77oQJZnxeoBskQ+0KVOzJwbllHl5742BN3xRnkrAI/dgVilDwzuy/PgwQPMz887apMv1Pb2Nr755hsUi0Wk02lHwb7zzjt48uQJnj9/HsqwqNgFwdY16Lkw6Uc1+mQYUBDGIIWVqQvozMwM/vM//xOpVApra2uYnp5GPp/H2dmZO2SLuzaCHeD8rKSnT59eOh10JCN5maKsBBdu+oRwnvsukbQg35oM7Pvu2zyQIdC6+FgVfUbLAC5H5zByx7dxUgCm+fDHhrb7FC7bqme2KCizrGun00GtVnMXNJfLZXcL+M2bN9HpdFAsFlEsFtHpdNx5NZubmwDO2RpeqsnjQ8gWMfKq1Wo5gEFzGg/8o1O0nvcTiURQLBYxNTWFaDTqAA5/82+atRghqj46NLvz4EFGcvFcHpqnGKI/NjaGarWKw8ND1welUskBKh3nIMUftum0TAq/CwLng0gYOA6a22pS63e8g43msnn3Y0MpbwXg8S0svp3JIPlsbW3hxx9/dEifZza0Wi08fPgQy8vLuH//vnupisUifvvb3+Lo6Aj7+/uhzn9BdQaCgUNQO4Io6iAEbvvFN1ntM75JfBWJRCKYnp7G//7v/+LmzZvY29tDMpnEzZs3MTY2hlKphC+++MLtgDTMs16v4/Hjx9jf3x+onJGM5EWFi681SdkNCRdgVaI2XJziY0fUb4KLuu9dtoyOb63wrQVad1sPm5/d1WuZQXeI9esfyzQB54CxXq+j2WyiUqmgVCqhXq9ja2sLhUIB3W7XhYNPTk46x+ZIJOJMXtyE1ut1F5ZNHxqazQh46DNEvyOCQPr/RCIRFyxBYKLOvIwuo8LVy0EJcGKxWA/IoZ8RDyTMZrOIxWLodruoVCrY2dnB5uamsyhsbW053yXbz771WfvTgm8f+2fZQ8v8+fx8dCx9zKUFNmFzwEdGKFgOY0b170jkwlwbJG8F4LELwCCsTlCadruNH3/8EcvLy7hz546bqDx585///CdmZ2cdAwQA7777LrrdLr788kt3yZuChUEUsQ8AKQWpn9ln9O9BqU3f375+HAQMhfV3JBLB1NQU/ud//ge3bt3C4eEhms0mbt26hUwmg0ajga+++gpra2s9jsq8XmJzcxPPnj1zZi5f/kEyaN//nPI61mkkF2J9Y3xnjQS9M8pqECgEvbOqhK2fjE/haL5Bc8jn76EKx7dLtyHuyvxY1kbrb/P3bTQ1DcvqdrsuHJx3ZDUaDUxPT2NhYcEdQLi0tITp6WkkEglks1ncvHkT8XgcJycnqFQqqNVq2NnZ6TlYkM/yBGaayCxzoMwXz/ZhFBkAd4v5+Pi4u1qIZisyOzxbh39zc5xOp1EoFJDJZHr8edrtNjY3N7GysoKVlRVsbGxgbW0Nh4eHjtkJu9/KzjffHPSFc2taH4OiZfGZoHmkY2xBFp/jO2OBl30HOA4+XcQ71Xihq+YxMTERqAuAtwTw9GNDhpXDw0M8ePAA09PTyOVyzu56enqKtbU1fPPNN8jn887rP5VK4YMPPkChUMB3332HJ0+eoFar9QyobzGwIMdKEFuj7fMh5xdVqGGLVhA1GfRyFotF/OlPf8KdO3dQq9VQLpexuLiIQqGAs7MzPHnyBA8ePHBUsV4QuLOzgwcPHgzE7lwXGYGd11/UQXmQd9juYG20iw1LVwVkNwz83/eMD7BY0Xrb3XOYWYHAxrI5/JzKzD7H+vhC78M2aHTcJQCieadSqaBSqaBcLmNpaQn5fN75+vFOq2aziVKp1KOAedqymrbop0OGhmPLtpBRYSAKFayerUPQQ0CTTCaRzWaRzWadAs7lcg7cEOhwDNrtNjY2NrCxsYHV1VWsrKxgdXUVu7u7ODg4cCZ8dRjWvrP9aT+niVXHzAIX6zSvINY3n9lHds6RldHxViGQ1DBzjrUCIM1HmRvrv2YZJwVVQfJWAJ6gDui3OASlOTs7c5fcZbNZF6ZOh7dvv/0WN2/exIcffuhMW9FoFAsLC8jn81hcXMTDhw9RKpXcIVpBOzO7Q7pq+4NYm7D0QWX6AKR+FwTE9Lnx8XFMTU3hd7/7He7evetC/HkWRTQaxebmJj7//POeE0XJ7jQaDTx+/Birq6uhTmphdQvbdY5kJD7RhTkI7FiAYg/sC3JIts/q/1YUONn0Nj81idlTj30gRfPXNlMJBZ3NYpWRDWW2Ctq3GbNsA9dGdQyu1WqoVqvY3d3FjRs3UCwWnZKlA3kqlcLdu3ddG1utlltr9aqIk5MTF0VF1oBmsHa77Q4FPDo6Qr1ed6YqAA7k0PkYOD+nJ5fLoVAoOGfsbDaLXC6HeDyObvc8IqzZbLoDbUulkvu9trbmblhnoIsdW3tism99t2Ol46pRV0Fn6uhxAnTb0HnrYx2ZliBNwTnnG8X67+iVJJaFsldcqJ+cnav9dNtbAXh8MgyA8KU9OjrCgwcPcOPGDUxOTrpooZOTE5TLZXz++ecoFotYWFhwNFur1UI8Hse9e/dw8+ZN7O7uYnV1Faurqzg8PESr1fKebaH18IlPaVtl3o8pClp4+6W14Chsp8nPeWngr3/9a3ea6uHhIQqFAubn5zExMYFKpYIvv/wSq6ur7kVhGCcj5r799lvvrej9+mYkI7mqULHqybL6DvgO96NYAMHF3Dc/rf+CZXp8IJ/vm91da/6+6B5fFIxNwzx8IcVW+XAdUGVrz1qx76Xd9et3fP+pNBnGPjc3h729PeRyOTx9+hQLCwuOVU8kElheXka323WuBcyfh/bVajUHgggiaOpS89bh4aELquApy7yAlIxzNpt1/cCLUJvNJmq1GtrtNg4PDwEAtVoNBwcHqNfrWF1ddUBna2vLmdvI6Nh+8M0vy8LpZwQbBByca9bBV0GpPhfkb2pZGN/ar/XQuWpZSx4rYucC8yT41DmmAImEAtmjfs7Lby3g8ckwIKjT6WBzc9NdIMowdXrtr66u4quvvnL0ZjKZdHdwAefK+/bt21haWsKvf/1rlEolPHnyBKVSyYVV6nke/eo9yOc6GX1ghKKTWNP72KcgRsonY2NjmJycxHvvvYd79+5hbm4O3e75PTfxeBxTU1OIx+NoNpv47rvv8N1337lDG7mTikbPj5r/17/+hYODg9A+6bd4+/poJCMJExuKTQkC+MDFnNOQ2bA8FFzo+TUKfqzfjK2jlhu2PqgSscyTBTc+sGM/pwIjs+JTghbwKCtk+0LbQXaEN4yXy2U8f/4c+XweuVwON2/edH8XCgUcHx8jlUphamrKndJ8cnLi/GhyuRwqlYrzrWH+PA2ZEWMzMzOIxWKYmppyJzTH43EkEgmnlCcmJtxhgWdnZ6jVajg9PUWtVsP6+jqq1apzPObJzb7oKwWK7B+fecg3X3RMFZSo+NZnZY18Y+87V4rjzvLUJEhgpnNKGSEFVPodP7PfEfRQ1K+NZRH02LZYeaMBj2+3oC8Pv+sHKoK+52GECwsLjskhgmUIe7FYxMcff4xkMuleuP39ffdSZTIZ5PN53Lt3D8vLy9je3sb29jZ2dnaws7ODZrPpdfKi+OhMbbNtp0XfvsVG8/ZJP/bI9xImEgnMz8/j17/+NRYXF5FOpx29PDExgUKhgEQigXa7jUePHuGzzz5zh2yRYp2YmECj0cB3330XasryLQT92jSSkQwiVhlY4BEUBaPAwn7Pz4OYIS7g9owSzV9/65koWo6P3aH4mCZls7SOYZsarZOyXiyfn1mlzv+Z1jI+zJNAiufdHB0doVwuI5VKYX19HdPT05ifn0cul8Pz58/d6cXJZNKxM1xPCoWCCxun8/LExAQymQyi0SgKhQLK5TLu3r2LQqEA4HzNz2Qy7sJiAhxuzAhwaCarVCrY2trC0dERtre30W63sbe35y4xpVXA6iUdH9+VJbavNJ0+7/MNs9+TAdI5qH2v80aZHwUvmqc9k8eOod5Hx7wJlLWu+p2yVLYNVt7Kc3gG3d0HvbgWFPny7Xa72N3dxaNHjzA5OYlEIoGzszPnUX94eIh//OMfiMfj+OijjxCLxZDP591kOTg4wOHhIXZ2dpDP5zE5OYnl5WUXjVAul7G1tYXt7W3s7e2hXq97J+8wrIWicdtO/vZRgmEMkI9KZT4TExPI5/O4e/euWzi4EHQ650e8M7T09PQUq6ur+PTTTy8dMEjP/NXVVXz//fd9b0QPAzu+cR3JSIYRy95Y5U3Rd4k+E0HAxb6H9l2176UqHyoM3elaoGGf0/rbeujOXb+3/9vveNCgtqPTOT+viFc5WFMI09rLSLXd2mf2hvB2u+38J+v1OnZ3d110VCaTcSw7Dx5k6PjNmzeRSCRwenqKbDbrfEMIjOhwvLOzg9PTU9cGtrPb7aJcLqNarbpTnumbw/D3arWKvb09B854dg/HSfuRZ/LY8H9lbCxojUR6fVws+6HjELS+K5Cw88H+r6yjrvfKwvBzn4lS3xFlsLQd6tujh3r6AJSeWh5ECqi8sYDHJ8OAnX5pKO12Gz/88AOWlpZw584dTExMoNPpOJPU7u4u/vrXv2JsbAx3795FLBZDoVBwSvzg4ACNRgNbW1s4ODhALpdDLpdzLyfv53r27BlWV1fdDbnA4A7NdrLxWfu/b/EOYkp8/ckQTUYhpNNp3L59G4uLi5iamkIkcn4cO4+Pz+fzyOfzPX45f/vb37C6utoDdhiVtb29jX/+85/eE5V9FLgV++KMZCRXkaB1RBWT/q+0uz7n8+nR9xDoNUFYRWZ37+oczLyoMPqtdVqWfUcYgm5PSgZwSUlbUwPT2F0+P9c+CVrP9LJVgg4bLcarIehSAMD52oyNjSGTybizu7gGr6+vu6smkskkIpGI25RmMhkAcABnfX3d1YGmK4bM12o1dw0FfXTI3JCJIsBRfyQ7f+xve4I30ytDpmIdlZVp8c0tlmWvaND+tuPFOebzLwuavzoPdC749JJvA61XofB7jeLSv21+Vt5YwBOk3IOUYRCLE5RO0xwcHOCrr75yB2Gx8zm5S6US/t//+384PT3FvXv3kEqlkMvlLk3Ier2OVqvlbv+lPXpxcRGRSMTRpDw4y9bX10a7QOniq5PE9lGQ+PqPQCefz+PGjRtYWFhwkQmZTAadTsftgBqNhmN9pqamXChpqVTCZ599hp9++sktELxcT01Z6+vrgdS/HaORjORli2VfdGfLm7F9oNoyI6oErO+MprGbG32Wn3N3HLTO2TWA39tduk/Z2TrZttk81PwGXJz9Ynfoqpj5nO7wuUaxn22YsgUMemge8+FFwpFIxAU3UGnSpMXrI2jK0hOSmT6dTqPZbKJer7uzwI6Pj1Gr1dwJy9zk6tUS/FH2RAGw9qldz5Wx6AcS+L81E2q6ILbPAq7x8fFLfapjbR2cOcYEMyp2nipbpZ9bJkiZSwu6+HeQXvP1jcobC3iAcLOPT6n3Y3OC5Ozs/A6Yhw8fOn8dO9lLpRL+8pe/4PT0FPfv33fnNZC2Gx8fRzQaxdHRkfup1+s4Pj5GsVjE3Nyco1V3dnZQrVYdrepjZlTsgqRh8Pq99oOdTL48eVx6NpvF7Ows5ubmMDU15UxUnU4H9XrdLQwERpOTkz3MzubmJv7xj3/g+++/d2CO5jCmWVlZwffff+8WHF/7tP5Bk973XVj6kYzEigUJVAI0Vp4aBAAAIABJREFUtagC1/eMx1dQ6apCV0Vo16EgdoTfWWVh7yKyz5OlsHlrvfg/1zFtj7YZQI9PBhkfBSkWIGl5PkdoG3GjDALXBjsedrcPXDAD4+Pj7rBXbTuZZrYhFou5M3V4XgzHjVdJKNum4dcKcNTkFhYxZNvt0z8cr6DNqP3fB7ZZX3UkVqDJzTnBhwUl2r+an5anfqbMk+1SB+QgQKZtUR8hX/uY1gLfsMgyyhsNeII652WCHUqj0cC//vUvFAoFvPvuu+4EZg1zLJVK+Otf/4pOp4OPPvrIhS9Go1F35LjSpQQ87XYbMzMzWFhYcOGQGxsbODg46Dm1WUGPDwRxQVOErP3Ur290Mc9kMpifn8fCwgKmpqaQz+eRTCYxPj7uQvPJWHW7XXfcOm+Q5+K/ubmJ//u//8MPP/zgzHUEU3QwXF9fx6effupCO1WuClRsm0agZySDiC7Kdk1R+l7BjzK+qoQBXNrZW6ZD81Wl6PPlCFIk9v2mMo9EIj2n0lIp+tpMNkv/t+uqKlNlJyyb4ftt2QzLgvgYaKa1Pi86PqyfMmW2z+l3SfaZrJ2CAQvUuKbradmWrdD62P70MWlBGzHbH76DAhWE+tJpH+hnzMMHTn1p7W8Lfn1jYcGLAtgghlPPGvIxXb75oGUFyRsNeChhTMVVgY6vsw8ODvD5558jlUphcXHRHTRFp7pOp4Pt7W387W9/Q7vdxv3793siBWKxmDuenA5wjUYDe3t7iMVimJycxOzsrFuwut0u9vb2vOHrdsdgHcCUIrYLF9tn/49Go0gmkygWi7hz5w4WFhZQKBTczojRCjRd0bE4mUw6Viebzbod19OnT/H5559jZWUFjUbDLZbsg7GxMZTLZXz66acolUp9x2pQwDICNyN5EdFF9ezs7NJZIsp2BG0mLPvD560DKt87/vZFLlkGxb676vuggMA6xNo2WhORFa2T75JR/UwdqcnS2HyZXtdrn7+Ibxz0OZ/zrKax4FT7utvtOn8guiTQEVsjhZin78A8BbODMDC2PtrOsE16UH4+3xpfv1iwyjRBwEqfURbHMjfax6pvfNFmPuCu9bHskbbLlkUJY9XeGMAThPhUwpRc0LN28QgTmme++OILTExMYH5+3oEevijtdhs7Ozv4+9//jnq9jo8//rjnMCuCHrI90Wi05+CqXC6Hubk5d+gVv7N0M19itsE6SPqoTbXN2oWLEQuzs7NYXFzE7OysY6d4KR+d8vjcxMSEc7ymCYvpGXq+sbHhruWIRCKu/RMTE2g2m/jqq6/w7NmzwBdjUAlitK6a30jeXrGKJGzuqC+KVeiWZVTRiCWfCUef13pZUTODBQBWGeqa4cvLmpMsYFAGOYjlCIpOs+m1j21/q6hpj//7+kX7zAc41Nyj9dXNpYJAa+LT/H0h/vq/rr1ad62P7RcdG60bcPkOrLB1ToGV1QkK4n311jQ+/7IgdiWIQSJwUtbT5mnNcDzEV/ud7xZJhbD38Y0BPGFgpx8Qovi+H4RV0DQnJyd4+vQpJiYm8Ic//AGzs7NIJpMA4EBBu93G/v4+vvzySxweHuKTTz7B7du3kUwmkclkMDExgWQyiWq16k4DPTk5wcHBASKRCObn510UAaO8aDrS9lq0bOlTjeDQF0En7vj4ODKZDHK5HKampjA7O4vJyUnEYjG0Wi1XP7Xzx2KxHqdrvQ24XC7j0aNH+PLLL7Gzs+PYL56BQXbn7OwMjx8/xjfffHPpMjj70gwCVnws1nWRESP1eoqCGAp9WICLiB7dTPhYVMuGaN7WH0fL8fkr6FoXtvGza4I1jaiC17Bh9aux9aGwXPVl0Tr52GPWxa5h/N9etKogkiDDirZR20wFyzz4HduqINX2v2XtfH1tQYfWUzecWr6yGBYcWRZD22L7XJ+3TIt+xjIt+6P5WcDpA7HK2OnGXhkg9rnmHYvFXDQd+16ZIPYHD/RVUEOfKjU96riErfFvDOChBO3krwJ2riqtVgs//PADOp0O/vjHPzpGJhKJOJ8enrr8/fffY29vD//xH/+BDz74wPnCkB3J5/M4OjrqCX8E4CKY8vk8ZmdnUS6XnROeTh51vvOxJDZs1S7CyWQShUIBMzMzmJqaQjabRTweR7VaRblcdmdO0DcnmUwil8u5/xOJhJuoW1tb+Prrr/Hw4UMcHBw4ZofonmCn0+ng6dOn+Nvf/oZarXapzmH/h4nunIJ2P68jsNAxGcnrIap0rB9Mv+d8rIBVJvxOFbpP8SiIYIQNP9foII2ksU6kg8wtBUBaD2WUbTuBy+a0oE0H72vSZ31OrgqK7B1NljFRR13Lhmh+uj4SWFk9onmqCZP9onW3YEH7X8tUP54gPyf2n7ot6ObUZ+K046A+RwrwgkCiD5gGpbfskI+J4/rOOWAZP9bLns6t/ajO1Hb+8moQMkZh8sYBHkqYYrSDOSgD5JOgZ9rtNn788UccHx/jT3/6ExYWFhCPx913p6en7rbe9fV11Ot17Ozs4JNPPsGNGzecWYsAgpfJMVLg5OQEiUQC9+7dw40bN1AqlbC9ve1CMePxOCYnJ5HJZHB0dOQOLiQdCFz49ZAuJRBTZ0BGVk1NTaFQKCCVSjlzUywWQyaTQaPRQDwedyyQpgPOw0NXVlbw5Zdf4vnz52g0GpccOOPxuDtc8NmzZ/jzn/881C3oOp5BC7gPOFwXIHEd6vi2iCocoNdx07dLt8yFKl/OP+v0yUXctzYFzQXrJ2MBlSonNT1r/VlffZbKVtkKprOARt8naz63f/s2pkHvsTV1UEHqcwpwlDFRwMi0bLO9NsH6I1lwSt8esnaWTeHnynrY8dOx0jImJia8Zdo1ioBLgbamt6wXy+IZcQo+faKbZaZnXkGHQ6pOUXCkjBzZTrppKPuk42eZIQJRC4wUKHIucHMdJJEwJT82NnYt+H+dED6mwpd2UBYoiNILy1NlfHwcS0tL+O///m8sLi5ibGzMHY7Fl42TK5lMYnFxEb/97W9x584dd2s4z3bgRDw6OnL1bjabbhLq4WDJZNI5/vL+mb29PZRKJdRqNXS759dazMzMOP+hRqPhIr+azaa7rTeVSmFpaQmLi4vI5XKIxWLuzhmeT0HTVS6XQyKRcAsbTVj/+te/HBukqF6ZnXa7jZWVFfz5z3/G9vb2pf58mUr/VQCI6wKe+snZ2dn1b8S/JRKJvPQ1THfn/y7D/W2Bi5q47O7XrkHWWVTBi1WCTK8gw5q5fHcwaZk+IKJATh2rdR2kKSFo82AZBa1v0Fqt/9s0BFn2rCFVkFS0Fqgxf+0LVcg+tsXXZubJZ+lLwnqpYzmfs/VVsxyZIvqdECzpmFgzpzpFE1Sp2dOybVbx86JNn57yAWoLNn3gmPOEUbdMo2DTjhFwAdZ4HVMQ0LXvlgXMBFHtdrunbicnJ9417NoDnmF27D5gMgjg8eUdBnLsZ2NjY1hcXMR//dd/YXl52b0s7Xa7h3GJRC5O+rx16xY++OADzM3NOZBBpKtOyqurq+h2u+7wLJ7pw90KX8ZkMolEIuFO/+Rn9C8Czieu7hqYlnZT3gfGS/FisRiy2Sw6nY4DTZzQzWYT6+vr+Prrr/HTTz+hUqm46Af2Ce/Hoj/QkydP8Je//AX7+/t9x6KfDAo+goDx2ywjwBMu0WjUUfQqqpStM60qI3tOSxAz4gMGOl+tiYTf+cwr1qTDutpnfcDJKn+uLUwbtJ5aHx6f46r1wbBsEvPWW7GtCU0VrjU3sb0TExPuDK9YLIZ2u+3Ai3UQ142otp/9yKgt1oVtIFDi+st89I5F1k/HVdkQn9O1zh/LqoTpJ/3Mgi3+1jGzTJsFwPqM9jHHj/2i5eg85W/2DSMclRnztVHrpnNR87dgu91uv5mARyVIcVnWZ1gJytOnLDV//TsajWJ+fh5/+MMfcOfOHXcC8cnJifNl4QtE/5xMJoNisYiPPvoIS0tLSKfTzkRFc9H6+jr29/ed4zBfvtPTU3cwVjQaRSqVwvT0NPL5vAMm3CWcnJyg2Ww6YFMoFJBMJnsmH01O7XYbtVrN5VkoFBxy73bPTW27u7t4+PAhHjx4gJ2dHee3xL6iuY63nx8dHeH7778PPGvHNxb9xtLH4AUxe75xvS7yKuo7Ajzhwtux7WaFO29rElIlZ81bFlxQ0fgYHU/bAFxmZ5SlUEWgysuCLFU6FsDYNY2fWWUYprB1o6N1ZbmshwIQZZiU/fKZVegEq2wNwQudX3n4KcFPLBbrOYTVKtVOp+PMQMAFG8F6+KLWFAiyfuoXo35WlgHy6Q4FfjR52Tpz/K0esu3Sumrf6fd2bmo6nRs6fjqHbRlBefFvlk3go2CG+as1wOdoze9Y/3+feP3mA55BxDIzPrASBnD6fR4EeJhvoVDARx99hPv372N6etrttMj28CUgaqYfT6FQQKFQwNLSEnK5HN555x3kcjmcnJygVquhWq06MxQBRq1Wc7eydzqdHoBCoEO/HZqvJicnUSwW3RHr/J6XozabTXcxX6PRQC6XcwDr8PAQz58/x3fffYe1tTXUarWeUMFoNNoTdt/tdt21HF9//TWOjo4Cx21Ypd4P2NjFLWg8r4O87DqPAE+48L1UJ1xVtGpqoJLTnbXUzf1tN2VW0TONmgy4c1dWwkZUsb5ad9ZRd8RWfJtEC3Ss6UoBj7ZN/Sosq6ImIV94shWyOOozpYCP/WxBEQ9EVabGKl8VNdH4WDLdXLK/LQjw9aMqf9uf1kzlA2Ece2tmomh6C5p8omlsVKBGFyrw8jFwvs8s0LLh+kxnfdV0buq4WGCvpjzri/pWMDwq/ZSAjyqj9HsuSFnafHz/A+e7kZs3b+J3v/sdFhcXkU6nHc1H4GPtuESxiUQCmUwGH330EX7zm99genq6B/m32220Wi33mwCIYetjY2PukD9enAdcLCQ0c9EExgmut7zzctDDw0N3KvT6+jqePn2K7e1tB3QUndN8xfOFTk5OsLm5ic8//xw//fST98qIQcYjTF4ECFw30PMyZQR4+ubpduoKKnQhJjNA2p4K0ReqHVSGprPARDcRdlcdxCAwH9bLrn0+Jc3/VWHzbxtur+yr3YUzf1XErLvWheuQ9a2x/kQEGVpvZcdsW+gvw3KoINWEr3nb/DWKjGktWFE/oCC9oH1EM5iyGhYUWSdj7UPfGqUsne3nIBCpwMPnA6Yb8E6n0wNegwCQtlX7i5/7wJOCXo4Z9SKfCwLiljV86wBPmASxO8MwO2F524H39XEkEnFMza9+9SvMz88jkUg45kXZHn25+KIkEgncuHEDH330Ee7cuYOZmRnnLMwXhAvb2dmZ88UhY6O7EwoXGP6emJjoWXTIIEUi55fxPXnyBM+ePcPh4SGq1WqP6YrPsb5kdTqdDhqNBlZWVvDZZ59ha2vLu8O04zOMhI1ZELvnG6cXAT2DzpvXkVEaAZ6+ebprT/h++cJh7U6UTI8qDB9YUCVA0V2/CtMybx9zo8rFmlosS2PZAs3HKkQFcgqulOlRnxsFUOr3om3UEHOa7ZmnXSd8wEl9khT8+Fg2sj5aXy2Pf7Nu2m9cX2muVDZI28R10PZxv/femvmsw7KP4VH/Gfuc+j2F6XzbtwpGfMCM/1vWyoodF9bJgistn+Uycpj52HKsGbXb7b65Tss+CZtM/ZSdTsagz8LyDppUQf08NjaG6elp3L9/H/fu3UM+n3e2YgIUAhdLiZORmZmZwTvvvINbt25henraOTlzIdDdVhD40noq8u50zi/J29vbw/b2Nvb391Gr1bC1tYXd3V20Wq2eF4uTlH4OpJ8jkYg7cPGHH37Ad999h0ql0hdk+BafQV5YbU/YwtIvz9cNjPwcMgI8/UXfL71rSa8V0F2xAhGymcreKiCxu3OfHwjQ64fjU6r2b5blU5AEGhqBxfRqPmM7VDnZe8HsOqh5KmOj77Y1zSk4Yz6sj2U/9HvWh8wA8/H5o9i1Rf/3MQ/abwp4lIXwjac9S4lpfOJb75Sd0XZYdtECEs1T+1H1Qb+1UUG5zYtlqqO5AhftYzsnCNItKPeBK/Y9zYxWLyuDxXflrfDh6afcghD8MDt7H/DxlRuUf1B/JxIJLCws4JNPPsHNmzeRTqd7LutT8MO/mT93nLycc3p6GjMzM8hms8hkMu5AQIIPtcEzf+Z7fHzc40hdrVaxs7OD9fV17O3todVqodVqOQZKXxqGCI6Pj7sf4PzcoWq1irW1NXz77bcolUqXTFhhC0DYWNg0w4AhW0Y/MPhLy8/FBo0AT39Rc7AyCXYu6ZERwIVpispfgYQ+Z9cYC1hUETEfe8mlOu+yDqqU7BpmlbyaRvic1k3bxDwIhqwZxc5d/d/6X/AzyxoxvdbPZ6YhM2RNUAoWgi5v1f5Q5sgHhFhPNetZlsXW246xT3z6yIIG/Y7iA4K+Prfn9Ph0l0Z1aT8pIOEPdYG20wJuu5HWeaYMjgW2aoa0DKnOCwVI/67Tmw14BmF1fGIBSdBL2a8M+73vWZvON7GTySTm5+dx9+5dzM/Pu5OX9UwGy/7oDkxfRN5JlUqlkMlkkEqlesLHNbSWpjTezs6zgnjKMz+zu0+Wq2YwvlDNZhP7+/tYXV3Fs2fPsLOz45yofeMQND5h/a3phgU7diHVfMPmUhi4Davr6wSewmQEePoLlSrFKma7qfKZM+yu3ZqhNG+7k+XnwAVgUNBkAQWAS7tp/m1NUmq+0XL0b18bbV9oejI9rIdlXvTzIIVJUaWrzDdZA/U1sQqXokd3aJ19pkNfe8L6wAIPZT20HnY+2LG1rImvHr6zlqzZ0ic+tknz1nzV9Gjnp4JpLd+CG90Y++a/5md91bQN9twhmkw1zzce8AwKRMIUbdDOSvPQ9P3KDXpJfHn6hJd1zszMYHFxEXNzcygWiz3Mj/XJ4SSzu0FOYAIcuyj7Jrzm5XOCY34ETmqfbbVa2N3dxcrKCp48eYJyuYzj4+PA9vp2LYOCCJvHMKBnGFDzusggdbtK/fWZEeDpL2R4dMG3FL2aQlTxS93c33bMrFJnGssw2HXL95mmDyovTMH6NmZUgvZwP60vgB7QYn2afHNU2QOua9akw7L5HR3Dte0+lkOBo89nifnb9U7bbcETla2yX0xDZaz+TGFroLZL62oBqwUFFiwFtUHzstdxhAnrr/ObfRwEqJi3PZuKrA2/t8CJF2LzewVfsVjM6RiyQmo24xwYGxtDvV5/NYDndVMOvhc56KUNei4MrPgWGl8d+J3vpQtK75NI5Nx2mc1mMTc3h3feeccxP7yfixNAHZU1b0Xq1t9GX1wLfGybOWEV8ABwfj5HR0col8t49uwZnj9/7u7LCnvJg+ZP0PgMMzaDyHUBPUH1CVKgLyIjwNNfaL61Cs0qeMsg+Hxp7I5fRZUX8/YpGd3lB5kHbHqrSK30e9csM8F1QX0OAbgoUqsgLSix4FHbZf1VWG8qUtZRgY8vf3We/TcT4G2jggVlvOw6ZM15ClToFM15wrZZ4MdyrJnNPmd9shTMhuk8BRuWDdL5aOviY7/suFlAFbQJ1foxSleZIPqtqlO2NVnq+Vc0S1K/2INA3/oorTDF4OsD30swDLvD9D4AFla3MIlGzw/7KxaLWFxcdNFZqVSq58XT6C7r8Bw0CYP+tiBHdzDNZhOHh4c4PDzE1tYWSqUSDg8PXVi6lTCFPAijZus9DLCxZYWNkS3ndZJB6zXIwhMkI8DTX6g0VYHbeWUdPpVFsWYPVVw+EGDzYVoFLT5ThvrTcG2g+HxnbL2DzvVR0wLLsuyGzySl71vYZ76zaLSfdRy0D7UuyiSoP44qbmtq0ROdybioU7CGsbMc1lX9eVRx6+nPNLNpXcKiVBXwWEDG73XTynb5DsFUsMf0PvOd3rnlqwv7x859jh/L0cg42/fWpMawf3X0V3bPbtJ9twlo+94Kp+Uw6adAB1Gwg3w+SB2u+j2FrM/k5CRu3bqF5eVlFItFZDIZF5quL7FdgLQsy+rYz3VH1e2eU9itVgsHBwdYXV3FysoKDg4O3IWgYWxO2P9XEftC+nY2QeyRj3kbFNBeVxmUDRoBnv7ChdkHYvg9F3u7yBNk+N65fmwPcPnGcKZnGZq31pXPqoMpRQGONX3rJorKiW1QZab1t3XSdUaZEJs2aCPiYwnscQAalaX5KPBS5a95ajrtWwV9HE+2iUpW+5egSNvJuwe1fQRHGoofxLZof2g5ytjYMdd2al7q72Kv62B633EB+p3eCmBNaTpvrC8Y66iAyB7uyHxYFkGi5gvAy+Rpv72xDM8wO14f0+J7ScNetGHKDKrDywI+wEVoeqFQwOzsLGZmZpDL5ZBKpZBOp90lov3qa4ECf3NyHx8fo1qt9rA55XIZzWbzEk0alL+2L8z2O6hof/rGtl99gkCu5vGmgZ5BZAR4+gtNWsqgqOg7oUyKzymV//+7vlr3nosiVclZE5b121BFrsrBKoggEKW7ZWV3tG7M07fZsGkomk79/sganZycOPOGBSCqrIEL0GHztz4+CiToQ+IDEJpelbWGnts2qbsA28Pv2Ab2J8OqtR9YLttH8TkHs20qvjOU7Hqo84ZzQBkvpiFzQoCrZXEeKCukdVdWyM4BpiP4I4DR4wpYJ46Bb0OqonVTRpPtaDabbybgCZNB2Zmg/6/6fL86DApohgE+wAXVzNvHc7kc5ubmMDMzg3Q63eNoqWicz9ldYKvVwtHREQ4ODtxPvV5Hs9kM9c0Bgs1/Fmi8CJPSr99tfXzA1ldf+/x1Bz3D9vEI8PQXfYekrEBFY38rgAEu+6hQEWgorvXNUSBg/fNUqLBVSVsly7XAHmxn22hNC9aHhWmU4WAagg0+D/RGGdlwaQrLJyNBAHd8fNwDPLVuVsnrzeSqtOlfpICHdSFTQ0da1i8Wi/W4CShjoX4oWh4ZD180E8dObzNXQKR9E2YitSZU7TvmpaZCLcMHSple9WGQmdEHUGy/AOg5gdyWx7lDXRR0LEGYgzr7KgjwjPs+vI7iG4SgRT5s8bfK2ff9MBLGDvXLy7f7C3uGL/3JyYlzIF5bW3MHAPKwNA1f18mtjoKdTseFprfb7UtnfAzaXvvZIOxWGLtm8+23E/DVwwd8fLuiYce6n7wIuHsRue6A7XUUfW8IXmw/K5hRk4Mu2MokWDaDCz4XdD1HR0UZG93EqJJScKVpfDty/dwCHAUSKqyXNR/ZHTzbRgCiAOjs7OJKDvYRN1ZU1GRauKZZ9oflK/Bg/lSmsVjMnRgfjUadY7FeTsm2qt8i60/zFAGMRqyxftovykjp3GG/8HM6axNoqUlHx0DXPOtHY4GCjrcebWLXNqtjlAGyOlHnuYIsn1+aZV5Uj/j0gl2DOSb6/tjrWZT11It6ffJGAJ4XZQmGTdsPWPVjiHzPDQp+hlXEtNG+agljcPqlB3oViE2j4gNEPsAS9pxv/Hz1vCroCarLqwQevxSYeptF/XjsGTNB74O9wFKjhOx9TVTcwMWi7gPtupumkvGdJ8M87a5e62cVkm/N0906TR9W0dtdu55bZE17LIef8eZzghT9nv2g7AnZL9aDQER9P5hGTVa2bdq3loGwjrTMU1kGBXQ+QGgZKB0H35xR36egQyPV6dkCVH6meQcdCWDBtu87BbsKoCwA1zayTJ2HHCsFqD4Qp4ySMkW2by2oDZNrDXh8SnKQ9FZ8SjYIcQ6Sp524VkH78giToPyDlP+rlqCFMOj7QQBgvz6y6V6W9JtD1wVEXJd6vinCxVgXWOv74dsI6WKuiz3noL3k0u7ombf+H7ZRUMVKUV8YjbwhYCCroqYmVcx8Vs9C8ZVNpUigoMBBo5q0PsqUsK7aR9YHShkkMj/8nn1ln9W6qdgwcQA9YEr9bxQssl1af9adv62vjPa9zhs1N9l8LaBR85sP7PBZprFto/h8gBRgsh+0j/gcy9E6WJbFRuza5zRf288K6vQ90HdB+8oHNlWuNeAZFuj4FqCw9MPUoR+YGjbPQYCL7hB8IMsHNF4UEIUBwLBF15ee9bFpB2VrhgV4mnYYoDys/FzgY8Tq/LKiioVK2jID/J6KQH1ImIdVMKqA7N1cqvCtUImrr4w1UzOdj90IOxDQ955aoAL0nurM8uyZLlonzTNI+dn1m0pQ1zQqRV//a50VXNCEZPvcMh3dbrcnysqnT2yfWWUepIOosJm/XSvZz1bhKzAMYkhYDwJM61TNv61/mc6PoPlGxoVpLcukeVqwrD/0L+OcDStbfd8sY6TtDAM8195peZBFP4yNuGpZgzA3/erpAyY+8U1S33dXaYvvWV8Zg7THpn3VCtnm368ffTICDJdl5LQ8mOhJ48fHxwB6nTLtYm/ZHcteKNuiisg3p8MAvyoN3eWrWSbo3WE6q/ysIrZ+S1qeAjpbL4IVdTS1fWQBoc0DuHxzO9BrVtL+VjBjQaVGJWldbJk+U472qa2DzwHbV2cFNEGbUt/Y69/2exsO7mM9lM1jPhoR6Gu3na9aPwvG2dccbzVFah76nM8MyDRAL4jW+vC3bjpOT0+9a9i1ZHh8L2BY2kHT9VPWQYp/kPzCJAg4BIEk/f6q0q//+jEtQZ9fBVxeFRjZOg6Thy6ywwDXkYyEwrlCE5CCFt+GQXf5NL3Yw/uY3u6EKVSmYWYkFfs+WjOOpuff2hYfY6JKyLIhPjBlTSZWuWu5uusPcvJlHlq2D0gQdFiF7PMRsf2o5dorQ5iHBSjKFhHU6hrlc+C2Bw/6QKAVPm/BGr9TFov/s87KkGjbdS20fkEcuyCww/HQ/9WUqf5SfJ7RcdZHh/NFr2pRJpD1U8duDZcnYA6Sawd4hlHyV2V2+im+MMQd9pnN/1Uq137MkW83MQizM2h5voV3WPD0qsWCnn4gbyQj8YkqMDrT6nkjdh2yviR8jqIKxq4T9vwRptfyrZKy6YMYASpD6xOiSpoik/34AAAWIElEQVT5aei1MkKqcKwys8pZ+0QVIh2WLeNg+1yf150+v9fQcW2XjXazoFPBjR4QyLpoXTV/7VdrxlJ2xDq2B7Fp/M6CQuZjfWMs+FTxRUvZ+cHPFDyqA7z6dOlnCjo4/2z0ndbdhvnbdZcAVQEr68ONgjJoOlf76dUXP/3tF5BhFbFPrFL2AQCbRl+yMFYh6JmwdL40+v8gACns+6DnB/msX76vQgYFtj5AFzY2Cmx85b0oczaSt0tUwauSUAXL76xCUyXCfHTxBi6zPfqMKlOg14QxPj7udVS1a5j6wmgaVW7W94P11F259Z3Qc27UzKfKzNZN2wxcXI7MNmqIuLIquk5rlJn2hyp5PnNyctJz1g6VvQWJBHbKjvB/rb+20fa5Ajfrf2RZJu1zHQN+pmZJ5mFNl5qOvk3WIdoHqtlnPMKE9dM6s2zN7+zszB0aqeDK6jACWuYfjUZdtJ+CIz6rpkd+zru0lM3SuRGLxS7NKcq1AzwvA+zwO9/uQp+zL9fLZopehoQtGL7/BwVNQXn4do6vgrkJAh5BQMX32SCsUhjgGwGfkYQJF1zfLt8qpLGxMXd2DNNZXxnAbyqxiswnPuUO9J7yHKSErbIlwGB5NNXYsix7wXw1XJtASIGIMj26njAfDXtn2VTYVklTGWt/6d9qOmK/c8zYXkbGKWNjmQXmEYvFHMug9eAYM89EItEDOtlvas5j/2heOn8scGNfWPCjaRSs6lzzjRn7RsE2L+hst9uXgCSft0BD7wezEVZsR6fTcWBIgb0PSPkujuX4tNvtHud/Bcf8m7et++TambReRHwK0C5UvsUm6Blfnj7WyPddUP3C6hv0/LCgbFCmx37uSzNsHW3afqB0kHyGkX6M26sGqCN5c0QVJEUXYP6va4U1Z9n1x0b2qBOvpqViVcWodVBGg2IjkXSXryyBNZXojt36p1DRBZmqbB5UZlRgBA9qZqJ5pNPp9NyqrXmrDwiVn/aLtkGVM/tRb94mW6N9xzozT3vGEPvAmoqUEbJAUh129TvNS0Gcjq06nBOEar00P2Xb9Pwj7XcF2nbzpxFpCqp0LlrzqM5xBWUKqMnMcExs+daEqteM6NxXps36Ctmxt/LGAB67GOhnlEHZjRdVfGHgwTfBwp731cXHfgwDYgaVfuAiqF5B7IxPXkZfhzE6vvr42hXUp2HzaSRvt3BxV7OOFZ+fiDIVGs0FXET5+PJUdsBuzFTUeVZ9ehQ4WJbEN8+tszGfi8Vil5icsHqpKYt5KlBQgNPpdBzjoqZCC9LYV3w2Fou5nf3Z2Zn3pm59Vi/s1LpatofpE4kE2u22q68CPauw9YoIptH2+NZJy3pp3yvI9DEuFljoM1qONaVRtF/YdzZMXkGSbaua++yayfvD1KSn85N56XPadvU1Uj8q1sleVWJvs7fyxgAeH4i4CpsQlC5Imdrv+yncF2UotJ0vSwGH5TVsOT7g0C/vful8zzH9IDII6Bmk/SOwMxKf+IAOEGz+VeWtobXqE6GgwIIEVZK+HTb9UiwLoemUTaDyITjzzXlV7gqilLVieyhUhmRSFCgosGAdtF4axaYROxQtNxqNOhOMdfJVAKXvfyKRwPHxcU+56kTLehKEtdttV446ZzNPjQI7PT1FMpnsabNl06jY2d/WT0qBr46njqOa8nzrNPtQx1bL5G/LEFrzFcdS5yDHwhedRVHWiuVpPRQA2rpZ/yHeXxa0Tut1LWHr9LXz4bmKWMWmYjsnqLOCFKMP4PgUq6YNq0tY3j4ZVOm/yPPDKvpB2hFU7jDtGRSYar6+neIIyIzkKqK7TuDyibdAb4QT/VDGx8cvHQhoQZNVgCyPZVIBBW2y+Jxlj5QtoGmi3W67urEdNi/rZwRcMDfWVKZ9QaBi775ivj4Qc3p6imaz2cMa6LOaPxUh+4dlqpnL+v4og6H+SXS8Zb5sq7IjliHjOFCYn5rJbHqdO3Ta1flgwaQt07JC1jREUdMTWRatr50X/GxiYuKS47SKmo/Y37yYWueznbvqk2UBkrZJn6EflPpcKYjSH8vW+eTaHzwYJr7dz6AgIiidD033YwquysQMUv9h8/aBv19a4Q/CtAzzfD/xjZ/v86AyhpWXxcT9XHI2OnhwIBkbG0MymXQXUZLJsP4tPn8JoPdSUeuDogrPhuCq34uyKtbXArh8d5KCfSora/6iUrHmGj6nJi3dWasZhZ9p3dWvI5FIOPZGy4hEIojH4zg+PnbPWwbCMl32HjOtkw3392109FwXBa9sjwJMVeYcc/axNb9QlLXh2Oqlo1qOb7xZV2VYdDzUPGQ33NaMyTT8m8/qPNG549u8av46Z335+MyJ7F87HsocMg3bykg/9YPy1ZfSbre9a9gbB3j0ZQZeDOy8DIA0TJ72u2EBybD1HaYuL1Msig8qd1CA5xvrIPHNDd8zbzPoGQGewSQajSKRSPRcZKmRKppOWQKNWKIpRXen9pJEn7IDeq9gUMXD/JURsA6nmp86HdsTc/mbeWlUlH5HRav+K6rEWQdV0KpQralFnZu1D3Snzz4/PT1FPB53bBVZHwuUbLtjsZhjesh+aL9qH2g/so8JPgla2B4FkfxMjyhgGT4wE2S2CWJatK/0MwVNvvVSx5RiwZQFNqyHgng7VnbOMh8+z/7T9mvUltZJ+43zLho9v93e+mgpaI9Gozg+PvauYW+MD49P+ilAq/j7sQNXBU2+OoXVd9D0g0hYnX8pBRzW1zoeg9ZvkLGj2AXa7l6YJqicq8p1ATsjGVw6nY5bfAE4loBmCkYYcVGmMqCitTt/KgHL3FDBUjmr74OCBVUa1iSmjAG/U+DE+anOqnZDoPW1jqfWgVnrr3koILJsiIIZ+v4og6LAjvlpX7Nsn8Otsk3MQ8OXfaHOzMM6yup3ZGp0XMhcaR3YPjt2FGUBtRztH72UVEEC55mGwSugUCYoyEHdzhdlYHygSfuV8177QMWyUOqkrP1hT53WdhNIWjCmz1iA65NrC3iCFPkwyt0uCJpuUNbGpxyt4rwqQzMIuxFU7rDAyj73qhX0VfMfpE+uAoDCGC8f8zZM/X8JdueXYu/eNiHVzt0nlZI6muoCrbtVgiVrjlDlQYXG/3WhpwK1PizKYgC9Phq6G9Z5b5ULFYmNMiMAsDe663cqljVQk58CLwUkelov+5WiiltDkLWP9f23bEFQX1uzlHWuVTMh6898fKY82x98RvtH8yMzofPB5xPG/LWe1sRnTWQWIGganSOaj469AhbmZfuAv+1t9WwX+1rHjPnR/2dsbAytVguRSKRnPLTNKlpHjYILk2sFeCwjo5/Z7+0zYRKm7Gw65un7/EXyHkSGYTzCnhkGzF2l3i/a3iBwMQiAHKRsO098z1jw9yJgcFAg+nPJ61CHN0UYvQP0njVjWQy7oyXbwb8ts6IMgN1p68KurI01m9idtU9USWo6mifsu2JNcLZ9WrbWWQEGgY76fSiQUWaLbWQdLYjw+Srxxzr8sv7KIvgAiIIMC2QUOPrWKe0HNeVZXy6tvwU2QeuRBVTaLi2Pzyvw4ZgCcE7zHB8+Y32BlFGy80PLYJt1PmsIuppRgYtQdQrZPB1P+k3pZuLfpiqXP9unpsl+oOda+PAEDTC/G5YJsfkOqwD6Aa6r5hWWx6B1HRTMvEhdfkkJArhBYDRIwtL7wN5V5sqLzM2XIVcta+TDM7gkk0kAF8BDz9WhEtCD5Ow80igV391ICnDUZ0IVkB1jVe4UH7OhSs83TxSI6HOq3K3/hAIZVdAK9rSOVPTq28F62fue9CwjH7hiXjTtaL9rG3UMbNuA3nBulk+2yR4dwDFke7XP9NwbG4WnfaIgzLbLbszsxksPIGQ0nI63nQPMyzphM3+WZ4Gdb8zVhKtjpeNnD1zU8WI9fA7Y1kfo+PjYMUEEcQQ/jKhj///753r68IQpmiCwMQwoCAIrgyq4l628wvIbpKxBwcwgzw4KGq/SB8M+FwYs7d+DgB7fyxcmg6bzPRNU11ctrxtYfRNFd8lA7z1aGoVko4WoTG3osgUjZFp4LL+Gj7Mc4EKZWcdP/U4/t/PZB1xUuQF+vxDWR8GD9g1/KyNCxc08yHBwl06zl33G9x7ZdZp16na7l04ZVgDB33r5qYplnlgvoNdJ2AIVBQxkKaiYLUjSeluHarbBhsNrHytI1rFVgGwj19Rvi0BFWSAFKL7+sjpS8+Z3x8fHANBzRxa/57imUik0m82eeatgh2lZZx0DXj7K73nZrM6rIHltGZ5h2YYwZiRolz3sd4PWZRgZtN4vWuarYhZ+LsYiCPCEvYz9xC6avs+vAoKvu4wYnsFFFZIqI92h2vliI0x0QVf/DY00Yt7qK6QKEbhQYlT6akaghM1t37usu27WIxKJ9Dhd83PmY5+375ndcKqS13LUlEHgp47NBGc8E4bK1Trm+sAMnZ2BC/8P7UdlF1jPk5MTxGIxl571sQ656l+lwNUenqjjzHJ4i7jtJ51Lto+0vcoaKatn5yLrpj5VeoaQmq/Y32R0mFav/WAaNduxzWpqY/pEIuEub9VydP74TKqDSrfbvV4MT5iyD3oxg/IZREHa7wat24tIGFj4Ocp4lc++jHKGYe103N50QGLlqpuBkby4+JSOZVGoUBjCzOggqyh1/VFzAUV9MahA7BUMFN3tah5aR93Zqy+GVbT6mSpyC6r0HbR18W0u9G8LTsg0+ExdwIW5zRd+zc/USVkjlPhjTzBWh1oK62CdpJmn9jHBjgLTaPTiFGgFJDreNMHx5GcCOL2RnfNHwZlGrynTZM1ZBMJ6TpSOOf1nyAipX5jOJa2/znP1rbKAP+jS2FqthkFlWLATJq8t4KFchekIYgOAcJOP/h60Pq+bvMz6vcp2WjATBGL7gduwvwcdS99O1ydX2Wm8bBkG7A/6/UiuLhYoUKyjqAU//FHlZRkQG2JszVW+NcvOZ81PFSzr5gMt/PH5rFhwwT5gXTVvrad93/lDRUufEsuY6fMasaMO4nQcV9ZsbGzMAQQFdmdnZ0gmk4hGo2g2m5eYIa23giTmpSHw3e7FSc96ppCyc2wP81cH5kjkwveGddN2KFBgn1rmiM/pOKtfkAIQZXM4bj5gSrBi10UK26Zg2MowoeI/p7yWgGdY5iMI4IQxB/q9b8D6lTNofX3iU7SvQoZhSAbJ55cAe4OUd5V6+XazVnHY733lDTLfXqaMwMvrJ9yRUwm3Wi0AvY7JVgEBFzteHxCw+dsIGeBypBDQC440T4oFZ8oeKKjgd1TeCj4sQ6GMD9Dr7GsdWtUspeVo+DLrNj4+jlar1eM4q4yP+sEwDz2rhwqe5bFtNBux720otfavHSftC7ZBfX3IajBPsnkETMxD5wbz4v1bWgfma8dPTYrWd4pjoGwW+1PnEvvGOhXz9+sGVl6GvHaAxw5cP3ZnmB23TqIg5dSPAfJJ2DNvuoJ6HdikfmCsHzMzDKixeQUxTK/L2L8u9XhThQoDuFBOFlTYz8gC0IRgAYP1/7FH7gO9lyVq+LH1+SFAUOZCzSQsiyBAfS6sjwbzBc4PT1QgwT5QU5M+e3Z25qJpfGf4xGIxtFotFzI9NjaGo6MjjI+PIx6Po9VqIRaL9YCbSOT88MB4PA7gAlhq5JEFOwRd7EPmd3x83PO/+uhon+o9XBMTEz2HF6oJSY8rsGsGx1rnBetH8xLroGarIACiwEbBrs5BnadBebwN8toBHiDcH2fQtIOmH2SgFSi9bmIXwjDFPcjzPnmZLNHPKYOyOPZ/+5wFVGEA6+di764iI/Dz8oUKRs/A0VOWLdtiAYhGc1HJcX5ZM5eaMtTsoWNKJcky1WSizrBMq+8FzS++8340/06n4xx4yTRwzqsi1ysu1JfFOncThNDswr4hwGEUDutJxU1GhwCErM//b+9sulsFwSBMFuk5+f+/tYt20d7V9D5OQcGYlHjm2eQYBRE/GOcFVDo6OPwyu8oq0caQHM+r9slPVVBIcQSUuz1sMzjySP8z7KVrwo+P107NsQnjTCV4eh/IvaGltVDM1rIz2lD0lnF0/QgtZ+OvxIcvH32sa2w5ekeFqWYTFC6GI3qOR40rR1BJeKixVONFF6iUpdshKHLoCJWyHFYsN4BlUBp94JMdpJUHO0TXOksrPzXWLIMPw2bD7rP+svzqNEtHinlz5JP+85FgEiw8ZgoeLXtIkSOneD44XFzCRdvRZSEuHpk/yyuhpePUeaDo4rHSKQqPYyrB0yMERkQRf5n/SF571XRL7OxJt+f/nv3tafzuFaXPhOfZl2vl8/Wl3O9uzVAPJKLneBgG+fz8/BELDCvJqdAbPOdykdvgc/Lo7V/hnlKWAoPuDv+nWGhdvxJo2l4OlbsvfIb4XEIaVaSylFIWTpe7R6X8D+ewr4qOQ+4QXRIOHfdOuDoObSPhxPIwLOTCTQ6Pzol3ElYZdL4ooNhZXSE9b3NaISR/LsexeR7TzsND/AbydVviovUGxXX3vNX3cmS+I2Kt1bA/ar/PpNcxqz2Exdo1UEu3VZ9by7OicmYenjFut9tPY6sGXOEnhq74Fs/+LFqm0GY4w6EoYMPPa4z/67y2xDyHJ7uooUPjE/pxhJfnXRvpwzxVR7wPKVKYJ4/ThczlcvmpZ7penLhP9enijy6OD63m/R5B8np8v9o8PGJN7Ph2tcaslpeobf8qjdMe9jTWvfnMyJqz07pWfH3tgV3bdu1tureuHum41bb15Vc4pzPCxvV2u5X39/dSym/Rcb1eF6EPhULkeNAd8Xla5Cp42Ef5OwqtlfJb2Pg1wD43/I8orU+ayPKwX0pN7KhcHOmk8ik95yr6/l7O4kuHx4dX+zQAPDfu8vo9X6u/iJxzMqXgab1dt7Zz1tLWLP0jH/prDdCRDcqevGoN8mg+rNs1niWK1vbhDzqWbWv7I8tRo1Y/95zTnvruuRfCOOxwS2fH3Q+OwuLcLW9vb9Wh52zIOWKI56zmAn19fZWPj4+FgGDIpXXe5XC0XM5SyqK/DOdxURqKNs59wxFUCmv5kHyWk84LR0r5Pmv3dwgtpg5pjYSyWg7PVsjqLA/8HvfmUfv5a0avhbX0PY5iqw7+2h3bm7enS0hrDAkLNvASP+woTHwuFzXy6isiF4gfpvSwjr+4MFxEJ4cdcYm7nnR7aqKqlj8FnspPB0j1wXJon/4SEvESjmL6kNboG6+/efSmfcTNNKMIKOUxIYrehv7RdUJhMnLut9bVXJ7eY+ndZlQwHbn/0TKFPuiMKGTD71yxA7OLCX0YlEOyJRY46km/FFL+uQTeD8qHoSAKFe2fx8A83KFygcU8OHcP86WQcdEXwrOZRvDsCQnU0q6FuWr76Ulb2/dsjcOrlefeOuwNP/l2R4SS2ADsOY6edFx/jwg6skyhjhwNORkUDO5a+C9dE/ZrcUFyvV5/8uSMxP5NKzow7sZ4OEzluFwui869LCOFC92ZVofqEGZmNaQVQgghhHAGfk+lGUIIIYRwMiJ4QgghhHB6InhCCCGEcHoieEIIIYRweiJ4QgghhHB6InhCCCGEcHr+ASvx19gquYESAAAAAElFTkSuQmCC\n",
         "text/plain": "<Figure size 720x576 with 2 Axes>"
        },
        "metadata": {
         "needs_background": "light"
        },
        "output_type": "display_data"
       }
      ]
     }
    },
    "f9bdb79ba42c401b9afe2c5ec980377f": {
     "model_module": "@jupyter-widgets/base",
     "model_module_version": "1.2.0",
     "model_name": "LayoutModel",
     "state": {
      "_model_module": "@jupyter-widgets/base",
      "_model_module_version": "1.2.0",
      "_model_name": "LayoutModel",
      "_view_count": null,
      "_view_module": "@jupyter-widgets/base",
      "_view_module_version": "1.2.0",
      "_view_name": "LayoutView",
      "align_content": null,
      "align_items": null,
      "align_self": null,
      "border": null,
      "bottom": null,
      "display": null,
      "flex": null,
      "flex_flow": null,
      "grid_area": null,
      "grid_auto_columns": null,
      "grid_auto_flow": null,
      "grid_auto_rows": null,
      "grid_column": null,
      "grid_gap": null,
      "grid_row": null,
      "grid_template_areas": null,
      "grid_template_columns": null,
      "grid_template_rows": null,
      "height": null,
      "justify_content": null,
      "justify_items": null,
      "left": null,
      "margin": null,
      "max_height": null,
      "max_width": null,
      "min_height": null,
      "min_width": null,
      "object_fit": null,
      "object_position": null,
      "order": null,
      "overflow": null,
      "overflow_x": null,
      "overflow_y": null,
      "padding": null,
      "right": null,
      "top": null,
      "visibility": null,
      "width": null
     }
    },
    "faac0a373610432b8109952997297c0c": {
     "model_module": "@jupyter-widgets/controls",
     "model_module_version": "1.5.0",
     "model_name": "SliderStyleModel",
     "state": {
      "_model_module": "@jupyter-widgets/controls",
      "_model_module_version": "1.5.0",
      "_model_name": "SliderStyleModel",
      "_view_count": null,
      "_view_module": "@jupyter-widgets/base",
      "_view_module_version": "1.2.0",
      "_view_name": "StyleView",
      "description_width": "",
      "handle_color": null
     }
    },
    "fc81ee089af245cb957ae3a86b8f0cdb": {
     "model_module": "@jupyter-widgets/controls",
     "model_module_version": "1.5.0",
     "model_name": "IntSliderModel",
     "state": {
      "_dom_classes": [],
      "_model_module": "@jupyter-widgets/controls",
      "_model_module_version": "1.5.0",
      "_model_name": "IntSliderModel",
      "_view_count": null,
      "_view_module": "@jupyter-widgets/controls",
      "_view_module_version": "1.5.0",
      "_view_name": "IntSliderView",
      "continuous_update": true,
      "description": "moving_image_z",
      "description_tooltip": null,
      "disabled": false,
      "layout": "IPY_MODEL_de0ea08de4e34eff9111383bad58677f",
      "max": 25,
      "min": 0,
      "orientation": "horizontal",
      "readout": true,
      "readout_format": "d",
      "step": 1,
      "style": "IPY_MODEL_210a40cf9a51420b9f5faa58ee09c734",
      "value": 16
     }
    }
   }
  }
 },
 "nbformat": 4,
 "nbformat_minor": 1
}
