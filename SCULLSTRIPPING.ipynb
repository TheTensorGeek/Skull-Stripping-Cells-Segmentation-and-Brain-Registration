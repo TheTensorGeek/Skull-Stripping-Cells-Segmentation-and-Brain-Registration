{
 "cells": [
  {
   "cell_type": "code",
   "execution_count": null,
   "metadata": {
    "colab": {
     "base_uri": "https://localhost:8080/"
    },
    "id": "qyYya332Wnuq",
    "outputId": "5d4de30e-7aac-42f7-e92e-6c03d42d4545"
   },
   "outputs": [
    {
     "name": "stdout",
     "output_type": "stream",
     "text": [
      "Mounted at /content/drive\n"
     ]
    }
   ],
   "source": [
    "from google.colab import drive \n",
    "\n",
    "drive.mount('/content/drive')"
   ]
  },
  {
   "cell_type": "code",
   "execution_count": null,
   "metadata": {
    "colab": {
     "base_uri": "https://localhost:8080/"
    },
    "id": "_6ijyFI7W8kv",
    "outputId": "90a27697-2bf2-44f4-90d8-c0a0da8cedbe"
   },
   "outputs": [
    {
     "name": "stdout",
     "output_type": "stream",
     "text": [
      "/content/drive/My Drive/skillsEval/skillsEval\n"
     ]
    }
   ],
   "source": [
    "cd /content/drive/My Drive/skillsEval/skillsEval"
   ]
  },
  {
   "cell_type": "markdown",
   "metadata": {
    "id": "RuhkXFbaE-Rg"
   },
   "source": [
    "# SCULL STRIPPING"
   ]
  },
  {
   "cell_type": "code",
   "execution_count": null,
   "metadata": {
    "colab": {
     "base_uri": "https://localhost:8080/"
    },
    "id": "L5wyFeZGdhr-",
    "outputId": "7aa6e5e6-d046-4c09-ccfd-f0cb8999f4fc"
   },
   "outputs": [
    {
     "name": "stdout",
     "output_type": "stream",
     "text": [
      "Collecting simpleitk\n",
      "  Downloading SimpleITK-2.1.1-cp37-cp37m-manylinux_2_12_x86_64.manylinux2010_x86_64.whl (48.4 MB)\n",
      "\u001b[K     |████████████████████████████████| 48.4 MB 2.3 MB/s \n",
      "\u001b[?25hInstalling collected packages: simpleitk\n",
      "Successfully installed simpleitk-2.1.1\n"
     ]
    }
   ],
   "source": [
    "!pip install simpleitk"
   ]
  },
  {
   "cell_type": "code",
   "execution_count": null,
   "metadata": {
    "colab": {
     "base_uri": "https://localhost:8080/"
    },
    "id": "IshZ14riaOA-",
    "outputId": "c54dd309-7690-469e-929d-d618b8ab1b53"
   },
   "outputs": [
    {
     "name": "stdout",
     "output_type": "stream",
     "text": [
      "Collecting fslpy\n",
      "  Downloading fslpy-03.7.1-py2.py3-none-any.whl (275 kB)\n",
      "\u001b[K     |████████████████████████████████| 275 kB 5.2 MB/s \n",
      "\u001b[?25hRequirement already satisfied: scipy>=0.18 in /usr/local/lib/python3.7/dist-packages (from fslpy) (1.4.1)\n",
      "Requirement already satisfied: h5py>=2.9 in /usr/local/lib/python3.7/dist-packages (from fslpy) (3.1.0)\n",
      "Requirement already satisfied: nibabel>=2.4 in /usr/local/lib/python3.7/dist-packages (from fslpy) (3.0.2)\n",
      "Requirement already satisfied: numpy>=1 in /usr/local/lib/python3.7/dist-packages (from fslpy) (1.19.5)\n",
      "Requirement already satisfied: cached-property in /usr/local/lib/python3.7/dist-packages (from h5py>=2.9->fslpy) (1.5.2)\n",
      "Installing collected packages: fslpy\n",
      "Successfully installed fslpy-3.7.1\n"
     ]
    }
   ],
   "source": [
    "!pip install fslpy"
   ]
  },
  {
   "cell_type": "code",
   "execution_count": null,
   "metadata": {
    "colab": {
     "base_uri": "https://localhost:8080/"
    },
    "id": "D_-nccWjNK9v",
    "outputId": "a7fc3044-2524-4cbf-899a-794ca54a3871"
   },
   "outputs": [
    {
     "name": "stdout",
     "output_type": "stream",
     "text": [
      "The following additional packages will be installed:\n",
      "  libmagic-mgc libmagic1\n",
      "The following NEW packages will be installed:\n",
      "  file libmagic-mgc libmagic1\n",
      "0 upgraded, 3 newly installed, 0 to remove and 37 not upgraded.\n",
      "Need to get 275 kB of archives.\n",
      "After this operation, 5,297 kB of additional disk space will be used.\n",
      "debconf: unable to initialize frontend: Dialog\n",
      "debconf: (No usable dialog-like program is installed, so the dialog based frontend cannot be used. at /usr/share/perl5/Debconf/FrontEnd/Dialog.pm line 76, <> line 3.)\n",
      "debconf: falling back to frontend: Readline\n",
      "debconf: unable to initialize frontend: Readline\n",
      "debconf: (This frontend requires a controlling tty.)\n",
      "debconf: falling back to frontend: Teletype\n",
      "dpkg-preconfigure: unable to re-open stdin: \n",
      "Selecting previously unselected package libmagic-mgc.\n",
      "(Reading database ... 155222 files and directories currently installed.)\n",
      "Preparing to unpack .../libmagic-mgc_1%3a5.32-2ubuntu0.4_amd64.deb ...\n",
      "Unpacking libmagic-mgc (1:5.32-2ubuntu0.4) ...\n",
      "Selecting previously unselected package libmagic1:amd64.\n",
      "Preparing to unpack .../libmagic1_1%3a5.32-2ubuntu0.4_amd64.deb ...\n",
      "Unpacking libmagic1:amd64 (1:5.32-2ubuntu0.4) ...\n",
      "Selecting previously unselected package file.\n",
      "Preparing to unpack .../file_1%3a5.32-2ubuntu0.4_amd64.deb ...\n",
      "Unpacking file (1:5.32-2ubuntu0.4) ...\n",
      "Setting up libmagic-mgc (1:5.32-2ubuntu0.4) ...\n",
      "Setting up libmagic1:amd64 (1:5.32-2ubuntu0.4) ...\n",
      "Setting up file (1:5.32-2ubuntu0.4) ...\n",
      "Processing triggers for man-db (2.8.3-2ubuntu0.1) ...\n",
      "Processing triggers for libc-bin (2.27-3ubuntu1.3) ...\n",
      "/sbin/ldconfig.real: /usr/local/lib/python3.7/dist-packages/ideep4py/lib/libmkldnn.so.0 is not a symbolic link\n",
      "\n",
      "--2021-12-20 11:40:05--  https://fsl.fmrib.ox.ac.uk/fsldownloads/fslinstaller.py\n",
      "Resolving fsl.fmrib.ox.ac.uk (fsl.fmrib.ox.ac.uk)... 129.67.248.65\n",
      "Connecting to fsl.fmrib.ox.ac.uk (fsl.fmrib.ox.ac.uk)|129.67.248.65|:443... connected.\n",
      "HTTP request sent, awaiting response... 200 OK\n",
      "Length: 102918 (101K) [application/octet-stream]\n",
      "Saving to: ‘fslinstaller.py.1’\n",
      "\n",
      "fslinstaller.py.1   100%[===================>] 100.51K   369KB/s    in 0.3s    \n",
      "\n",
      "2021-12-20 11:40:06 (369 KB/s) - ‘fslinstaller.py.1’ saved [102918/102918]\n",
      "\n",
      "\u001b[1m--- FSL Installer - Version 3.1.0 ---\u001b[0m\n",
      "When asked a question, the default answer is given in square brackets.\n",
      "Hit the Enter key to accept this default answer.\n",
      "Where would you like the FSL install to be (including the FSL folder name)? [/usr/local/fsl]: \n",
      "Downloading...\n",
      "Checking FSL package\n",
      "\u001b[92m[OK] \u001b[0mFile downloaded\n",
      "Installing FSL software version 6.0.5.1...\n",
      "-\b\\\b|\b/\b-\b\\\b|\b/\b-\b\\\b|\b/\b-\b\\\b|\b/\b-\b\\\b|\b/\b-\b\\\b|\b/\b-\b\\\b|\b/\b-\b\\\b|\b/\b-\b\\\b|\b/\b-\b\\\b|\b/\b-\b\\\b|\b/\b-\b\\\b|\b/\b-\b\\\b|\b/\b-\b\\\b|\b/\b-\b\\\b|\b/\b-\b\\\b|\b/\b-\b\\\b|\b/\b-\b\\\b|\b/\b-\b\\\b|\b/\b-\b\\\b|\b/\b-\b\\\b|\b/\b-\b\\\b|\b/\b-\b\\\b|\b/\b-\b\\\b|\b/\b-\b\\\b|\b/\b-\b\\\b|\b/\b-\b\\\b|\b/\b-\b\\\b|\b/\b-\b\\\b|\b/\b-\b\\\b|\b/\b-\b\\\b|\b/\b-\b\\\b|\b/\b-\b\\\b|\b/\b-\b\\\b|\b/\b-\b\\\b|\b/\b-\b\\\b|\b/\b-\b\\\b|\b/\b-\b\\\b|\b/\b-\b\\\b|\b/\b-\b\\\b|\b/\b-\b\\\b|\b/\b-\b\\\b|\b/\b-\b\\\b|\b/\b-\b\\\b|\b/\b-\b\\\b|\b/\b-\b\\\b|\b/\b-\b\\\b|\b/\b-\b\\\b|\b/\b-\b\\\b|\b/\b-\b\\\b|\b/\b-\b\\\b|\b/\b-\b\\\b|\b/\b-\b\\\b|\b/\b-\b\\\b|\b/\b-\b\\\b|\b/\b-\b\\\b|\b/\b-\b\\\b|\b/\b-\b\\\b|\b/\b-\b\\\b|\b/\b-\b\\\b|\b/\b-\b\\\b|\b/\b-\b\\\b|\b/\b-\b\\\b|\b/\b-\b\\\b|\b/\b-\b\\\b|\b/\b-\b\\\b|\b/\b-\b\\\b|\b/\b-\b\\\b|\b/\b-\b\\\b|\b/\b-\b\\\b|\b/\b-\b\\\b|\b/\b-\b\\\b|\b/\b-\b\\\b|\b/\b-\b\\\b|\b/\b-\b\\\b|\b/\b-\b\\\b|\b/\b-\b\\\b|\b/\b-\b\\\b|\b/\b-\b\\\b|\b/\b-\b\\\b|\b/\b-\b\\\b|\b/\b-\b\\\b|\b/\b-\b\\\b|\b/\b-\b\\\b|\b/\b-\b\\\b|\b/\b-\b\\\b|\b/\b-\b\\\b|\b/\b-\b\\\b|\b/\b-\b\\\b|\b/\b-\b\\\b|\b/\b-\b\\\b|\b/\b-\b\\\b|\b/\b-\b\\\b|\b/\b-\b\\\b|\b/\b-\b\\\b|\b/\b-\b\\\b|\b/\b-\b\\\b|\b/\b-\b\\\b|\b/\b-\b\\\b|\b/\b-\b\\\b|\b/\b-\b\\\b|\b/\b-\b\\\b|\b/\b-\b\\\b|\b/\b-\b\\\b|\b/\b-\b\\\b|\b/\b-\b\\\b|\b/\b-\b\\\b|\b/\b-\b\\\b|\b/\b-\b\\\b|\b/\b-\b\\\b|\b/\b-\b\\\b|\b/\b-\b\\\b|\b/\b-\b\\\b|\b/\b-\b\\\b|\b/\b-\b\\\b|\b/\b-\b\\\b|\b/\b-\b\\\b|\b/\b-\b\\\b|\b/\b-\b\\\b|\b/\b-\b\\\b|\b/\b-\b\\\b|\b/\b-\b\\\b|\b/\b-\b\\\b|\b/\b-\b\\\b|\b/\b-\b\\\b|\b/\b-\b\\\b|\b/\b-\b\\\b|\b/\b-\b\\\b|\b/\b-\b\\\b|\b/\b-\b\\\b|\b/\b-\b\\\b|\b/\b-\b\\\b|\b/\b-\b\\\b|\b/\b-\b\\\b|\b/\b-\b\\\b|\b/\b-\b\\\b|\b/\b-\b\\\b|\b/\b-\b\\\b|\b/\b-\b\\\b|\b/\b-\b\\\b|\b/\b-\b\\\b|\b/\b-\b\\\b|\b/\b-\b\\\b|\b/\b-\b\\\b|\b/\b-\b\\\b|\b/\b-\b\\\b|\b/\b-\b\\\b|\b/\b-\b\\\b|\b/\b-\b\\\b|\b/\b-\b\\\b|\b/\b-\b\\\b|\b/\b-\b\\\b|\b/\b-\b\\\b|\b/\b-\b\\\b|\b/\b-\b\\\b|\b/\b-\b\\\b|\b/\b-\b\\\b|\b/\b-\b\\\b|\b/\b-\b\\\b|\b/\b-\b\\\b|\b/\b-\b\\\b|\b/\b-\b\\\b|\b/\b-\b\\\b|\b/\b-\b\\\b|\b/\b-\b\\\b|\b/\b-\b\\\b|\b/\b-\b\\\b|\b/\b-\b\\\b|\b/\b-\b\\\b|\b/\b-\b\\\b|\b/\b-\b\\\b|\b/\b-\b\\\b|\b/\b-\b\\\b|\b/\b-\b\\\b|\b/\b-\b\\\b|\b/\b-\b\\\b|\b/\b-\b\\\b|\b/\b-\b\\\b|\b/\b-\b\\\b|\b/\b-\b\\\b|\b/\b-\b\\\b|\b/\b-\b\\\b|\b/\b-\b\\\b|\b/\b-\b\\\b|\b/\b-\b\\\b|\b/\b-\b\\\b|\b/\b-\b\\\b|\b/\b-\b\\\b|\b/\b-\b\\\b|\b/\b-\b\\\b|\b/\b-\b\\\b|\b/\b-\b\\\b|\b/\b-\b\\\b|\b/\b-\b\\\b|\b/\b-\b\\\b|\b/\b-\b\\\b|\b/\b-\b\\\b|\b/\b-\b\\\b|\b/\b-\b\\\b|\b/\b-\b\\\b|\b/\b-\b\\\b|\b/\b-\b\\\b|\b/\b-\b\\\b|\b/\b-\b\\\b|\b/\b-\b\\\b|\b/\b-\b\\\b|\b/\b-\b\\\b|\b/\b-\b\\\b|\b/\b-\b\\\b|\b/\b-\b\\\b|\b/\b-\b\\\b|\b/\b-\b\\\b|\b/\b-\b\\\b|\b/\b-\b\\\b|\b/\b-\b\\\b|\b/\b-\b\\\b|\b/\b-\b\\\b|\b/\b-\b\\\b|\b/\b-\b\\\b|\b/\b-\b\\\b|\b/\b-\b\\\b|\b/\b-\b\\\b|\b/\b-\b\\\b|\b/\b-\b\\\b|\b/\b-\b\\\b|\b/\b-\b\\\b|\b/\b-\b\\\b|\b/\b-\b\\\b|\b/\b-\b\\\b|\b/\b-\b\\\b|\b/\b-\b\\\b|\b/\b-\b\\\b|\b/\b-\b\\\b|\b/\b-\b\\\b|\b/\b-\b\\\b|\b/\b-\b\\\b|\b/\b-\b\\\b|\b/\b-\b\\\b|\b/\b-\b\\\b|\b/\b-\b\\\b|\b/\b-\b\\\b|\b/\b-\b\\\b|\b/\b-\b\\\b|\b/\b-\b\\\b|\b/\b-\b\\\b|\b/\b-\b\\\b|\b/\b-\b\\\b|\b/\b-\b\\\b|\b/\b-\b\\\b|\b/\b-\b\\\b|\b/\b-\b\\\b|\b/\b-\b\\\b|\b/\b\u001b[92m[OK] \u001b[0mFSL software installed.\n",
      "-\b\\\bPerforming post install tasks\n",
      "|\bStage 1\n",
      "By installing this python distribution you agree to the license terms in\n",
      "/usr/local/fsl/fslpython/LICENSE.txt\n",
      "100%\n",
      "Stage 2\n",
      "100%\n",
      "/tmp/fslpythonbSTY/fslpython_miniconda_installer.log\n",
      "Post install setup complete\n",
      "\u001b[92m[OK] \u001b[0mPost installation setup complete\n",
      "FLIRT version 6.0\n"
     ]
    }
   ],
   "source": [
    "import os\n",
    "\n",
    "!sudo apt -qq install file\n",
    "\n",
    "!wget https://fsl.fmrib.ox.ac.uk/fsldownloads/fslinstaller.py\n",
    "!python2 fslinstaller.py\n",
    "\n",
    "fslpath = \"/usr/local/fsl\"\n",
    "os.environ[\"FSLDIR\"] = fslpath\n",
    "os.environ[\"PATH\"] += os.pathsep + os.path.join(fslpath, 'bin')\n",
    "!. ${FSLDIR}/etc/fslconf/fsl.sh\n",
    "\n",
    "!flirt -version"
   ]
  },
  {
   "cell_type": "code",
   "execution_count": null,
   "metadata": {
    "colab": {
     "base_uri": "https://localhost:8080/"
    },
    "id": "Hca6eFBsVQOf",
    "outputId": "f87d485c-ffe7-4610-d7e1-78ae5be2cc52"
   },
   "outputs": [
    {
     "name": "stdout",
     "output_type": "stream",
     "text": [
      "Collecting nilearn\n",
      "  Downloading nilearn-0.8.1-py3-none-any.whl (10.0 MB)\n",
      "\u001b[K     |████████████████████████████████| 10.0 MB 4.2 MB/s \n",
      "\u001b[?25hRequirement already satisfied: scipy>=1.2 in /usr/local/lib/python3.7/dist-packages (from nilearn) (1.4.1)\n",
      "Requirement already satisfied: numpy>=1.16 in /usr/local/lib/python3.7/dist-packages (from nilearn) (1.19.5)\n",
      "Requirement already satisfied: nibabel>=2.5 in /usr/local/lib/python3.7/dist-packages (from nilearn) (3.0.2)\n",
      "Requirement already satisfied: pandas>=0.24.0 in /usr/local/lib/python3.7/dist-packages (from nilearn) (1.1.5)\n",
      "Requirement already satisfied: scikit-learn>=0.21 in /usr/local/lib/python3.7/dist-packages (from nilearn) (1.0.1)\n",
      "Requirement already satisfied: requests>=2 in /usr/local/lib/python3.7/dist-packages (from nilearn) (2.23.0)\n",
      "Requirement already satisfied: joblib>=0.12 in /usr/local/lib/python3.7/dist-packages (from nilearn) (1.1.0)\n",
      "Requirement already satisfied: python-dateutil>=2.7.3 in /usr/local/lib/python3.7/dist-packages (from pandas>=0.24.0->nilearn) (2.8.2)\n",
      "Requirement already satisfied: pytz>=2017.2 in /usr/local/lib/python3.7/dist-packages (from pandas>=0.24.0->nilearn) (2018.9)\n",
      "Requirement already satisfied: six>=1.5 in /usr/local/lib/python3.7/dist-packages (from python-dateutil>=2.7.3->pandas>=0.24.0->nilearn) (1.15.0)\n",
      "Requirement already satisfied: urllib3!=1.25.0,!=1.25.1,<1.26,>=1.21.1 in /usr/local/lib/python3.7/dist-packages (from requests>=2->nilearn) (1.24.3)\n",
      "Requirement already satisfied: idna<3,>=2.5 in /usr/local/lib/python3.7/dist-packages (from requests>=2->nilearn) (2.10)\n",
      "Requirement already satisfied: certifi>=2017.4.17 in /usr/local/lib/python3.7/dist-packages (from requests>=2->nilearn) (2021.10.8)\n",
      "Requirement already satisfied: chardet<4,>=3.0.2 in /usr/local/lib/python3.7/dist-packages (from requests>=2->nilearn) (3.0.4)\n",
      "Requirement already satisfied: threadpoolctl>=2.0.0 in /usr/local/lib/python3.7/dist-packages (from scikit-learn>=0.21->nilearn) (3.0.0)\n",
      "Installing collected packages: nilearn\n",
      "Successfully installed nilearn-0.8.1\n"
     ]
    }
   ],
   "source": [
    "!pip install nilearn"
   ]
  },
  {
   "cell_type": "code",
   "execution_count": null,
   "metadata": {
    "colab": {
     "base_uri": "https://localhost:8080/"
    },
    "id": "cB63vXSyYBhM",
    "outputId": "88e204db-c82c-44ab-83e3-e802712b3088"
   },
   "outputs": [
    {
     "name": "stdout",
     "output_type": "stream",
     "text": [
      "Requirement already satisfied: nipype in /usr/local/lib/python3.7/dist-packages (1.7.0)\n",
      "Requirement already satisfied: networkx>=2.0 in /usr/local/lib/python3.7/dist-packages (from nipype) (2.6.3)\n",
      "Requirement already satisfied: packaging in /usr/local/lib/python3.7/dist-packages (from nipype) (21.3)\n",
      "Requirement already satisfied: rdflib>=5.0.0 in /usr/local/lib/python3.7/dist-packages (from nipype) (6.1.1)\n",
      "Requirement already satisfied: etelemetry>=0.2.0 in /usr/local/lib/python3.7/dist-packages (from nipype) (0.2.2)\n",
      "Requirement already satisfied: pydot>=1.2.3 in /usr/local/lib/python3.7/dist-packages (from nipype) (1.3.0)\n",
      "Requirement already satisfied: simplejson>=3.8.0 in /usr/local/lib/python3.7/dist-packages (from nipype) (3.17.6)\n",
      "Requirement already satisfied: nibabel>=2.1.0 in /usr/local/lib/python3.7/dist-packages (from nipype) (3.0.2)\n",
      "Requirement already satisfied: filelock>=3.0.0 in /usr/local/lib/python3.7/dist-packages (from nipype) (3.4.0)\n",
      "Requirement already satisfied: python-dateutil>=2.2 in /usr/local/lib/python3.7/dist-packages (from nipype) (2.8.2)\n",
      "Requirement already satisfied: click>=6.6.0 in /usr/local/lib/python3.7/dist-packages (from nipype) (7.1.2)\n",
      "Requirement already satisfied: scipy>=0.14 in /usr/local/lib/python3.7/dist-packages (from nipype) (1.4.1)\n",
      "Requirement already satisfied: numpy>=1.15.3 in /usr/local/lib/python3.7/dist-packages (from nipype) (1.19.5)\n",
      "Requirement already satisfied: traits!=5.0,>=4.6 in /usr/local/lib/python3.7/dist-packages (from nipype) (6.3.2)\n",
      "Requirement already satisfied: prov>=1.5.2 in /usr/local/lib/python3.7/dist-packages (from nipype) (2.0.0)\n",
      "Requirement already satisfied: ci-info>=0.2 in /usr/local/lib/python3.7/dist-packages (from etelemetry>=0.2.0->nipype) (0.2.0)\n",
      "Requirement already satisfied: requests in /usr/local/lib/python3.7/dist-packages (from etelemetry>=0.2.0->nipype) (2.23.0)\n",
      "Requirement already satisfied: lxml>=3.3.5 in /usr/local/lib/python3.7/dist-packages (from prov>=1.5.2->nipype) (4.2.6)\n",
      "Requirement already satisfied: pyparsing>=2.1.4 in /usr/local/lib/python3.7/dist-packages (from pydot>=1.2.3->nipype) (3.0.6)\n",
      "Requirement already satisfied: six>=1.5 in /usr/local/lib/python3.7/dist-packages (from python-dateutil>=2.2->nipype) (1.15.0)\n",
      "Requirement already satisfied: setuptools in /usr/local/lib/python3.7/dist-packages (from rdflib>=5.0.0->nipype) (57.4.0)\n",
      "Requirement already satisfied: isodate in /usr/local/lib/python3.7/dist-packages (from rdflib>=5.0.0->nipype) (0.6.1)\n",
      "Requirement already satisfied: importlib-metadata in /usr/local/lib/python3.7/dist-packages (from rdflib>=5.0.0->nipype) (4.8.2)\n",
      "Requirement already satisfied: typing-extensions>=3.6.4 in /usr/local/lib/python3.7/dist-packages (from importlib-metadata->rdflib>=5.0.0->nipype) (3.10.0.2)\n",
      "Requirement already satisfied: zipp>=0.5 in /usr/local/lib/python3.7/dist-packages (from importlib-metadata->rdflib>=5.0.0->nipype) (3.6.0)\n",
      "Requirement already satisfied: chardet<4,>=3.0.2 in /usr/local/lib/python3.7/dist-packages (from requests->etelemetry>=0.2.0->nipype) (3.0.4)\n",
      "Requirement already satisfied: certifi>=2017.4.17 in /usr/local/lib/python3.7/dist-packages (from requests->etelemetry>=0.2.0->nipype) (2021.10.8)\n",
      "Requirement already satisfied: idna<3,>=2.5 in /usr/local/lib/python3.7/dist-packages (from requests->etelemetry>=0.2.0->nipype) (2.10)\n",
      "Requirement already satisfied: urllib3!=1.25.0,!=1.25.1,<1.26,>=1.21.1 in /usr/local/lib/python3.7/dist-packages (from requests->etelemetry>=0.2.0->nipype) (1.24.3)\n",
      "211220-12:32:58,610 nipype.interface WARNING:\n",
      "\t FSLOUTPUTTYPE environment variable is not set. Setting FSLOUTPUTTYPE=NIFTI\n"
     ]
    }
   ],
   "source": [
    "!pip install nipype\n",
    "import nipype.interfaces.fsl as fsl\n",
    "mybet = fsl.BET(in_file='ct.nii', out_file='bar.nii')\n",
    "result = mybet.run()"
   ]
  },
  {
   "cell_type": "code",
   "execution_count": null,
   "metadata": {
    "id": "f8DW3soIVXSJ"
   },
   "outputs": [],
   "source": [
    "from nilearn.plotting import plot_anat\n",
    "import numpy as np\n",
    "import os"
   ]
  },
  {
   "cell_type": "code",
   "execution_count": null,
   "metadata": {
    "colab": {
     "base_uri": "https://localhost:8080/"
    },
    "id": "DUhldPRuiGsC",
    "outputId": "4c68ead3-148a-4eba-a8a3-f18b551cac8a"
   },
   "outputs": [
    {
     "name": "stderr",
     "output_type": "stream",
     "text": [
      "/usr/local/lib/python3.7/dist-packages/nilearn/datasets/__init__.py:96: FutureWarning: Fetchers from the nilearn.datasets module will be updated in version 0.9 to return python strings instead of bytes and Pandas dataframes instead of Numpy arrays.\n",
      "  \"Numpy arrays.\", FutureWarning)\n"
     ]
    }
   ],
   "source": [
    "from nilearn.plotting import plot_anat\n",
    "%matplotlib inline"
   ]
  },
  {
   "cell_type": "code",
   "execution_count": null,
   "metadata": {
    "colab": {
     "base_uri": "https://localhost:8080/",
     "height": 218
    },
    "id": "6Rdk2EeviQWd",
    "outputId": "1903bf2b-a4fd-4bb7-81f8-f3063a419cb2"
   },
   "outputs": [
    {
     "data": {
      "image/png": "[encoded data removed]",
      "text/plain": [
       "<Figure size 475.2x187.2 with 4 Axes>"
      ]
     },
     "metadata": {},
     "output_type": "display_data"
    }
   ],
   "source": [
    "plot_anat('ct.nii', title='original',\n",
    "          display_mode='ortho', dim=-1, draw_cross=False, annotate=False);"
   ]
  },
  {
   "cell_type": "code",
   "execution_count": null,
   "metadata": {
    "colab": {
     "base_uri": "https://localhost:8080/",
     "height": 218
    },
    "id": "Zn3myKnErihZ",
    "outputId": "cdad4d9a-0778-400e-c3e0-25fb8344a514"
   },
   "outputs": [
    {
     "data": {
      "image/png": "[encoded data removed]",
      "text/plain": [
       "<Figure size 475.2x187.2 with 4 Axes>"
      ]
     },
     "metadata": {},
     "output_type": "display_data"
    }
   ],
   "source": [
    "plot_anat('bar.nii.gz', title='original', dim=-1, draw_cross=True, annotate=False);"
   ]
  },
  {
   "cell_type": "code",
   "execution_count": null,
   "metadata": {
    "colab": {
     "base_uri": "https://localhost:8080/"
    },
    "id": "GcKcWLlzvuB6",
    "outputId": "7fa8b4d9-83f9-4d86-cacf-e41ee66bf627"
   },
   "outputs": [
    {
     "name": "stdout",
     "output_type": "stream",
     "text": [
      "211220-12:34:57,678 nipype.interface WARNING:\n",
      "\t FSLOUTPUTTYPE environment variable is not set. Setting FSLOUTPUTTYPE=NIFTI\n"
     ]
    }
   ],
   "source": [
    "mybet1 = fsl.BET(in_file='mr.nii', out_file='mr_brain_stripped.nii')\n",
    "result = mybet1.run()"
   ]
  },
  {
   "cell_type": "code",
   "execution_count": null,
   "metadata": {
    "colab": {
     "base_uri": "https://localhost:8080/",
     "height": 218
    },
    "id": "dtiXemzwwQHj",
    "outputId": "ca34450b-1b88-4f55-d8c3-33ab4eb0e4c5"
   },
   "outputs": [
    {
     "data": {
      "image/png": "[encoded data removed]",
      "text/plain": [
       "<Figure size 475.2x187.2 with 4 Axes>"
      ]
     },
     "metadata": {},
     "output_type": "display_data"
    }
   ],
   "source": [
    "plot_anat('mr.nii', title='original', dim=-1, draw_cross=True, annotate=False);"
   ]
  },
  {
   "cell_type": "code",
   "execution_count": null,
   "metadata": {
    "colab": {
     "base_uri": "https://localhost:8080/",
     "height": 218
    },
    "id": "Ud2qXZXqwCb3",
    "outputId": "8fa85955-5f25-4e72-b844-63bb98836eeb"
   },
   "outputs": [
    {
     "data": {
      "image/png": "[encoded data removed]",
      "text/plain": [
       "<Figure size 475.2x187.2 with 4 Axes>"
      ]
     },
     "metadata": {},
     "output_type": "display_data"
    }
   ],
   "source": [
    "plot_anat('mr_brain_stripped.nii.gz', title='original', dim=-1, draw_cross=True, annotate=False);"
   ]
  },
  {
   "cell_type": "markdown",
   "metadata": {
    "id": "UGtlY8zUFoth"
   },
   "source": [
    "# REGISTRATION"
   ]
  },
  {
   "cell_type": "code",
   "execution_count": null,
   "metadata": {
    "id": "ZzsCmu6bXXpV"
   },
   "outputs": [],
   "source": [
    "import SimpleITK as sitk"
   ]
  },
  {
   "cell_type": "code",
   "execution_count": null,
   "metadata": {
    "id": "62wrZ8jeXf9K"
   },
   "outputs": [],
   "source": [
    "run gui.py"
   ]
  },
  {
   "cell_type": "markdown",
   "metadata": {
    "id": "jq5sTyIeX_7S"
   },
   "source": [
    "Utility Functions"
   ]
  },
  {
   "cell_type": "code",
   "execution_count": null,
   "metadata": {
    "id": "ToDA2qs7X8q8"
   },
   "outputs": [],
   "source": [
    "%matplotlib inline\n",
    "import matplotlib.pyplot as plt\n",
    "\n",
    "from ipywidgets import interact, fixed\n",
    "from IPython.display import clear_output\n",
    "\n",
    "# Callback invoked by the interact IPython method for scrolling through the image stacks of\n",
    "# the two images (moving and fixed).\n",
    "def display_images(fixed_image_z, moving_image_z, fixed_npa, moving_npa):\n",
    "    # Create a figure with two subplots and the specified size.\n",
    "    plt.subplots(1,2,figsize=(10,8))\n",
    "    \n",
    "    # Draw the fixed image in the first subplot.\n",
    "    plt.subplot(1,2,1)\n",
    "    plt.imshow(fixed_npa[fixed_image_z,:,:],cmap=plt.cm.Greys_r);\n",
    "    plt.title('fixed image')\n",
    "    plt.axis('off')\n",
    "    \n",
    "    # Draw the moving image in the second subplot.\n",
    "    plt.subplot(1,2,2)\n",
    "    plt.imshow(moving_npa[moving_image_z,:,:],cmap=plt.cm.Greys_r);\n",
    "    plt.title('moving image')\n",
    "    plt.axis('off')\n",
    "    \n",
    "    plt.show()\n",
    "\n",
    "# Callback invoked by the IPython interact method for scrolling and modifying the alpha blending\n",
    "# of an image stack of two images that occupy the same physical space. \n",
    "def display_images_with_alpha(image_z, alpha, fixed, moving):\n",
    "    img = (1.0 - alpha)*fixed[:,:,image_z] + alpha*moving[:,:,image_z] \n",
    "    plt.imshow(sitk.GetArrayViewFromImage(img),cmap=plt.cm.Greys_r);\n",
    "    plt.axis('off')\n",
    "    plt.show()\n",
    "    \n",
    "# Callback invoked when the StartEvent happens, sets up our new data.\n",
    "def start_plot():\n",
    "    global metric_values, multires_iterations\n",
    "    \n",
    "    metric_values = []\n",
    "    multires_iterations = []\n",
    "\n",
    "# Callback invoked when the EndEvent happens, do cleanup of data and figure.\n",
    "def end_plot():\n",
    "    global metric_values, multires_iterations\n",
    "    \n",
    "    del metric_values\n",
    "    del multires_iterations\n",
    "    # Close figure, we don't want to get a duplicate of the plot latter on.\n",
    "    plt.close()\n",
    "\n",
    "# Callback invoked when the IterationEvent happens, update our data and display new figure.\n",
    "def plot_values(registration_method):\n",
    "    global metric_values, multires_iterations\n",
    "    \n",
    "    metric_values.append(registration_method.GetMetricValue())                                       \n",
    "    # Clear the output area (wait=True, to reduce flickering), and plot current data\n",
    "    clear_output(wait=True)\n",
    "    # Plot the similarity metric values\n",
    "    plt.plot(metric_values, 'r')\n",
    "    plt.plot(multires_iterations, [metric_values[index] for index in multires_iterations], 'b*')\n",
    "    plt.xlabel('Iteration Number',fontsize=12)\n",
    "    plt.ylabel('Metric Value',fontsize=12)\n",
    "    plt.show()\n",
    "    \n",
    "# Callback invoked when the sitkMultiResolutionIterationEvent happens, update the index into the \n",
    "# metric_values list. \n",
    "def update_multires_iterations():\n",
    "    global metric_values, multires_iterations\n",
    "    multires_iterations.append(len(metric_values))"
   ]
  },
  {
   "cell_type": "code",
   "execution_count": null,
   "metadata": {
    "id": "_AJ9k1mXYK9S"
   },
   "outputs": [],
   "source": [
    "fixed_image =  sitk.ReadImage(\"bar.nii.gz\", sitk.sitkFloat32)\n",
    "moving_image = sitk.ReadImage(\"mr_brain_stripped.nii\", sitk.sitkFloat32) "
   ]
  },
  {
   "cell_type": "code",
   "execution_count": null,
   "metadata": {
    "colab": {
     "base_uri": "https://localhost:8080/",
     "height": 365,
     "referenced_widgets": [
      "80ab0b3d4fef4982868fb5fc1b8b7b33",
      "c7a4fab7605a495599f910972ea9a62e",
      "2ed5147919844ba2b25f2426fb5b0e30",
      "9103acd82f234e5d9ca773123c6ae7d7",
      "1c1ad338f4c14d70b8237441aad3aa01",
      "463010b4e61d457196cca85f0e4dc9c6",
      "3365adc3025e4b7e82c5336a15d224ed",
      "ebac36b02e2b49bbaeab0f48372afa7e",
      "22bc59bac2154d21b41285d807256d06",
      "55abf5fe9a73416195092d0fa80516a6"
     ]
    },
    "id": "EqA_E6hcYqKo",
    "outputId": "af18cada-6697-4b80-e6b4-1bf4efe07bf4"
   },
   "outputs": [
    {
     "data": {
      "application/vnd.jupyter.widget-view+json": {
       "model_id": "80ab0b3d4fef4982868fb5fc1b8b7b33",
       "version_major": 2,
       "version_minor": 0
      },
      "text/plain": [
       "interactive(children=(IntSlider(value=14, description='fixed_image_z', max=28), IntSlider(value=12, descriptio…"
      ]
     },
     "metadata": {},
     "output_type": "display_data"
    }
   ],
   "source": [
    "interact(display_images, fixed_image_z=(0,fixed_image.GetSize()[2]-1), moving_image_z=(0,moving_image.GetSize()[2]-1), fixed_npa = fixed(sitk.GetArrayViewFromImage(fixed_image)), moving_npa=fixed(sitk.GetArrayViewFromImage(moving_image)));"
   ]
  },
  {
   "cell_type": "code",
   "execution_count": null,
   "metadata": {
    "id": "Y8DF7sZjaOC6"
   },
   "outputs": [],
   "source": [
    "initial_transform = sitk.CenteredTransformInitializer(fixed_image, \n",
    "                                                      moving_image, \n",
    "                                                      sitk.Euler3DTransform(), \n",
    "                                                      sitk.CenteredTransformInitializerFilter.GEOMETRY)\n",
    "\n",
    "moving_resampled = sitk.Resample(moving_image, fixed_image, initial_transform, sitk.sitkLinear, 0.0, moving_image.GetPixelID())"
   ]
  },
  {
   "cell_type": "code",
   "execution_count": null,
   "metadata": {
    "colab": {
     "base_uri": "https://localhost:8080/",
     "height": 282
    },
    "id": "9bgCRmzJacRv",
    "outputId": "874bd061-3142-4a02-c66b-8e7af046ceee"
   },
   "outputs": [
    {
     "data": {
      "image/png": "[encoded data removed]",
      "text/plain": [
       "<Figure size 432x288 with 1 Axes>"
      ]
     },
     "metadata": {
      "needs_background": "light"
     },
     "output_type": "display_data"
    }
   ],
   "source": [
    "registration_method = sitk.ImageRegistrationMethod()\n",
    "\n",
    "# Similarity metric settings.\n",
    "registration_method.SetMetricAsMattesMutualInformation(numberOfHistogramBins=50)\n",
    "registration_method.SetMetricSamplingStrategy(registration_method.RANDOM)\n",
    "registration_method.SetMetricSamplingPercentage(0.01)\n",
    "\n",
    "registration_method.SetInterpolator(sitk.sitkLinear)\n",
    "\n",
    "# Optimizer settings.\n",
    "registration_method.SetOptimizerAsGradientDescent(learningRate=1.0, numberOfIterations=100, convergenceMinimumValue=1e-6, convergenceWindowSize=10)\n",
    "registration_method.SetOptimizerScalesFromPhysicalShift()\n",
    "\n",
    "# Setup for the multi-resolution framework.            \n",
    "registration_method.SetShrinkFactorsPerLevel(shrinkFactors = [4,2,1])\n",
    "registration_method.SetSmoothingSigmasPerLevel(smoothingSigmas=[2,1,0])\n",
    "registration_method.SmoothingSigmasAreSpecifiedInPhysicalUnitsOn()\n",
    "\n",
    "# Don't optimize in-place, we would possibly like to run this cell multiple times.\n",
    "registration_method.SetInitialTransform(initial_transform, inPlace=False)\n",
    "\n",
    "# Connect all of the observers so that we can perform plotting during registration.\n",
    "registration_method.AddCommand(sitk.sitkStartEvent, start_plot)\n",
    "registration_method.AddCommand(sitk.sitkEndEvent, end_plot)\n",
    "registration_method.AddCommand(sitk.sitkMultiResolutionIterationEvent, update_multires_iterations) \n",
    "registration_method.AddCommand(sitk.sitkIterationEvent, lambda: plot_values(registration_method))\n",
    "\n",
    "final_transform = registration_method.Execute(sitk.Cast(fixed_image, sitk.sitkFloat32), \n",
    "                                               sitk.Cast(moving_image, sitk.sitkFloat32))"
   ]
  },
  {
   "cell_type": "code",
   "execution_count": null,
   "metadata": {
    "colab": {
     "base_uri": "https://localhost:8080/"
    },
    "id": "mlbHBFyOajHe",
    "outputId": "7e71519d-01ad-4bdd-b06b-c2c8cc8927ab"
   },
   "outputs": [
    {
     "name": "stdout",
     "output_type": "stream",
     "text": [
      "Final metric value: -0.31025369247173257\n",
      "Optimizer's stopping condition, GradientDescentOptimizerv4Template: Convergence checker passed at iteration 9.\n"
     ]
    }
   ],
   "source": [
    "print('Final metric value: {0}'.format(registration_method.GetMetricValue()))\n",
    "print('Optimizer\\'s stopping condition, {0}'.format(registration_method.GetOptimizerStopConditionDescription()))"
   ]
  },
  {
   "cell_type": "code",
   "execution_count": null,
   "metadata": {
    "colab": {
     "base_uri": "https://localhost:8080/",
     "height": 312,
     "referenced_widgets": [
      "730540fe130c4315a987e5d8efbaf467",
      "ac8267e82eaf44ab9c5f99302e9e2c37",
      "18412980f9124dbaa73fa17697a61b75",
      "426f3cb2f14f4a0b8728c34315539c31",
      "0658245671444444a90b98f0b75c94ea",
      "f15ec2c374264b7197e2ca97ac57655b",
      "89e46b80b34b4cb69a9f234199a47938",
      "2d1464d763d04549adfc095f99963f8e",
      "7d932297f10c42438c04c9e1b4e848d6",
      "41012f7a19b043cdb10bd9e07ebc88ae"
     ]
    },
    "id": "RgGoCBkJavur",
    "outputId": "981456fb-bb05-4ff3-bf86-ef706904fa86"
   },
   "outputs": [
    {
     "data": {
      "application/vnd.jupyter.widget-view+json": {
       "model_id": "730540fe130c4315a987e5d8efbaf467",
       "version_major": 2,
       "version_minor": 0
      },
      "text/plain": [
       "interactive(children=(IntSlider(value=14, description='image_z', max=28), FloatSlider(value=0.5, description='…"
      ]
     },
     "metadata": {},
     "output_type": "display_data"
    }
   ],
   "source": [
    "moving_resampled = sitk.Resample(moving_image, fixed_image, final_transform, sitk.sitkLinear, 0.0, moving_image.GetPixelID())\n",
    "\n",
    "interact(display_images_with_alpha, image_z=(0,fixed_image.GetSize()[2] - 1), alpha=(0.0,1.0,0.05), fixed = fixed(fixed_image), moving=fixed(moving_resampled));"
   ]
  },
  {
   "cell_type": "code",
   "execution_count": null,
   "metadata": {
    "colab": {
     "base_uri": "https://localhost:8080/"
    },
    "id": "b1_j0yikbCZq",
    "outputId": "bdedfd3b-2e1c-4c84-f8af-0953ea503840"
   },
   "outputs": [
    {
     "name": "stdout",
     "output_type": "stream",
     "text": [
      "itk::simple::Transform\n",
      " CompositeTransform (0x55648c4f2580)\n",
      "   RTTI typeinfo:   itk::CompositeTransform<double, 3u>\n",
      "   Reference Count: 1\n",
      "   Modified Time: 182508\n",
      "   Debug: Off\n",
      "   Object Name: \n",
      "   Observers: \n",
      "     none\n",
      "   Transforms in queue, from begin to end:\n",
      "   >>>>>>>>>\n",
      "   Euler3DTransform (0x55648c4f01e0)\n",
      "     RTTI typeinfo:   itk::Euler3DTransform<double>\n",
      "     Reference Count: 1\n",
      "     Modified Time: 182349\n",
      "     Debug: Off\n",
      "     Object Name: \n",
      "     Observers: \n",
      "       none\n",
      "     Matrix: \n",
      "       0.999907 0.0122039 -0.00611916 \n",
      "       -0.0121024 0.999793 0.0163617 \n",
      "       0.00631757 -0.0162861 0.999847 \n",
      "     Offset: [17.0798, -29.2546, -24.2684]\n",
      "     Center: [166.994, 166.994, 56]\n",
      "     Translation: [18.7596, -30.3939, -25.9416]\n",
      "     Inverse: \n",
      "       0.999907 -0.0121024 0.00631757 \n",
      "       0.0122039 0.999793 -0.0162861 \n",
      "       -0.00611916 0.0163617 0.999847 \n",
      "     Singular: 0\n",
      "     Euler's angles: AngleX=-0.0162868 AngleY=-0.00631845 AngleZ=-0.0122059\n",
      "     m_ComputeZYX = 0\n",
      "   End of MultiTransform.\n",
      "<<<<<<<<<<\n",
      "   TransformsToOptimizeFlags, begin() to end(): \n",
      "      1 \n",
      "   TransformsToOptimize in queue, from begin to end:\n",
      "   End of TransformsToOptimizeQueue.\n",
      "<<<<<<<<<<\n",
      "   End of CompositeTransform.\n",
      "<<<<<<<<<<\n",
      "\n"
     ]
    }
   ],
   "source": [
    "print(final_transform)"
   ]
  },
  {
   "cell_type": "markdown",
   "metadata": {
    "id": "xmpfWqhnQaOu"
   },
   "source": [
    "\n",
    "\n",
    "\n",
    "\n",
    "\n",
    "# REFERENCES"
   ]
  },
  {
   "cell_type": "markdown",
   "metadata": {
    "id": "aPFZOiw4fY5d"
   },
   "source": [
    "https://gist.github.com/vfmatzkin/7987a6edf034d28427696e1fabbb2979"
   ]
  },
  {
   "cell_type": "markdown",
   "metadata": {
    "id": "sJbb3FjSfllN"
   },
   "source": [
    "https://nipype.readthedocs.io/en/0.12.1/users/interface_tutorial.html"
   ]
  },
  {
   "cell_type": "markdown",
   "metadata": {
    "id": "THkaqdXwguTZ"
   },
   "source": [
    "https://nilearn.github.io/stable/plotting/index.html"
   ]
  },
  {
   "cell_type": "markdown",
   "metadata": {
    "id": "M7RVnI356QZR"
   },
   "source": [
    "# Surface Registration"
   ]
  },
  {
   "cell_type": "code",
   "execution_count": null,
   "metadata": {
    "colab": {
     "base_uri": "https://localhost:8080/"
    },
    "id": "FQwbQn_V8-1y",
    "outputId": "a50e4f83-407b-459b-fda4-292317d58f19"
   },
   "outputs": [
    {
     "name": "stdout",
     "output_type": "stream",
     "text": [
      "Collecting itk\n",
      "  Downloading itk-5.2.1.post1-cp37-cp37m-manylinux2014_x86_64.whl (8.3 kB)\n",
      "Collecting itk-registration==5.2.1.post1\n",
      "  Downloading itk_registration-5.2.1.post1-cp37-cp37m-manylinux_2_17_x86_64.manylinux2014_x86_64.whl (20.3 MB)\n",
      "\u001b[K     |████████████████████████████████| 20.3 MB 1.2 MB/s \n",
      "\u001b[?25hCollecting itk-numerics==5.2.1.post1\n",
      "  Downloading itk_numerics-5.2.1.post1-cp37-cp37m-manylinux_2_17_x86_64.manylinux2014_x86_64.whl (54.5 MB)\n",
      "\u001b[K     |████████████████████████████████| 54.5 MB 26 kB/s \n",
      "\u001b[?25hCollecting itk-segmentation==5.2.1.post1\n",
      "  Downloading itk_segmentation-5.2.1.post1-cp37-cp37m-manylinux_2_17_x86_64.manylinux2014_x86_64.whl (16.6 MB)\n",
      "\u001b[K     |████████████████████████████████| 16.6 MB 807 kB/s \n",
      "\u001b[?25hCollecting itk-filtering==5.2.1.post1\n",
      "  Downloading itk_filtering-5.2.1.post1-cp37-cp37m-manylinux_2_17_x86_64.manylinux2014_x86_64.whl (95.3 MB)\n",
      "\u001b[K     |████████████████████████████████| 95.3 MB 36 kB/s \n",
      "\u001b[?25hCollecting itk-core==5.2.1.post1\n",
      "  Downloading itk_core-5.2.1.post1-cp37-cp37m-manylinux_2_17_x86_64.manylinux2014_x86_64.whl (70.6 MB)\n",
      "\u001b[K     |████████████████████████████████| 70.6 MB 8.3 kB/s \n",
      "\u001b[?25hRequirement already satisfied: numpy in /usr/local/lib/python3.7/dist-packages (from itk) (1.19.5)\n",
      "Collecting itk-io==5.2.1.post1\n",
      "  Downloading itk_io-5.2.1.post1-cp37-cp37m-manylinux_2_17_x86_64.manylinux2014_x86_64.whl (15.0 MB)\n",
      "\u001b[K     |████████████████████████████████| 15.0 MB 329 kB/s \n",
      "\u001b[?25hInstalling collected packages: itk-core, itk-numerics, itk-filtering, itk-segmentation, itk-registration, itk-io, itk\n",
      "Successfully installed itk-5.2.1.post1 itk-core-5.2.1.post1 itk-filtering-5.2.1.post1 itk-io-5.2.1.post1 itk-numerics-5.2.1.post1 itk-registration-5.2.1.post1 itk-segmentation-5.2.1.post1\n"
     ]
    }
   ],
   "source": [
    "!pip install itk"
   ]
  },
  {
   "cell_type": "code",
   "execution_count": null,
   "metadata": {
    "id": "pXb6TibO6Wdo"
   },
   "outputs": [],
   "source": [
    "import itk\n",
    "#itk.ImageToMeshFilter(\"mr_brain_stripped.nii\",\"output.nii.gz\")"
   ]
  },
  {
   "cell_type": "code",
   "execution_count": null,
   "metadata": {
    "id": "61MteC63bq5i"
   },
   "outputs": [],
   "source": [
    "import SimpleITK as sitk\n",
    "import numpy as np\n",
    "import os\n",
    "import cv2\n",
    "b = sitk.GetArrayFromImage(sitk.ReadImage(\"bacteria.mha\"))\n",
    "\n",
    "for i in range(len(b)):\n",
    "    cv2.imwrite('img'+str(i)+'.jpg',b[i])"
   ]
  }
 ],
 "metadata": {
  "colab": {
   "name": "SCULLSTRIPPING.ipynb",
   "provenance": []
  },
  "kernelspec": {
   "display_name": "Python 3 (ipykernel)",
   "language": "python",
   "name": "python3"
  },
  "language_info": {
   "codemirror_mode": {
    "name": "ipython",
    "version": 3
   },
   "file_extension": ".py",
   "mimetype": "text/x-python",
   "name": "python",
   "nbconvert_exporter": "python",
   "pygments_lexer": "ipython3",
   "version": "3.9.7"
  },
  "widgets": {
   "application/vnd.jupyter.widget-state+json": {
    "0658245671444444a90b98f0b75c94ea": {
     "model_module": "@jupyter-widgets/output",
     "model_module_version": "1.0.0",
     "model_name": "OutputModel",
     "state": {
      "_dom_classes": [],
      "_model_module": "@jupyter-widgets/output",
      "_model_module_version": "1.0.0",
      "_model_name": "OutputModel",
      "_view_count": null,
      "_view_module": "@jupyter-widgets/output",
      "_view_module_version": "1.0.0",
      "_view_name": "OutputView",
      "layout": "IPY_MODEL_41012f7a19b043cdb10bd9e07ebc88ae",
      "msg_id": "",
      "outputs": [
       {
        "data": {
         "image/png": "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\n",
         "text/plain": "<Figure size 432x288 with 1 Axes>"
        },
        "metadata": {
         "needs_background": "light"
        },
        "output_type": "display_data"
       }
      ]
     }
    },
    "18412980f9124dbaa73fa17697a61b75": {
     "model_module": "@jupyter-widgets/controls",
     "model_module_version": "1.5.0",
     "model_name": "IntSliderModel",
     "state": {
      "_dom_classes": [],
      "_model_module": "@jupyter-widgets/controls",
      "_model_module_version": "1.5.0",
      "_model_name": "IntSliderModel",
      "_view_count": null,
      "_view_module": "@jupyter-widgets/controls",
      "_view_module_version": "1.5.0",
      "_view_name": "IntSliderView",
      "continuous_update": true,
      "description": "image_z",
      "description_tooltip": null,
      "disabled": false,
      "layout": "IPY_MODEL_89e46b80b34b4cb69a9f234199a47938",
      "max": 28,
      "min": 0,
      "orientation": "horizontal",
      "readout": true,
      "readout_format": "d",
      "step": 1,
      "style": "IPY_MODEL_f15ec2c374264b7197e2ca97ac57655b",
      "value": 14
     }
    },
    "1c1ad338f4c14d70b8237441aad3aa01": {
     "model_module": "@jupyter-widgets/output",
     "model_module_version": "1.0.0",
     "model_name": "OutputModel",
     "state": {
      "_dom_classes": [],
      "_model_module": "@jupyter-widgets/output",
      "_model_module_version": "1.0.0",
      "_model_name": "OutputModel",
      "_view_count": null,
      "_view_module": "@jupyter-widgets/output",
      "_view_module_version": "1.0.0",
      "_view_name": "OutputView",
      "layout": "IPY_MODEL_55abf5fe9a73416195092d0fa80516a6",
      "msg_id": "",
      "outputs": [
       {
        "data": {
         "image/png": "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\n",
         "text/plain": "<Figure size 720x576 with 2 Axes>"
        },
        "metadata": {
         "needs_background": "light"
        },
        "output_type": "display_data"
       }
      ]
     }
    },
    "22bc59bac2154d21b41285d807256d06": {
     "model_module": "@jupyter-widgets/base",
     "model_module_version": "1.2.0",
     "model_name": "LayoutModel",
     "state": {
      "_model_module": "@jupyter-widgets/base",
      "_model_module_version": "1.2.0",
      "_model_name": "LayoutModel",
      "_view_count": null,
      "_view_module": "@jupyter-widgets/base",
      "_view_module_version": "1.2.0",
      "_view_name": "LayoutView",
      "align_content": null,
      "align_items": null,
      "align_self": null,
      "border": null,
      "bottom": null,
      "display": null,
      "flex": null,
      "flex_flow": null,
      "grid_area": null,
      "grid_auto_columns": null,
      "grid_auto_flow": null,
      "grid_auto_rows": null,
      "grid_column": null,
      "grid_gap": null,
      "grid_row": null,
      "grid_template_areas": null,
      "grid_template_columns": null,
      "grid_template_rows": null,
      "height": null,
      "justify_content": null,
      "justify_items": null,
      "left": null,
      "margin": null,
      "max_height": null,
      "max_width": null,
      "min_height": null,
      "min_width": null,
      "object_fit": null,
      "object_position": null,
      "order": null,
      "overflow": null,
      "overflow_x": null,
      "overflow_y": null,
      "padding": null,
      "right": null,
      "top": null,
      "visibility": null,
      "width": null
     }
    },
    "2d1464d763d04549adfc095f99963f8e": {
     "model_module": "@jupyter-widgets/controls",
     "model_module_version": "1.5.0",
     "model_name": "SliderStyleModel",
     "state": {
      "_model_module": "@jupyter-widgets/controls",
      "_model_module_version": "1.5.0",
      "_model_name": "SliderStyleModel",
      "_view_count": null,
      "_view_module": "@jupyter-widgets/base",
      "_view_module_version": "1.2.0",
      "_view_name": "StyleView",
      "description_width": "",
      "handle_color": null
     }
    },
    "2ed5147919844ba2b25f2426fb5b0e30": {
     "model_module": "@jupyter-widgets/controls",
     "model_module_version": "1.5.0",
     "model_name": "IntSliderModel",
     "state": {
      "_dom_classes": [],
      "_model_module": "@jupyter-widgets/controls",
      "_model_module_version": "1.5.0",
      "_model_name": "IntSliderModel",
      "_view_count": null,
      "_view_module": "@jupyter-widgets/controls",
      "_view_module_version": "1.5.0",
      "_view_name": "IntSliderView",
      "continuous_update": true,
      "description": "fixed_image_z",
      "description_tooltip": null,
      "disabled": false,
      "layout": "IPY_MODEL_3365adc3025e4b7e82c5336a15d224ed",
      "max": 28,
      "min": 0,
      "orientation": "horizontal",
      "readout": true,
      "readout_format": "d",
      "step": 1,
      "style": "IPY_MODEL_463010b4e61d457196cca85f0e4dc9c6",
      "value": 22
     }
    },
    "3365adc3025e4b7e82c5336a15d224ed": {
     "model_module": "@jupyter-widgets/base",
     "model_module_version": "1.2.0",
     "model_name": "LayoutModel",
     "state": {
      "_model_module": "@jupyter-widgets/base",
      "_model_module_version": "1.2.0",
      "_model_name": "LayoutModel",
      "_view_count": null,
      "_view_module": "@jupyter-widgets/base",
      "_view_module_version": "1.2.0",
      "_view_name": "LayoutView",
      "align_content": null,
      "align_items": null,
      "align_self": null,
      "border": null,
      "bottom": null,
      "display": null,
      "flex": null,
      "flex_flow": null,
      "grid_area": null,
      "grid_auto_columns": null,
      "grid_auto_flow": null,
      "grid_auto_rows": null,
      "grid_column": null,
      "grid_gap": null,
      "grid_row": null,
      "grid_template_areas": null,
      "grid_template_columns": null,
      "grid_template_rows": null,
      "height": null,
      "justify_content": null,
      "justify_items": null,
      "left": null,
      "margin": null,
      "max_height": null,
      "max_width": null,
      "min_height": null,
      "min_width": null,
      "object_fit": null,
      "object_position": null,
      "order": null,
      "overflow": null,
      "overflow_x": null,
      "overflow_y": null,
      "padding": null,
      "right": null,
      "top": null,
      "visibility": null,
      "width": null
     }
    },
    "41012f7a19b043cdb10bd9e07ebc88ae": {
     "model_module": "@jupyter-widgets/base",
     "model_module_version": "1.2.0",
     "model_name": "LayoutModel",
     "state": {
      "_model_module": "@jupyter-widgets/base",
      "_model_module_version": "1.2.0",
      "_model_name": "LayoutModel",
      "_view_count": null,
      "_view_module": "@jupyter-widgets/base",
      "_view_module_version": "1.2.0",
      "_view_name": "LayoutView",
      "align_content": null,
      "align_items": null,
      "align_self": null,
      "border": null,
      "bottom": null,
      "display": null,
      "flex": null,
      "flex_flow": null,
      "grid_area": null,
      "grid_auto_columns": null,
      "grid_auto_flow": null,
      "grid_auto_rows": null,
      "grid_column": null,
      "grid_gap": null,
      "grid_row": null,
      "grid_template_areas": null,
      "grid_template_columns": null,
      "grid_template_rows": null,
      "height": null,
      "justify_content": null,
      "justify_items": null,
      "left": null,
      "margin": null,
      "max_height": null,
      "max_width": null,
      "min_height": null,
      "min_width": null,
      "object_fit": null,
      "object_position": null,
      "order": null,
      "overflow": null,
      "overflow_x": null,
      "overflow_y": null,
      "padding": null,
      "right": null,
      "top": null,
      "visibility": null,
      "width": null
     }
    },
    "426f3cb2f14f4a0b8728c34315539c31": {
     "model_module": "@jupyter-widgets/controls",
     "model_module_version": "1.5.0",
     "model_name": "FloatSliderModel",
     "state": {
      "_dom_classes": [],
      "_model_module": "@jupyter-widgets/controls",
      "_model_module_version": "1.5.0",
      "_model_name": "FloatSliderModel",
      "_view_count": null,
      "_view_module": "@jupyter-widgets/controls",
      "_view_module_version": "1.5.0",
      "_view_name": "FloatSliderView",
      "continuous_update": true,
      "description": "alpha",
      "description_tooltip": null,
      "disabled": false,
      "layout": "IPY_MODEL_7d932297f10c42438c04c9e1b4e848d6",
      "max": 1,
      "min": 0,
      "orientation": "horizontal",
      "readout": true,
      "readout_format": ".2f",
      "step": 0.05,
      "style": "IPY_MODEL_2d1464d763d04549adfc095f99963f8e",
      "value": 0.75
     }
    },
    "463010b4e61d457196cca85f0e4dc9c6": {
     "model_module": "@jupyter-widgets/controls",
     "model_module_version": "1.5.0",
     "model_name": "SliderStyleModel",
     "state": {
      "_model_module": "@jupyter-widgets/controls",
      "_model_module_version": "1.5.0",
      "_model_name": "SliderStyleModel",
      "_view_count": null,
      "_view_module": "@jupyter-widgets/base",
      "_view_module_version": "1.2.0",
      "_view_name": "StyleView",
      "description_width": "",
      "handle_color": null
     }
    },
    "55abf5fe9a73416195092d0fa80516a6": {
     "model_module": "@jupyter-widgets/base",
     "model_module_version": "1.2.0",
     "model_name": "LayoutModel",
     "state": {
      "_model_module": "@jupyter-widgets/base",
      "_model_module_version": "1.2.0",
      "_model_name": "LayoutModel",
      "_view_count": null,
      "_view_module": "@jupyter-widgets/base",
      "_view_module_version": "1.2.0",
      "_view_name": "LayoutView",
      "align_content": null,
      "align_items": null,
      "align_self": null,
      "border": null,
      "bottom": null,
      "display": null,
      "flex": null,
      "flex_flow": null,
      "grid_area": null,
      "grid_auto_columns": null,
      "grid_auto_flow": null,
      "grid_auto_rows": null,
      "grid_column": null,
      "grid_gap": null,
      "grid_row": null,
      "grid_template_areas": null,
      "grid_template_columns": null,
      "grid_template_rows": null,
      "height": null,
      "justify_content": null,
      "justify_items": null,
      "left": null,
      "margin": null,
      "max_height": null,
      "max_width": null,
      "min_height": null,
      "min_width": null,
      "object_fit": null,
      "object_position": null,
      "order": null,
      "overflow": null,
      "overflow_x": null,
      "overflow_y": null,
      "padding": null,
      "right": null,
      "top": null,
      "visibility": null,
      "width": null
     }
    },
    "730540fe130c4315a987e5d8efbaf467": {
     "model_module": "@jupyter-widgets/controls",
     "model_module_version": "1.5.0",
     "model_name": "VBoxModel",
     "state": {
      "_dom_classes": [
       "widget-interact"
      ],
      "_model_module": "@jupyter-widgets/controls",
      "_model_module_version": "1.5.0",
      "_model_name": "VBoxModel",
      "_view_count": null,
      "_view_module": "@jupyter-widgets/controls",
      "_view_module_version": "1.5.0",
      "_view_name": "VBoxView",
      "box_style": "",
      "children": [
       "IPY_MODEL_18412980f9124dbaa73fa17697a61b75",
       "IPY_MODEL_426f3cb2f14f4a0b8728c34315539c31",
       "IPY_MODEL_0658245671444444a90b98f0b75c94ea"
      ],
      "layout": "IPY_MODEL_ac8267e82eaf44ab9c5f99302e9e2c37"
     }
    },
    "7d932297f10c42438c04c9e1b4e848d6": {
     "model_module": "@jupyter-widgets/base",
     "model_module_version": "1.2.0",
     "model_name": "LayoutModel",
     "state": {
      "_model_module": "@jupyter-widgets/base",
      "_model_module_version": "1.2.0",
      "_model_name": "LayoutModel",
      "_view_count": null,
      "_view_module": "@jupyter-widgets/base",
      "_view_module_version": "1.2.0",
      "_view_name": "LayoutView",
      "align_content": null,
      "align_items": null,
      "align_self": null,
      "border": null,
      "bottom": null,
      "display": null,
      "flex": null,
      "flex_flow": null,
      "grid_area": null,
      "grid_auto_columns": null,
      "grid_auto_flow": null,
      "grid_auto_rows": null,
      "grid_column": null,
      "grid_gap": null,
      "grid_row": null,
      "grid_template_areas": null,
      "grid_template_columns": null,
      "grid_template_rows": null,
      "height": null,
      "justify_content": null,
      "justify_items": null,
      "left": null,
      "margin": null,
      "max_height": null,
      "max_width": null,
      "min_height": null,
      "min_width": null,
      "object_fit": null,
      "object_position": null,
      "order": null,
      "overflow": null,
      "overflow_x": null,
      "overflow_y": null,
      "padding": null,
      "right": null,
      "top": null,
      "visibility": null,
      "width": null
     }
    },
    "80ab0b3d4fef4982868fb5fc1b8b7b33": {
     "model_module": "@jupyter-widgets/controls",
     "model_module_version": "1.5.0",
     "model_name": "VBoxModel",
     "state": {
      "_dom_classes": [
       "widget-interact"
      ],
      "_model_module": "@jupyter-widgets/controls",
      "_model_module_version": "1.5.0",
      "_model_name": "VBoxModel",
      "_view_count": null,
      "_view_module": "@jupyter-widgets/controls",
      "_view_module_version": "1.5.0",
      "_view_name": "VBoxView",
      "box_style": "",
      "children": [
       "IPY_MODEL_2ed5147919844ba2b25f2426fb5b0e30",
       "IPY_MODEL_9103acd82f234e5d9ca773123c6ae7d7",
       "IPY_MODEL_1c1ad338f4c14d70b8237441aad3aa01"
      ],
      "layout": "IPY_MODEL_c7a4fab7605a495599f910972ea9a62e"
     }
    },
    "89e46b80b34b4cb69a9f234199a47938": {
     "model_module": "@jupyter-widgets/base",
     "model_module_version": "1.2.0",
     "model_name": "LayoutModel",
     "state": {
      "_model_module": "@jupyter-widgets/base",
      "_model_module_version": "1.2.0",
      "_model_name": "LayoutModel",
      "_view_count": null,
      "_view_module": "@jupyter-widgets/base",
      "_view_module_version": "1.2.0",
      "_view_name": "LayoutView",
      "align_content": null,
      "align_items": null,
      "align_self": null,
      "border": null,
      "bottom": null,
      "display": null,
      "flex": null,
      "flex_flow": null,
      "grid_area": null,
      "grid_auto_columns": null,
      "grid_auto_flow": null,
      "grid_auto_rows": null,
      "grid_column": null,
      "grid_gap": null,
      "grid_row": null,
      "grid_template_areas": null,
      "grid_template_columns": null,
      "grid_template_rows": null,
      "height": null,
      "justify_content": null,
      "justify_items": null,
      "left": null,
      "margin": null,
      "max_height": null,
      "max_width": null,
      "min_height": null,
      "min_width": null,
      "object_fit": null,
      "object_position": null,
      "order": null,
      "overflow": null,
      "overflow_x": null,
      "overflow_y": null,
      "padding": null,
      "right": null,
      "top": null,
      "visibility": null,
      "width": null
     }
    },
    "9103acd82f234e5d9ca773123c6ae7d7": {
     "model_module": "@jupyter-widgets/controls",
     "model_module_version": "1.5.0",
     "model_name": "IntSliderModel",
     "state": {
      "_dom_classes": [],
      "_model_module": "@jupyter-widgets/controls",
      "_model_module_version": "1.5.0",
      "_model_name": "IntSliderModel",
      "_view_count": null,
      "_view_module": "@jupyter-widgets/controls",
      "_view_module_version": "1.5.0",
      "_view_name": "IntSliderView",
      "continuous_update": true,
      "description": "moving_image_z",
      "description_tooltip": null,
      "disabled": false,
      "layout": "IPY_MODEL_22bc59bac2154d21b41285d807256d06",
      "max": 25,
      "min": 0,
      "orientation": "horizontal",
      "readout": true,
      "readout_format": "d",
      "step": 1,
      "style": "IPY_MODEL_ebac36b02e2b49bbaeab0f48372afa7e",
      "value": 15
     }
    },
    "ac8267e82eaf44ab9c5f99302e9e2c37": {
     "model_module": "@jupyter-widgets/base",
     "model_module_version": "1.2.0",
     "model_name": "LayoutModel",
     "state": {
      "_model_module": "@jupyter-widgets/base",
      "_model_module_version": "1.2.0",
      "_model_name": "LayoutModel",
      "_view_count": null,
      "_view_module": "@jupyter-widgets/base",
      "_view_module_version": "1.2.0",
      "_view_name": "LayoutView",
      "align_content": null,
      "align_items": null,
      "align_self": null,
      "border": null,
      "bottom": null,
      "display": null,
      "flex": null,
      "flex_flow": null,
      "grid_area": null,
      "grid_auto_columns": null,
      "grid_auto_flow": null,
      "grid_auto_rows": null,
      "grid_column": null,
      "grid_gap": null,
      "grid_row": null,
      "grid_template_areas": null,
      "grid_template_columns": null,
      "grid_template_rows": null,
      "height": null,
      "justify_content": null,
      "justify_items": null,
      "left": null,
      "margin": null,
      "max_height": null,
      "max_width": null,
      "min_height": null,
      "min_width": null,
      "object_fit": null,
      "object_position": null,
      "order": null,
      "overflow": null,
      "overflow_x": null,
      "overflow_y": null,
      "padding": null,
      "right": null,
      "top": null,
      "visibility": null,
      "width": null
     }
    },
    "c7a4fab7605a495599f910972ea9a62e": {
     "model_module": "@jupyter-widgets/base",
     "model_module_version": "1.2.0",
     "model_name": "LayoutModel",
     "state": {
      "_model_module": "@jupyter-widgets/base",
      "_model_module_version": "1.2.0",
      "_model_name": "LayoutModel",
      "_view_count": null,
      "_view_module": "@jupyter-widgets/base",
      "_view_module_version": "1.2.0",
      "_view_name": "LayoutView",
      "align_content": null,
      "align_items": null,
      "align_self": null,
      "border": null,
      "bottom": null,
      "display": null,
      "flex": null,
      "flex_flow": null,
      "grid_area": null,
      "grid_auto_columns": null,
      "grid_auto_flow": null,
      "grid_auto_rows": null,
      "grid_column": null,
      "grid_gap": null,
      "grid_row": null,
      "grid_template_areas": null,
      "grid_template_columns": null,
      "grid_template_rows": null,
      "height": null,
      "justify_content": null,
      "justify_items": null,
      "left": null,
      "margin": null,
      "max_height": null,
      "max_width": null,
      "min_height": null,
      "min_width": null,
      "object_fit": null,
      "object_position": null,
      "order": null,
      "overflow": null,
      "overflow_x": null,
      "overflow_y": null,
      "padding": null,
      "right": null,
      "top": null,
      "visibility": null,
      "width": null
     }
    },
    "ebac36b02e2b49bbaeab0f48372afa7e": {
     "model_module": "@jupyter-widgets/controls",
     "model_module_version": "1.5.0",
     "model_name": "SliderStyleModel",
     "state": {
      "_model_module": "@jupyter-widgets/controls",
      "_model_module_version": "1.5.0",
      "_model_name": "SliderStyleModel",
      "_view_count": null,
      "_view_module": "@jupyter-widgets/base",
      "_view_module_version": "1.2.0",
      "_view_name": "StyleView",
      "description_width": "",
      "handle_color": null
     }
    },
    "f15ec2c374264b7197e2ca97ac57655b": {
     "model_module": "@jupyter-widgets/controls",
     "model_module_version": "1.5.0",
     "model_name": "SliderStyleModel",
     "state": {
      "_model_module": "@jupyter-widgets/controls",
      "_model_module_version": "1.5.0",
      "_model_name": "SliderStyleModel",
      "_view_count": null,
      "_view_module": "@jupyter-widgets/base",
      "_view_module_version": "1.2.0",
      "_view_name": "StyleView",
      "description_width": "",
      "handle_color": null
     }
    }
   }
  }
 },
 "nbformat": 4,
 "nbformat_minor": 1
}
